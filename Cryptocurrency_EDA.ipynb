{
  "nbformat": 4,
  "nbformat_minor": 0,
  "metadata": {
    "kernelspec": {
      "display_name": "Python 3",
      "language": "python",
      "name": "python3"
    },
    "language_info": {
      "codemirror_mode": {
        "name": "ipython",
        "version": 3
      },
      "file_extension": ".py",
      "mimetype": "text/x-python",
      "name": "python",
      "nbconvert_exporter": "python",
      "pygments_lexer": "ipython3",
      "version": "3.8.5"
    },
    "colab": {
      "name": "Copy of Cryptocurrency EDA.ipynb",
      "provenance": [],
      "collapsed_sections": [
        "1EL0omynC_py",
        "gO67SueBC_p2"
      ],
      "include_colab_link": true
    }
  },
  "cells": [
    {
      "cell_type": "markdown",
      "metadata": {
        "id": "view-in-github",
        "colab_type": "text"
      },
      "source": [
        "<a href=\"https://colab.research.google.com/github/aashu26698/Cryptocurrencies-AnInfographic/blob/main/Cryptocurrency_EDA.ipynb\" target=\"_parent\"><img src=\"https://colab.research.google.com/assets/colab-badge.svg\" alt=\"Open In Colab\"/></a>"
      ]
    },
    {
      "cell_type": "markdown",
      "metadata": {
        "id": "JTQ-MOTnC_pl"
      },
      "source": [
        "### Importing Pandas Library."
      ]
    },
    {
      "cell_type": "code",
      "metadata": {
        "id": "tvM5AGeqC_po"
      },
      "source": [
        "import pandas as pd\n",
        "import matplotlib.pyplot as plt\n",
        "import seaborn as sns"
      ],
      "execution_count": null,
      "outputs": []
    },
    {
      "cell_type": "markdown",
      "metadata": {
        "id": "_f93COaEC_pp"
      },
      "source": [
        "### Loading Data. "
      ]
    },
    {
      "cell_type": "code",
      "metadata": {
        "colab": {
          "base_uri": "https://localhost:8080/"
        },
        "id": "VT57r3fbC_pq",
        "outputId": "8d00ff66-082f-45b4-84d7-a9f93319c908"
      },
      "source": [
        "from google.colab import drive\n",
        "drive.mount('/content/drive')"
      ],
      "execution_count": null,
      "outputs": [
        {
          "output_type": "stream",
          "text": [
            "Drive already mounted at /content/drive; to attempt to forcibly remount, call drive.mount(\"/content/drive\", force_remount=True).\n"
          ],
          "name": "stdout"
        }
      ]
    },
    {
      "cell_type": "code",
      "metadata": {
        "id": "dyZnPycfC_pr"
      },
      "source": [
        "btc = pd.read_csv(\"drive/MyDrive/Project/Crypto data from 2017-2021/BTC/btc_usd_daily.csv\",index_col=\"Date\")\n",
        "eth = pd.read_csv(\"drive/MyDrive/Project/Crypto data from 2017-2021/ETH/eth_usd_daily.csv\",index_col=\"Date\")\n",
        "doge = pd.read_csv(\"drive/MyDrive/Project/Crypto data from 2017-2021/DOGE/doge_usd_daily.csv\",index_col=\"Date\")\n",
        "banks = pd.read_csv(\"drive/MyDrive/Project/Banks/top_50_banks.csv\",index_col=\"Rank\")\n",
        "btc_1year_market_cap = pd.read_csv(\"drive/MyDrive/Project/Market Capital/btc_1year_market_cap.csv\",index_col=\"Date\")\n",
        "eth_1year_market_cap = pd.read_csv(\"drive/MyDrive/Project/Market Capital/eth_1year_market_cap.csv\",index_col=\"Date\")\n",
        "doge_1year_market_cap = pd.read_csv(\"drive/MyDrive/Project/Market Capital/doge_1year_market_cap.csv\",index_col=\"Date\")\n",
        "energy_consumption_countries = pd.read_csv(\"drive/MyDrive/Project/Energy consumption/electricity_consumption_for_countries.csv\",index_col=\"ranking\")\n",
        "energy_consumption_bitcoin = pd.read_csv(\"drive/MyDrive/Project/Energy consumption/bitcoin_mininig_energy_consumption.csv\")\n",
        "sp500_stocks = pd.read_csv(\"drive/MyDrive/Project/S&P500 and DJI/s&p500_2008_to_2010.csv\",index_col=\"Date\")\n",
        "dji_stocks = pd.read_csv(\"drive/MyDrive/Project/S&P500 and DJI/dji_2008_to_2010.csv\",index_col=\"Date\")"
      ],
      "execution_count": null,
      "outputs": []
    },
    {
      "cell_type": "markdown",
      "metadata": {
        "id": "NTCQgsMnC_ps"
      },
      "source": [
        "### Understanding Data."
      ]
    },
    {
      "cell_type": "code",
      "metadata": {
        "colab": {
          "base_uri": "https://localhost:8080/",
          "height": 390
        },
        "id": "OVwffICdC_pt",
        "outputId": "f2eaa4c3-677f-466f-cd73-41c1ac0b5f5f"
      },
      "source": [
        "btc.head(10)"
      ],
      "execution_count": null,
      "outputs": [
        {
          "output_type": "execute_result",
          "data": {
            "text/html": [
              "<div>\n",
              "<style scoped>\n",
              "    .dataframe tbody tr th:only-of-type {\n",
              "        vertical-align: middle;\n",
              "    }\n",
              "\n",
              "    .dataframe tbody tr th {\n",
              "        vertical-align: top;\n",
              "    }\n",
              "\n",
              "    .dataframe thead th {\n",
              "        text-align: right;\n",
              "    }\n",
              "</style>\n",
              "<table border=\"1\" class=\"dataframe\">\n",
              "  <thead>\n",
              "    <tr style=\"text-align: right;\">\n",
              "      <th></th>\n",
              "      <th>Price</th>\n",
              "      <th>Open</th>\n",
              "      <th>High</th>\n",
              "      <th>Low</th>\n",
              "      <th>Vol.</th>\n",
              "      <th>Change %</th>\n",
              "    </tr>\n",
              "    <tr>\n",
              "      <th>Date</th>\n",
              "      <th></th>\n",
              "      <th></th>\n",
              "      <th></th>\n",
              "      <th></th>\n",
              "      <th></th>\n",
              "      <th></th>\n",
              "    </tr>\n",
              "  </thead>\n",
              "  <tbody>\n",
              "    <tr>\n",
              "      <th>25-May-21</th>\n",
              "      <td>38378.3</td>\n",
              "      <td>38753.6</td>\n",
              "      <td>39740.8</td>\n",
              "      <td>36540.7</td>\n",
              "      <td>163.01K</td>\n",
              "      <td>-0.01</td>\n",
              "    </tr>\n",
              "    <tr>\n",
              "      <th>24-May-21</th>\n",
              "      <td>38750.6</td>\n",
              "      <td>34720.3</td>\n",
              "      <td>39851.7</td>\n",
              "      <td>34474.6</td>\n",
              "      <td>244.88K</td>\n",
              "      <td>0.12</td>\n",
              "    </tr>\n",
              "    <tr>\n",
              "      <th>23-May-21</th>\n",
              "      <td>34679.7</td>\n",
              "      <td>37446.8</td>\n",
              "      <td>38248.7</td>\n",
              "      <td>31192.4</td>\n",
              "      <td>325.73K</td>\n",
              "      <td>-0.07</td>\n",
              "    </tr>\n",
              "    <tr>\n",
              "      <th>22-May-21</th>\n",
              "      <td>37448.3</td>\n",
              "      <td>37291.0</td>\n",
              "      <td>38776.0</td>\n",
              "      <td>35314.9</td>\n",
              "      <td>185.83K</td>\n",
              "      <td>0.00</td>\n",
              "    </tr>\n",
              "    <tr>\n",
              "      <th>21-May-21</th>\n",
              "      <td>37297.4</td>\n",
              "      <td>40611.2</td>\n",
              "      <td>42108.3</td>\n",
              "      <td>33592.3</td>\n",
              "      <td>315.50K</td>\n",
              "      <td>-0.08</td>\n",
              "    </tr>\n",
              "    <tr>\n",
              "      <th>20-May-21</th>\n",
              "      <td>40717.2</td>\n",
              "      <td>36706.8</td>\n",
              "      <td>42425.9</td>\n",
              "      <td>35010.4</td>\n",
              "      <td>269.75K</td>\n",
              "      <td>0.11</td>\n",
              "    </tr>\n",
              "    <tr>\n",
              "      <th>19-May-21</th>\n",
              "      <td>36720.5</td>\n",
              "      <td>42898.3</td>\n",
              "      <td>43516.6</td>\n",
              "      <td>30261.7</td>\n",
              "      <td>607.10K</td>\n",
              "      <td>-0.14</td>\n",
              "    </tr>\n",
              "    <tr>\n",
              "      <th>18-May-21</th>\n",
              "      <td>42897.3</td>\n",
              "      <td>43538.5</td>\n",
              "      <td>45770.9</td>\n",
              "      <td>42293.9</td>\n",
              "      <td>154.96K</td>\n",
              "      <td>-0.01</td>\n",
              "    </tr>\n",
              "    <tr>\n",
              "      <th>17-May-21</th>\n",
              "      <td>43541.3</td>\n",
              "      <td>46424.2</td>\n",
              "      <td>46545.4</td>\n",
              "      <td>42201.5</td>\n",
              "      <td>274.76K</td>\n",
              "      <td>-0.06</td>\n",
              "    </tr>\n",
              "    <tr>\n",
              "      <th>16-May-21</th>\n",
              "      <td>46426.4</td>\n",
              "      <td>46729.3</td>\n",
              "      <td>49764.3</td>\n",
              "      <td>43920.8</td>\n",
              "      <td>180.07K</td>\n",
              "      <td>-0.01</td>\n",
              "    </tr>\n",
              "  </tbody>\n",
              "</table>\n",
              "</div>"
            ],
            "text/plain": [
              "             Price     Open     High      Low     Vol.  Change %\n",
              "Date                                                            \n",
              "25-May-21  38378.3  38753.6  39740.8  36540.7  163.01K     -0.01\n",
              "24-May-21  38750.6  34720.3  39851.7  34474.6  244.88K      0.12\n",
              "23-May-21  34679.7  37446.8  38248.7  31192.4  325.73K     -0.07\n",
              "22-May-21  37448.3  37291.0  38776.0  35314.9  185.83K      0.00\n",
              "21-May-21  37297.4  40611.2  42108.3  33592.3  315.50K     -0.08\n",
              "20-May-21  40717.2  36706.8  42425.9  35010.4  269.75K      0.11\n",
              "19-May-21  36720.5  42898.3  43516.6  30261.7  607.10K     -0.14\n",
              "18-May-21  42897.3  43538.5  45770.9  42293.9  154.96K     -0.01\n",
              "17-May-21  43541.3  46424.2  46545.4  42201.5  274.76K     -0.06\n",
              "16-May-21  46426.4  46729.3  49764.3  43920.8  180.07K     -0.01"
            ]
          },
          "metadata": {
            "tags": []
          },
          "execution_count": 44
        }
      ]
    },
    {
      "cell_type": "code",
      "metadata": {
        "colab": {
          "base_uri": "https://localhost:8080/",
          "height": 390
        },
        "id": "wzLHSDu1C_pu",
        "outputId": "1a3ae8d4-514f-4304-92de-454b019ccbf5"
      },
      "source": [
        "eth.head(10)"
      ],
      "execution_count": null,
      "outputs": [
        {
          "output_type": "execute_result",
          "data": {
            "text/html": [
              "<div>\n",
              "<style scoped>\n",
              "    .dataframe tbody tr th:only-of-type {\n",
              "        vertical-align: middle;\n",
              "    }\n",
              "\n",
              "    .dataframe tbody tr th {\n",
              "        vertical-align: top;\n",
              "    }\n",
              "\n",
              "    .dataframe thead th {\n",
              "        text-align: right;\n",
              "    }\n",
              "</style>\n",
              "<table border=\"1\" class=\"dataframe\">\n",
              "  <thead>\n",
              "    <tr style=\"text-align: right;\">\n",
              "      <th></th>\n",
              "      <th>Price</th>\n",
              "      <th>Open</th>\n",
              "      <th>High</th>\n",
              "      <th>Low</th>\n",
              "      <th>Vol.</th>\n",
              "      <th>Change %</th>\n",
              "    </tr>\n",
              "    <tr>\n",
              "      <th>Date</th>\n",
              "      <th></th>\n",
              "      <th></th>\n",
              "      <th></th>\n",
              "      <th></th>\n",
              "      <th></th>\n",
              "      <th></th>\n",
              "    </tr>\n",
              "  </thead>\n",
              "  <tbody>\n",
              "    <tr>\n",
              "      <th>25-May-21</th>\n",
              "      <td>2705.09</td>\n",
              "      <td>2647.27</td>\n",
              "      <td>2747.49</td>\n",
              "      <td>2388.81</td>\n",
              "      <td>3.28M</td>\n",
              "      <td>0.02</td>\n",
              "    </tr>\n",
              "    <tr>\n",
              "      <th>24-May-21</th>\n",
              "      <td>2646.79</td>\n",
              "      <td>2101.30</td>\n",
              "      <td>2667.20</td>\n",
              "      <td>2080.87</td>\n",
              "      <td>3.24M</td>\n",
              "      <td>0.26</td>\n",
              "    </tr>\n",
              "    <tr>\n",
              "      <th>23-May-21</th>\n",
              "      <td>2101.34</td>\n",
              "      <td>2292.68</td>\n",
              "      <td>2379.89</td>\n",
              "      <td>1739.91</td>\n",
              "      <td>3.52M</td>\n",
              "      <td>-0.08</td>\n",
              "    </tr>\n",
              "    <tr>\n",
              "      <th>22-May-21</th>\n",
              "      <td>2291.60</td>\n",
              "      <td>2433.09</td>\n",
              "      <td>2481.06</td>\n",
              "      <td>2162.84</td>\n",
              "      <td>2.82M</td>\n",
              "      <td>-0.06</td>\n",
              "    </tr>\n",
              "    <tr>\n",
              "      <th>21-May-21</th>\n",
              "      <td>2433.11</td>\n",
              "      <td>2766.88</td>\n",
              "      <td>2931.66</td>\n",
              "      <td>2111.42</td>\n",
              "      <td>4.23M</td>\n",
              "      <td>-0.12</td>\n",
              "    </tr>\n",
              "    <tr>\n",
              "      <th>20-May-21</th>\n",
              "      <td>2777.55</td>\n",
              "      <td>2436.59</td>\n",
              "      <td>2988.52</td>\n",
              "      <td>2163.40</td>\n",
              "      <td>4.33M</td>\n",
              "      <td>0.14</td>\n",
              "    </tr>\n",
              "    <tr>\n",
              "      <th>19-May-21</th>\n",
              "      <td>2435.69</td>\n",
              "      <td>3376.22</td>\n",
              "      <td>3434.01</td>\n",
              "      <td>1922.25</td>\n",
              "      <td>6.42M</td>\n",
              "      <td>-0.28</td>\n",
              "    </tr>\n",
              "    <tr>\n",
              "      <th>18-May-21</th>\n",
              "      <td>3377.55</td>\n",
              "      <td>3280.50</td>\n",
              "      <td>3558.57</td>\n",
              "      <td>3244.93</td>\n",
              "      <td>2.30M</td>\n",
              "      <td>0.03</td>\n",
              "    </tr>\n",
              "    <tr>\n",
              "      <th>17-May-21</th>\n",
              "      <td>3279.68</td>\n",
              "      <td>3582.19</td>\n",
              "      <td>3582.27</td>\n",
              "      <td>3130.12</td>\n",
              "      <td>2.85M</td>\n",
              "      <td>-0.08</td>\n",
              "    </tr>\n",
              "    <tr>\n",
              "      <th>16-May-21</th>\n",
              "      <td>3582.12</td>\n",
              "      <td>3643.67</td>\n",
              "      <td>3877.20</td>\n",
              "      <td>3351.92</td>\n",
              "      <td>2.28M</td>\n",
              "      <td>-0.02</td>\n",
              "    </tr>\n",
              "  </tbody>\n",
              "</table>\n",
              "</div>"
            ],
            "text/plain": [
              "             Price     Open     High      Low   Vol.  Change %\n",
              "Date                                                          \n",
              "25-May-21  2705.09  2647.27  2747.49  2388.81  3.28M      0.02\n",
              "24-May-21  2646.79  2101.30  2667.20  2080.87  3.24M      0.26\n",
              "23-May-21  2101.34  2292.68  2379.89  1739.91  3.52M     -0.08\n",
              "22-May-21  2291.60  2433.09  2481.06  2162.84  2.82M     -0.06\n",
              "21-May-21  2433.11  2766.88  2931.66  2111.42  4.23M     -0.12\n",
              "20-May-21  2777.55  2436.59  2988.52  2163.40  4.33M      0.14\n",
              "19-May-21  2435.69  3376.22  3434.01  1922.25  6.42M     -0.28\n",
              "18-May-21  3377.55  3280.50  3558.57  3244.93  2.30M      0.03\n",
              "17-May-21  3279.68  3582.19  3582.27  3130.12  2.85M     -0.08\n",
              "16-May-21  3582.12  3643.67  3877.20  3351.92  2.28M     -0.02"
            ]
          },
          "metadata": {
            "tags": []
          },
          "execution_count": 45
        }
      ]
    },
    {
      "cell_type": "code",
      "metadata": {
        "colab": {
          "base_uri": "https://localhost:8080/",
          "height": 390
        },
        "id": "gL5Nvj05C_pv",
        "outputId": "2c935ad8-31e4-488b-dd50-ee1474d1918a"
      },
      "source": [
        "doge.tail(10)"
      ],
      "execution_count": null,
      "outputs": [
        {
          "output_type": "execute_result",
          "data": {
            "text/html": [
              "<div>\n",
              "<style scoped>\n",
              "    .dataframe tbody tr th:only-of-type {\n",
              "        vertical-align: middle;\n",
              "    }\n",
              "\n",
              "    .dataframe tbody tr th {\n",
              "        vertical-align: top;\n",
              "    }\n",
              "\n",
              "    .dataframe thead th {\n",
              "        text-align: right;\n",
              "    }\n",
              "</style>\n",
              "<table border=\"1\" class=\"dataframe\">\n",
              "  <thead>\n",
              "    <tr style=\"text-align: right;\">\n",
              "      <th></th>\n",
              "      <th>Price</th>\n",
              "      <th>Open</th>\n",
              "      <th>High</th>\n",
              "      <th>Low</th>\n",
              "      <th>Vol.</th>\n",
              "      <th>Change %</th>\n",
              "    </tr>\n",
              "    <tr>\n",
              "      <th>Date</th>\n",
              "      <th></th>\n",
              "      <th></th>\n",
              "      <th></th>\n",
              "      <th></th>\n",
              "      <th></th>\n",
              "      <th></th>\n",
              "    </tr>\n",
              "  </thead>\n",
              "  <tbody>\n",
              "    <tr>\n",
              "      <th>12-Jun-17</th>\n",
              "      <td>0.0030</td>\n",
              "      <td>0.0035</td>\n",
              "      <td>0.0035</td>\n",
              "      <td>0.0025</td>\n",
              "      <td>2.42M</td>\n",
              "      <td>-0.1343</td>\n",
              "    </tr>\n",
              "    <tr>\n",
              "      <th>11-Jun-17</th>\n",
              "      <td>0.0035</td>\n",
              "      <td>0.0033</td>\n",
              "      <td>0.0036</td>\n",
              "      <td>0.0032</td>\n",
              "      <td>2.44M</td>\n",
              "      <td>0.0537</td>\n",
              "    </tr>\n",
              "    <tr>\n",
              "      <th>10-Jun-17</th>\n",
              "      <td>0.0033</td>\n",
              "      <td>0.0034</td>\n",
              "      <td>0.0036</td>\n",
              "      <td>0.0031</td>\n",
              "      <td>2.24M</td>\n",
              "      <td>-0.0432</td>\n",
              "    </tr>\n",
              "    <tr>\n",
              "      <th>9-Jun-17</th>\n",
              "      <td>0.0034</td>\n",
              "      <td>0.0034</td>\n",
              "      <td>0.0038</td>\n",
              "      <td>0.0033</td>\n",
              "      <td>3.43M</td>\n",
              "      <td>-0.0015</td>\n",
              "    </tr>\n",
              "    <tr>\n",
              "      <th>8-Jun-17</th>\n",
              "      <td>0.0034</td>\n",
              "      <td>0.0033</td>\n",
              "      <td>0.0035</td>\n",
              "      <td>0.0031</td>\n",
              "      <td>1.54M</td>\n",
              "      <td>0.0557</td>\n",
              "    </tr>\n",
              "    <tr>\n",
              "      <th>7-Jun-17</th>\n",
              "      <td>0.0033</td>\n",
              "      <td>0.0036</td>\n",
              "      <td>0.0040</td>\n",
              "      <td>0.0031</td>\n",
              "      <td>1.37M</td>\n",
              "      <td>-0.1015</td>\n",
              "    </tr>\n",
              "    <tr>\n",
              "      <th>6-Jun-17</th>\n",
              "      <td>0.0036</td>\n",
              "      <td>0.0037</td>\n",
              "      <td>0.0037</td>\n",
              "      <td>0.0032</td>\n",
              "      <td>2.11M</td>\n",
              "      <td>-0.0272</td>\n",
              "    </tr>\n",
              "    <tr>\n",
              "      <th>5-Jun-17</th>\n",
              "      <td>0.0037</td>\n",
              "      <td>0.0038</td>\n",
              "      <td>0.0038</td>\n",
              "      <td>0.0029</td>\n",
              "      <td>4.82M</td>\n",
              "      <td>-0.0138</td>\n",
              "    </tr>\n",
              "    <tr>\n",
              "      <th>4-Jun-17</th>\n",
              "      <td>0.0038</td>\n",
              "      <td>0.0032</td>\n",
              "      <td>0.0038</td>\n",
              "      <td>0.0025</td>\n",
              "      <td>5.96M</td>\n",
              "      <td>0.1734</td>\n",
              "    </tr>\n",
              "    <tr>\n",
              "      <th>3-Jun-17</th>\n",
              "      <td>0.0032</td>\n",
              "      <td>0.0028</td>\n",
              "      <td>0.0034</td>\n",
              "      <td>0.0027</td>\n",
              "      <td>4.37M</td>\n",
              "      <td>0.1463</td>\n",
              "    </tr>\n",
              "  </tbody>\n",
              "</table>\n",
              "</div>"
            ],
            "text/plain": [
              "            Price    Open    High     Low   Vol.  Change %\n",
              "Date                                                      \n",
              "12-Jun-17  0.0030  0.0035  0.0035  0.0025  2.42M   -0.1343\n",
              "11-Jun-17  0.0035  0.0033  0.0036  0.0032  2.44M    0.0537\n",
              "10-Jun-17  0.0033  0.0034  0.0036  0.0031  2.24M   -0.0432\n",
              "9-Jun-17   0.0034  0.0034  0.0038  0.0033  3.43M   -0.0015\n",
              "8-Jun-17   0.0034  0.0033  0.0035  0.0031  1.54M    0.0557\n",
              "7-Jun-17   0.0033  0.0036  0.0040  0.0031  1.37M   -0.1015\n",
              "6-Jun-17   0.0036  0.0037  0.0037  0.0032  2.11M   -0.0272\n",
              "5-Jun-17   0.0037  0.0038  0.0038  0.0029  4.82M   -0.0138\n",
              "4-Jun-17   0.0038  0.0032  0.0038  0.0025  5.96M    0.1734\n",
              "3-Jun-17   0.0032  0.0028  0.0034  0.0027  4.37M    0.1463"
            ]
          },
          "metadata": {
            "tags": []
          },
          "execution_count": 46
        }
      ]
    },
    {
      "cell_type": "code",
      "metadata": {
        "colab": {
          "base_uri": "https://localhost:8080/",
          "height": 390
        },
        "id": "AG30u65PC_pv",
        "outputId": "59b5b83d-d420-433d-873d-bc3aed44de25"
      },
      "source": [
        "banks.head(10)"
      ],
      "execution_count": null,
      "outputs": [
        {
          "output_type": "execute_result",
          "data": {
            "text/html": [
              "<div>\n",
              "<style scoped>\n",
              "    .dataframe tbody tr th:only-of-type {\n",
              "        vertical-align: middle;\n",
              "    }\n",
              "\n",
              "    .dataframe tbody tr th {\n",
              "        vertical-align: top;\n",
              "    }\n",
              "\n",
              "    .dataframe thead th {\n",
              "        text-align: right;\n",
              "    }\n",
              "</style>\n",
              "<table border=\"1\" class=\"dataframe\">\n",
              "  <thead>\n",
              "    <tr style=\"text-align: right;\">\n",
              "      <th></th>\n",
              "      <th>Bank</th>\n",
              "      <th>Country</th>\n",
              "      <th>Market cap, US$b (January 20, 2017)</th>\n",
              "    </tr>\n",
              "    <tr>\n",
              "      <th>Rank</th>\n",
              "      <th></th>\n",
              "      <th></th>\n",
              "      <th></th>\n",
              "    </tr>\n",
              "  </thead>\n",
              "  <tbody>\n",
              "    <tr>\n",
              "      <th>1</th>\n",
              "      <td>JP Morgan Chase &amp; Co</td>\n",
              "      <td>US</td>\n",
              "      <td>299.393</td>\n",
              "    </tr>\n",
              "    <tr>\n",
              "      <th>2</th>\n",
              "      <td>Wells Fargo &amp; Co</td>\n",
              "      <td>US</td>\n",
              "      <td>276.578</td>\n",
              "    </tr>\n",
              "    <tr>\n",
              "      <th>3</th>\n",
              "      <td>Industrial &amp; Commercial Bank of China (ICBC)</td>\n",
              "      <td>China</td>\n",
              "      <td>229.700</td>\n",
              "    </tr>\n",
              "    <tr>\n",
              "      <th>4</th>\n",
              "      <td>Bank of America</td>\n",
              "      <td>US</td>\n",
              "      <td>228.778</td>\n",
              "    </tr>\n",
              "    <tr>\n",
              "      <th>5</th>\n",
              "      <td>China Construction Bank</td>\n",
              "      <td>China</td>\n",
              "      <td>186.818</td>\n",
              "    </tr>\n",
              "    <tr>\n",
              "      <th>6</th>\n",
              "      <td>HSBC Holdings</td>\n",
              "      <td>UK</td>\n",
              "      <td>165.839</td>\n",
              "    </tr>\n",
              "    <tr>\n",
              "      <th>7</th>\n",
              "      <td>Citigroup Inc</td>\n",
              "      <td>US</td>\n",
              "      <td>159.898</td>\n",
              "    </tr>\n",
              "    <tr>\n",
              "      <th>8</th>\n",
              "      <td>Agricultural Bank of China</td>\n",
              "      <td>China</td>\n",
              "      <td>148.100</td>\n",
              "    </tr>\n",
              "    <tr>\n",
              "      <th>9</th>\n",
              "      <td>Bank of China</td>\n",
              "      <td>China</td>\n",
              "      <td>145.729</td>\n",
              "    </tr>\n",
              "    <tr>\n",
              "      <th>10</th>\n",
              "      <td>Commonwealth Bank of Australia</td>\n",
              "      <td>Australia</td>\n",
              "      <td>106.355</td>\n",
              "    </tr>\n",
              "  </tbody>\n",
              "</table>\n",
              "</div>"
            ],
            "text/plain": [
              "                                              Bank  ... Market cap, US$b (January 20, 2017)\n",
              "Rank                                                ...                                    \n",
              "1                             JP Morgan Chase & Co  ...                             299.393\n",
              "2                                 Wells Fargo & Co  ...                             276.578\n",
              "3     Industrial & Commercial Bank of China (ICBC)  ...                             229.700\n",
              "4                                  Bank of America  ...                             228.778\n",
              "5                          China Construction Bank  ...                             186.818\n",
              "6                                    HSBC Holdings  ...                             165.839\n",
              "7                                    Citigroup Inc  ...                             159.898\n",
              "8                       Agricultural Bank of China  ...                             148.100\n",
              "9                                    Bank of China  ...                             145.729\n",
              "10                  Commonwealth Bank of Australia  ...                             106.355\n",
              "\n",
              "[10 rows x 3 columns]"
            ]
          },
          "metadata": {
            "tags": []
          },
          "execution_count": 47
        }
      ]
    },
    {
      "cell_type": "code",
      "metadata": {
        "colab": {
          "base_uri": "https://localhost:8080/",
          "height": 390
        },
        "id": "eXDV_LV4C_pw",
        "outputId": "2957baa3-530c-4176-9aff-255867a5673a"
      },
      "source": [
        "btc_1year_market_cap.head(10)"
      ],
      "execution_count": null,
      "outputs": [
        {
          "output_type": "execute_result",
          "data": {
            "text/html": [
              "<div>\n",
              "<style scoped>\n",
              "    .dataframe tbody tr th:only-of-type {\n",
              "        vertical-align: middle;\n",
              "    }\n",
              "\n",
              "    .dataframe tbody tr th {\n",
              "        vertical-align: top;\n",
              "    }\n",
              "\n",
              "    .dataframe thead th {\n",
              "        text-align: right;\n",
              "    }\n",
              "</style>\n",
              "<table border=\"1\" class=\"dataframe\">\n",
              "  <thead>\n",
              "    <tr style=\"text-align: right;\">\n",
              "      <th></th>\n",
              "      <th>Open</th>\n",
              "      <th>High</th>\n",
              "      <th>Low</th>\n",
              "      <th>Close</th>\n",
              "      <th>Volume</th>\n",
              "      <th>Market Cap</th>\n",
              "    </tr>\n",
              "    <tr>\n",
              "      <th>Date</th>\n",
              "      <th></th>\n",
              "      <th></th>\n",
              "      <th></th>\n",
              "      <th></th>\n",
              "      <th></th>\n",
              "      <th></th>\n",
              "    </tr>\n",
              "  </thead>\n",
              "  <tbody>\n",
              "    <tr>\n",
              "      <th>6/1/2021</th>\n",
              "      <td>37293.79</td>\n",
              "      <td>37896.74</td>\n",
              "      <td>35787.09</td>\n",
              "      <td>36684.92</td>\n",
              "      <td>3.463942e+10</td>\n",
              "      <td>6.868910e+11</td>\n",
              "    </tr>\n",
              "    <tr>\n",
              "      <th>5/31/2021</th>\n",
              "      <td>35658.59</td>\n",
              "      <td>37468.25</td>\n",
              "      <td>34241.94</td>\n",
              "      <td>37332.85</td>\n",
              "      <td>3.900985e+10</td>\n",
              "      <td>6.989900e+11</td>\n",
              "    </tr>\n",
              "    <tr>\n",
              "      <th>5/30/2021</th>\n",
              "      <td>34607.41</td>\n",
              "      <td>36400.67</td>\n",
              "      <td>33520.74</td>\n",
              "      <td>35678.13</td>\n",
              "      <td>3.164608e+10</td>\n",
              "      <td>6.679770e+11</td>\n",
              "    </tr>\n",
              "    <tr>\n",
              "      <th>5/29/2021</th>\n",
              "      <td>35684.16</td>\n",
              "      <td>37234.50</td>\n",
              "      <td>33693.93</td>\n",
              "      <td>34616.07</td>\n",
              "      <td>4.523101e+10</td>\n",
              "      <td>6.480610e+11</td>\n",
              "    </tr>\n",
              "    <tr>\n",
              "      <th>5/28/2021</th>\n",
              "      <td>38507.08</td>\n",
              "      <td>38856.97</td>\n",
              "      <td>34779.04</td>\n",
              "      <td>35697.61</td>\n",
              "      <td>5.520019e+10</td>\n",
              "      <td>6.682840e+11</td>\n",
              "    </tr>\n",
              "    <tr>\n",
              "      <th>5/27/2021</th>\n",
              "      <td>39316.89</td>\n",
              "      <td>40379.62</td>\n",
              "      <td>37247.90</td>\n",
              "      <td>38436.97</td>\n",
              "      <td>4.321097e+10</td>\n",
              "      <td>7.195380e+11</td>\n",
              "    </tr>\n",
              "    <tr>\n",
              "      <th>5/26/2021</th>\n",
              "      <td>38392.62</td>\n",
              "      <td>40782.08</td>\n",
              "      <td>37905.83</td>\n",
              "      <td>39294.20</td>\n",
              "      <td>5.134674e+10</td>\n",
              "      <td>7.355560e+11</td>\n",
              "    </tr>\n",
              "    <tr>\n",
              "      <th>5/25/2021</th>\n",
              "      <td>38795.78</td>\n",
              "      <td>39776.35</td>\n",
              "      <td>36581.43</td>\n",
              "      <td>38402.22</td>\n",
              "      <td>5.621192e+10</td>\n",
              "      <td>7.188290e+11</td>\n",
              "    </tr>\n",
              "    <tr>\n",
              "      <th>5/24/2021</th>\n",
              "      <td>34700.36</td>\n",
              "      <td>39835.14</td>\n",
              "      <td>34551.08</td>\n",
              "      <td>38705.98</td>\n",
              "      <td>6.735958e+10</td>\n",
              "      <td>7.243320e+11</td>\n",
              "    </tr>\n",
              "    <tr>\n",
              "      <th>5/23/2021</th>\n",
              "      <td>37531.45</td>\n",
              "      <td>38289.22</td>\n",
              "      <td>31227.34</td>\n",
              "      <td>34770.58</td>\n",
              "      <td>7.846927e+10</td>\n",
              "      <td>6.506860e+11</td>\n",
              "    </tr>\n",
              "  </tbody>\n",
              "</table>\n",
              "</div>"
            ],
            "text/plain": [
              "               Open      High       Low     Close        Volume    Market Cap\n",
              "Date                                                                         \n",
              "6/1/2021   37293.79  37896.74  35787.09  36684.92  3.463942e+10  6.868910e+11\n",
              "5/31/2021  35658.59  37468.25  34241.94  37332.85  3.900985e+10  6.989900e+11\n",
              "5/30/2021  34607.41  36400.67  33520.74  35678.13  3.164608e+10  6.679770e+11\n",
              "5/29/2021  35684.16  37234.50  33693.93  34616.07  4.523101e+10  6.480610e+11\n",
              "5/28/2021  38507.08  38856.97  34779.04  35697.61  5.520019e+10  6.682840e+11\n",
              "5/27/2021  39316.89  40379.62  37247.90  38436.97  4.321097e+10  7.195380e+11\n",
              "5/26/2021  38392.62  40782.08  37905.83  39294.20  5.134674e+10  7.355560e+11\n",
              "5/25/2021  38795.78  39776.35  36581.43  38402.22  5.621192e+10  7.188290e+11\n",
              "5/24/2021  34700.36  39835.14  34551.08  38705.98  6.735958e+10  7.243320e+11\n",
              "5/23/2021  37531.45  38289.22  31227.34  34770.58  7.846927e+10  6.506860e+11"
            ]
          },
          "metadata": {
            "tags": []
          },
          "execution_count": 48
        }
      ]
    },
    {
      "cell_type": "code",
      "metadata": {
        "colab": {
          "base_uri": "https://localhost:8080/",
          "height": 390
        },
        "id": "qiwPaWD1C_pw",
        "outputId": "21ade4c3-e64d-42b0-f842-b96f18e66630"
      },
      "source": [
        "eth_1year_market_cap.head(10)"
      ],
      "execution_count": null,
      "outputs": [
        {
          "output_type": "execute_result",
          "data": {
            "text/html": [
              "<div>\n",
              "<style scoped>\n",
              "    .dataframe tbody tr th:only-of-type {\n",
              "        vertical-align: middle;\n",
              "    }\n",
              "\n",
              "    .dataframe tbody tr th {\n",
              "        vertical-align: top;\n",
              "    }\n",
              "\n",
              "    .dataframe thead th {\n",
              "        text-align: right;\n",
              "    }\n",
              "</style>\n",
              "<table border=\"1\" class=\"dataframe\">\n",
              "  <thead>\n",
              "    <tr style=\"text-align: right;\">\n",
              "      <th></th>\n",
              "      <th>Open</th>\n",
              "      <th>High</th>\n",
              "      <th>Low</th>\n",
              "      <th>Close</th>\n",
              "      <th>Volume</th>\n",
              "      <th>Market Cap</th>\n",
              "    </tr>\n",
              "    <tr>\n",
              "      <th>Date</th>\n",
              "      <th></th>\n",
              "      <th></th>\n",
              "      <th></th>\n",
              "      <th></th>\n",
              "      <th></th>\n",
              "      <th></th>\n",
              "    </tr>\n",
              "  </thead>\n",
              "  <tbody>\n",
              "    <tr>\n",
              "      <th>6/1/2021</th>\n",
              "      <td>2707.56</td>\n",
              "      <td>2739.74</td>\n",
              "      <td>2531.16</td>\n",
              "      <td>2633.52</td>\n",
              "      <td>27363223090</td>\n",
              "      <td>3.057990e+11</td>\n",
              "    </tr>\n",
              "    <tr>\n",
              "      <th>5/31/2021</th>\n",
              "      <td>2387.20</td>\n",
              "      <td>2715.86</td>\n",
              "      <td>2279.51</td>\n",
              "      <td>2714.95</td>\n",
              "      <td>31007383150</td>\n",
              "      <td>3.152170e+11</td>\n",
              "    </tr>\n",
              "    <tr>\n",
              "      <th>5/30/2021</th>\n",
              "      <td>2278.29</td>\n",
              "      <td>2472.19</td>\n",
              "      <td>2188.83</td>\n",
              "      <td>2390.31</td>\n",
              "      <td>25876619428</td>\n",
              "      <td>2.774930e+11</td>\n",
              "    </tr>\n",
              "    <tr>\n",
              "      <th>5/29/2021</th>\n",
              "      <td>2414.07</td>\n",
              "      <td>2566.94</td>\n",
              "      <td>2208.49</td>\n",
              "      <td>2279.51</td>\n",
              "      <td>33773720220</td>\n",
              "      <td>2.646000e+11</td>\n",
              "    </tr>\n",
              "    <tr>\n",
              "      <th>5/28/2021</th>\n",
              "      <td>2742.47</td>\n",
              "      <td>2761.36</td>\n",
              "      <td>2336.36</td>\n",
              "      <td>2419.91</td>\n",
              "      <td>39999114805</td>\n",
              "      <td>2.808640e+11</td>\n",
              "    </tr>\n",
              "    <tr>\n",
              "      <th>5/27/2021</th>\n",
              "      <td>2888.75</td>\n",
              "      <td>2888.75</td>\n",
              "      <td>2642.61</td>\n",
              "      <td>2736.49</td>\n",
              "      <td>33373635283</td>\n",
              "      <td>3.175710e+11</td>\n",
              "    </tr>\n",
              "    <tr>\n",
              "      <th>5/26/2021</th>\n",
              "      <td>2707.05</td>\n",
              "      <td>2911.74</td>\n",
              "      <td>2652.09</td>\n",
              "      <td>2888.70</td>\n",
              "      <td>42499766020</td>\n",
              "      <td>3.351960e+11</td>\n",
              "    </tr>\n",
              "    <tr>\n",
              "      <th>5/25/2021</th>\n",
              "      <td>2649.03</td>\n",
              "      <td>2750.53</td>\n",
              "      <td>2394.36</td>\n",
              "      <td>2706.63</td>\n",
              "      <td>49558333256</td>\n",
              "      <td>3.140330e+11</td>\n",
              "    </tr>\n",
              "    <tr>\n",
              "      <th>5/24/2021</th>\n",
              "      <td>2099.94</td>\n",
              "      <td>2672.60</td>\n",
              "      <td>2090.64</td>\n",
              "      <td>2643.59</td>\n",
              "      <td>53697121740</td>\n",
              "      <td>3.066840e+11</td>\n",
              "    </tr>\n",
              "    <tr>\n",
              "      <th>5/23/2021</th>\n",
              "      <td>2298.37</td>\n",
              "      <td>2384.41</td>\n",
              "      <td>1737.47</td>\n",
              "      <td>2109.58</td>\n",
              "      <td>56005721977</td>\n",
              "      <td>2.447050e+11</td>\n",
              "    </tr>\n",
              "  </tbody>\n",
              "</table>\n",
              "</div>"
            ],
            "text/plain": [
              "              Open     High      Low    Close       Volume    Market Cap\n",
              "Date                                                                    \n",
              "6/1/2021   2707.56  2739.74  2531.16  2633.52  27363223090  3.057990e+11\n",
              "5/31/2021  2387.20  2715.86  2279.51  2714.95  31007383150  3.152170e+11\n",
              "5/30/2021  2278.29  2472.19  2188.83  2390.31  25876619428  2.774930e+11\n",
              "5/29/2021  2414.07  2566.94  2208.49  2279.51  33773720220  2.646000e+11\n",
              "5/28/2021  2742.47  2761.36  2336.36  2419.91  39999114805  2.808640e+11\n",
              "5/27/2021  2888.75  2888.75  2642.61  2736.49  33373635283  3.175710e+11\n",
              "5/26/2021  2707.05  2911.74  2652.09  2888.70  42499766020  3.351960e+11\n",
              "5/25/2021  2649.03  2750.53  2394.36  2706.63  49558333256  3.140330e+11\n",
              "5/24/2021  2099.94  2672.60  2090.64  2643.59  53697121740  3.066840e+11\n",
              "5/23/2021  2298.37  2384.41  1737.47  2109.58  56005721977  2.447050e+11"
            ]
          },
          "metadata": {
            "tags": []
          },
          "execution_count": 49
        }
      ]
    },
    {
      "cell_type": "code",
      "metadata": {
        "colab": {
          "base_uri": "https://localhost:8080/",
          "height": 390
        },
        "id": "JPHhDi7WC_pw",
        "outputId": "a78a53bc-610b-4d42-af05-47ede51154d3"
      },
      "source": [
        "doge_1year_market_cap.head(10)"
      ],
      "execution_count": null,
      "outputs": [
        {
          "output_type": "execute_result",
          "data": {
            "text/html": [
              "<div>\n",
              "<style scoped>\n",
              "    .dataframe tbody tr th:only-of-type {\n",
              "        vertical-align: middle;\n",
              "    }\n",
              "\n",
              "    .dataframe tbody tr th {\n",
              "        vertical-align: top;\n",
              "    }\n",
              "\n",
              "    .dataframe thead th {\n",
              "        text-align: right;\n",
              "    }\n",
              "</style>\n",
              "<table border=\"1\" class=\"dataframe\">\n",
              "  <thead>\n",
              "    <tr style=\"text-align: right;\">\n",
              "      <th></th>\n",
              "      <th>Open</th>\n",
              "      <th>High</th>\n",
              "      <th>Low</th>\n",
              "      <th>Close</th>\n",
              "      <th>Volume</th>\n",
              "      <th>Market Cap</th>\n",
              "    </tr>\n",
              "    <tr>\n",
              "      <th>Date</th>\n",
              "      <th></th>\n",
              "      <th></th>\n",
              "      <th></th>\n",
              "      <th></th>\n",
              "      <th></th>\n",
              "      <th></th>\n",
              "    </tr>\n",
              "  </thead>\n",
              "  <tbody>\n",
              "    <tr>\n",
              "      <th>6/1/2021</th>\n",
              "      <td>0.33</td>\n",
              "      <td>0.38</td>\n",
              "      <td>0.31</td>\n",
              "      <td>0.37</td>\n",
              "      <td>5796031087</td>\n",
              "      <td>48050998401</td>\n",
              "    </tr>\n",
              "    <tr>\n",
              "      <th>5/31/2021</th>\n",
              "      <td>0.30</td>\n",
              "      <td>0.33</td>\n",
              "      <td>0.29</td>\n",
              "      <td>0.33</td>\n",
              "      <td>2440829325</td>\n",
              "      <td>42298953606</td>\n",
              "    </tr>\n",
              "    <tr>\n",
              "      <th>5/30/2021</th>\n",
              "      <td>0.30</td>\n",
              "      <td>0.31</td>\n",
              "      <td>0.29</td>\n",
              "      <td>0.30</td>\n",
              "      <td>1929947933</td>\n",
              "      <td>39232589726</td>\n",
              "    </tr>\n",
              "    <tr>\n",
              "      <th>5/29/2021</th>\n",
              "      <td>0.31</td>\n",
              "      <td>0.32</td>\n",
              "      <td>0.28</td>\n",
              "      <td>0.30</td>\n",
              "      <td>2470710737</td>\n",
              "      <td>39344899569</td>\n",
              "    </tr>\n",
              "    <tr>\n",
              "      <th>5/28/2021</th>\n",
              "      <td>0.33</td>\n",
              "      <td>0.35</td>\n",
              "      <td>0.30</td>\n",
              "      <td>0.31</td>\n",
              "      <td>3289455640</td>\n",
              "      <td>40391360016</td>\n",
              "    </tr>\n",
              "    <tr>\n",
              "      <th>5/27/2021</th>\n",
              "      <td>0.35</td>\n",
              "      <td>0.35</td>\n",
              "      <td>0.33</td>\n",
              "      <td>0.33</td>\n",
              "      <td>2485942309</td>\n",
              "      <td>43208473793</td>\n",
              "    </tr>\n",
              "    <tr>\n",
              "      <th>5/26/2021</th>\n",
              "      <td>0.35</td>\n",
              "      <td>0.37</td>\n",
              "      <td>0.34</td>\n",
              "      <td>0.35</td>\n",
              "      <td>3355793260</td>\n",
              "      <td>45896157271</td>\n",
              "    </tr>\n",
              "    <tr>\n",
              "      <th>5/25/2021</th>\n",
              "      <td>0.37</td>\n",
              "      <td>0.38</td>\n",
              "      <td>0.32</td>\n",
              "      <td>0.35</td>\n",
              "      <td>5544552739</td>\n",
              "      <td>44932307822</td>\n",
              "    </tr>\n",
              "    <tr>\n",
              "      <th>5/24/2021</th>\n",
              "      <td>0.31</td>\n",
              "      <td>0.37</td>\n",
              "      <td>0.30</td>\n",
              "      <td>0.37</td>\n",
              "      <td>6821088755</td>\n",
              "      <td>47504120043</td>\n",
              "    </tr>\n",
              "    <tr>\n",
              "      <th>5/23/2021</th>\n",
              "      <td>0.34</td>\n",
              "      <td>0.35</td>\n",
              "      <td>0.25</td>\n",
              "      <td>0.31</td>\n",
              "      <td>7143545371</td>\n",
              "      <td>39963404929</td>\n",
              "    </tr>\n",
              "  </tbody>\n",
              "</table>\n",
              "</div>"
            ],
            "text/plain": [
              "           Open  High   Low  Close      Volume   Market Cap\n",
              "Date                                                       \n",
              "6/1/2021   0.33  0.38  0.31   0.37  5796031087  48050998401\n",
              "5/31/2021  0.30  0.33  0.29   0.33  2440829325  42298953606\n",
              "5/30/2021  0.30  0.31  0.29   0.30  1929947933  39232589726\n",
              "5/29/2021  0.31  0.32  0.28   0.30  2470710737  39344899569\n",
              "5/28/2021  0.33  0.35  0.30   0.31  3289455640  40391360016\n",
              "5/27/2021  0.35  0.35  0.33   0.33  2485942309  43208473793\n",
              "5/26/2021  0.35  0.37  0.34   0.35  3355793260  45896157271\n",
              "5/25/2021  0.37  0.38  0.32   0.35  5544552739  44932307822\n",
              "5/24/2021  0.31  0.37  0.30   0.37  6821088755  47504120043\n",
              "5/23/2021  0.34  0.35  0.25   0.31  7143545371  39963404929"
            ]
          },
          "metadata": {
            "tags": []
          },
          "execution_count": 50
        }
      ]
    },
    {
      "cell_type": "code",
      "metadata": {
        "colab": {
          "base_uri": "https://localhost:8080/",
          "height": 390
        },
        "id": "RNf8KokKC_px",
        "outputId": "64ec2bc6-6452-4078-cc35-a300f6c031eb"
      },
      "source": [
        "energy_consumption_countries.head(10)"
      ],
      "execution_count": null,
      "outputs": [
        {
          "output_type": "execute_result",
          "data": {
            "text/html": [
              "<div>\n",
              "<style scoped>\n",
              "    .dataframe tbody tr th:only-of-type {\n",
              "        vertical-align: middle;\n",
              "    }\n",
              "\n",
              "    .dataframe tbody tr th {\n",
              "        vertical-align: top;\n",
              "    }\n",
              "\n",
              "    .dataframe thead th {\n",
              "        text-align: right;\n",
              "    }\n",
              "</style>\n",
              "<table border=\"1\" class=\"dataframe\">\n",
              "  <thead>\n",
              "    <tr style=\"text-align: right;\">\n",
              "      <th></th>\n",
              "      <th>name</th>\n",
              "      <th>slug</th>\n",
              "      <th>value</th>\n",
              "      <th>date_of_information</th>\n",
              "      <th>region</th>\n",
              "    </tr>\n",
              "    <tr>\n",
              "      <th>ranking</th>\n",
              "      <th></th>\n",
              "      <th></th>\n",
              "      <th></th>\n",
              "      <th></th>\n",
              "      <th></th>\n",
              "    </tr>\n",
              "  </thead>\n",
              "  <tbody>\n",
              "    <tr>\n",
              "      <th>1</th>\n",
              "      <td>China</td>\n",
              "      <td>china</td>\n",
              "      <td>5.564000e+12</td>\n",
              "      <td>2016 est.</td>\n",
              "      <td>East Asia/Southeast Asia</td>\n",
              "    </tr>\n",
              "    <tr>\n",
              "      <th>2</th>\n",
              "      <td>United States</td>\n",
              "      <td>united-states</td>\n",
              "      <td>3.902000e+12</td>\n",
              "      <td>2016 est.</td>\n",
              "      <td>North America</td>\n",
              "    </tr>\n",
              "    <tr>\n",
              "      <th>3</th>\n",
              "      <td>India</td>\n",
              "      <td>india</td>\n",
              "      <td>1.137000e+12</td>\n",
              "      <td>2016 est.</td>\n",
              "      <td>South Asia</td>\n",
              "    </tr>\n",
              "    <tr>\n",
              "      <th>4</th>\n",
              "      <td>Japan</td>\n",
              "      <td>japan</td>\n",
              "      <td>9.437000e+11</td>\n",
              "      <td>2016 est.</td>\n",
              "      <td>East Asia/Southeast Asia</td>\n",
              "    </tr>\n",
              "    <tr>\n",
              "      <th>5</th>\n",
              "      <td>Russia</td>\n",
              "      <td>russia</td>\n",
              "      <td>9.096000e+11</td>\n",
              "      <td>2016 est.</td>\n",
              "      <td>Central Asia</td>\n",
              "    </tr>\n",
              "    <tr>\n",
              "      <th>6</th>\n",
              "      <td>Germany</td>\n",
              "      <td>germany</td>\n",
              "      <td>5.365000e+11</td>\n",
              "      <td>2016 est.</td>\n",
              "      <td>Europe</td>\n",
              "    </tr>\n",
              "    <tr>\n",
              "      <th>7</th>\n",
              "      <td>Canada</td>\n",
              "      <td>canada</td>\n",
              "      <td>5.222000e+11</td>\n",
              "      <td>2016 est.</td>\n",
              "      <td>North America</td>\n",
              "    </tr>\n",
              "    <tr>\n",
              "      <th>8</th>\n",
              "      <td>Brazil</td>\n",
              "      <td>brazil</td>\n",
              "      <td>5.091000e+11</td>\n",
              "      <td>2016 est.</td>\n",
              "      <td>South America</td>\n",
              "    </tr>\n",
              "    <tr>\n",
              "      <th>9</th>\n",
              "      <td>Korea, South</td>\n",
              "      <td>korea-south</td>\n",
              "      <td>5.076000e+11</td>\n",
              "      <td>2016 est.</td>\n",
              "      <td>East Asia/Southeast Asia</td>\n",
              "    </tr>\n",
              "    <tr>\n",
              "      <th>10</th>\n",
              "      <td>France</td>\n",
              "      <td>france</td>\n",
              "      <td>4.508000e+11</td>\n",
              "      <td>2016 est.</td>\n",
              "      <td>Europe</td>\n",
              "    </tr>\n",
              "  </tbody>\n",
              "</table>\n",
              "</div>"
            ],
            "text/plain": [
              "                  name  ...                    region\n",
              "ranking                 ...                          \n",
              "1                China  ...  East Asia/Southeast Asia\n",
              "2        United States  ...             North America\n",
              "3                India  ...                South Asia\n",
              "4                Japan  ...  East Asia/Southeast Asia\n",
              "5               Russia  ...              Central Asia\n",
              "6              Germany  ...                    Europe\n",
              "7               Canada  ...             North America\n",
              "8               Brazil  ...             South America\n",
              "9         Korea, South  ...  East Asia/Southeast Asia\n",
              "10              France  ...                    Europe\n",
              "\n",
              "[10 rows x 5 columns]"
            ]
          },
          "metadata": {
            "tags": []
          },
          "execution_count": 51
        }
      ]
    },
    {
      "cell_type": "code",
      "metadata": {
        "colab": {
          "base_uri": "https://localhost:8080/",
          "height": 359
        },
        "id": "lCqV7SgEC_px",
        "outputId": "28bd4d85-c4bc-4741-bea1-c5d05c021e2e"
      },
      "source": [
        "energy_consumption_bitcoin.head(10)"
      ],
      "execution_count": null,
      "outputs": [
        {
          "output_type": "execute_result",
          "data": {
            "text/html": [
              "<div>\n",
              "<style scoped>\n",
              "    .dataframe tbody tr th:only-of-type {\n",
              "        vertical-align: middle;\n",
              "    }\n",
              "\n",
              "    .dataframe tbody tr th {\n",
              "        vertical-align: top;\n",
              "    }\n",
              "\n",
              "    .dataframe thead th {\n",
              "        text-align: right;\n",
              "    }\n",
              "</style>\n",
              "<table border=\"1\" class=\"dataframe\">\n",
              "  <thead>\n",
              "    <tr style=\"text-align: right;\">\n",
              "      <th></th>\n",
              "      <th>Date</th>\n",
              "      <th>Estimated TWh per Year</th>\n",
              "      <th>Minimum TWh per Year</th>\n",
              "    </tr>\n",
              "  </thead>\n",
              "  <tbody>\n",
              "    <tr>\n",
              "      <th>0</th>\n",
              "      <td>2/10/2017</td>\n",
              "      <td>9.585659</td>\n",
              "      <td>3.331026</td>\n",
              "    </tr>\n",
              "    <tr>\n",
              "      <th>1</th>\n",
              "      <td>2/11/2017</td>\n",
              "      <td>9.547335</td>\n",
              "      <td>3.316227</td>\n",
              "    </tr>\n",
              "    <tr>\n",
              "      <th>2</th>\n",
              "      <td>2/12/2017</td>\n",
              "      <td>9.578774</td>\n",
              "      <td>3.198969</td>\n",
              "    </tr>\n",
              "    <tr>\n",
              "      <th>3</th>\n",
              "      <td>2/13/2017</td>\n",
              "      <td>9.476506</td>\n",
              "      <td>3.045178</td>\n",
              "    </tr>\n",
              "    <tr>\n",
              "      <th>4</th>\n",
              "      <td>2/14/2017</td>\n",
              "      <td>9.544807</td>\n",
              "      <td>3.150062</td>\n",
              "    </tr>\n",
              "    <tr>\n",
              "      <th>5</th>\n",
              "      <td>2/15/2017</td>\n",
              "      <td>9.569006</td>\n",
              "      <td>3.337440</td>\n",
              "    </tr>\n",
              "    <tr>\n",
              "      <th>6</th>\n",
              "      <td>2/16/2017</td>\n",
              "      <td>9.392170</td>\n",
              "      <td>3.330369</td>\n",
              "    </tr>\n",
              "    <tr>\n",
              "      <th>7</th>\n",
              "      <td>2/17/2017</td>\n",
              "      <td>9.323759</td>\n",
              "      <td>3.238448</td>\n",
              "    </tr>\n",
              "    <tr>\n",
              "      <th>8</th>\n",
              "      <td>2/18/2017</td>\n",
              "      <td>9.326974</td>\n",
              "      <td>3.173321</td>\n",
              "    </tr>\n",
              "    <tr>\n",
              "      <th>9</th>\n",
              "      <td>2/19/2017</td>\n",
              "      <td>9.319239</td>\n",
              "      <td>3.189253</td>\n",
              "    </tr>\n",
              "  </tbody>\n",
              "</table>\n",
              "</div>"
            ],
            "text/plain": [
              "        Date  Estimated TWh per Year  Minimum TWh per Year\n",
              "0  2/10/2017                9.585659              3.331026\n",
              "1  2/11/2017                9.547335              3.316227\n",
              "2  2/12/2017                9.578774              3.198969\n",
              "3  2/13/2017                9.476506              3.045178\n",
              "4  2/14/2017                9.544807              3.150062\n",
              "5  2/15/2017                9.569006              3.337440\n",
              "6  2/16/2017                9.392170              3.330369\n",
              "7  2/17/2017                9.323759              3.238448\n",
              "8  2/18/2017                9.326974              3.173321\n",
              "9  2/19/2017                9.319239              3.189253"
            ]
          },
          "metadata": {
            "tags": []
          },
          "execution_count": 52
        }
      ]
    },
    {
      "cell_type": "code",
      "metadata": {
        "colab": {
          "base_uri": "https://localhost:8080/",
          "height": 390
        },
        "id": "aBSNYw5eC_py",
        "outputId": "8545864b-064f-4c15-bd98-c1d78d7cb820"
      },
      "source": [
        "sp500_stocks.head(10)"
      ],
      "execution_count": null,
      "outputs": [
        {
          "output_type": "execute_result",
          "data": {
            "text/html": [
              "<div>\n",
              "<style scoped>\n",
              "    .dataframe tbody tr th:only-of-type {\n",
              "        vertical-align: middle;\n",
              "    }\n",
              "\n",
              "    .dataframe tbody tr th {\n",
              "        vertical-align: top;\n",
              "    }\n",
              "\n",
              "    .dataframe thead th {\n",
              "        text-align: right;\n",
              "    }\n",
              "</style>\n",
              "<table border=\"1\" class=\"dataframe\">\n",
              "  <thead>\n",
              "    <tr style=\"text-align: right;\">\n",
              "      <th></th>\n",
              "      <th>Open</th>\n",
              "      <th>High</th>\n",
              "      <th>Low</th>\n",
              "      <th>Close</th>\n",
              "      <th>Adj. close</th>\n",
              "      <th>Volume</th>\n",
              "    </tr>\n",
              "    <tr>\n",
              "      <th>Date</th>\n",
              "      <th></th>\n",
              "      <th></th>\n",
              "      <th></th>\n",
              "      <th></th>\n",
              "      <th></th>\n",
              "      <th></th>\n",
              "    </tr>\n",
              "  </thead>\n",
              "  <tbody>\n",
              "    <tr>\n",
              "      <th>12/31/2009</th>\n",
              "      <td>1126.60</td>\n",
              "      <td>1127.64</td>\n",
              "      <td>1114.81</td>\n",
              "      <td>1115.10</td>\n",
              "      <td>1115.10</td>\n",
              "      <td>2,07,69,90,000</td>\n",
              "    </tr>\n",
              "    <tr>\n",
              "      <th>12/30/2009</th>\n",
              "      <td>1125.53</td>\n",
              "      <td>1126.42</td>\n",
              "      <td>1121.94</td>\n",
              "      <td>1126.42</td>\n",
              "      <td>1126.42</td>\n",
              "      <td>2,27,73,00,000</td>\n",
              "    </tr>\n",
              "    <tr>\n",
              "      <th>12/29/2009</th>\n",
              "      <td>1128.55</td>\n",
              "      <td>1130.38</td>\n",
              "      <td>1126.08</td>\n",
              "      <td>1126.20</td>\n",
              "      <td>1126.20</td>\n",
              "      <td>2,49,10,20,000</td>\n",
              "    </tr>\n",
              "    <tr>\n",
              "      <th>12/28/2009</th>\n",
              "      <td>1127.53</td>\n",
              "      <td>1130.38</td>\n",
              "      <td>1123.51</td>\n",
              "      <td>1127.78</td>\n",
              "      <td>1127.78</td>\n",
              "      <td>2,71,64,00,000</td>\n",
              "    </tr>\n",
              "    <tr>\n",
              "      <th>12/24/2009</th>\n",
              "      <td>1121.08</td>\n",
              "      <td>1126.48</td>\n",
              "      <td>1121.08</td>\n",
              "      <td>1126.48</td>\n",
              "      <td>1126.48</td>\n",
              "      <td>1,26,77,10,000</td>\n",
              "    </tr>\n",
              "    <tr>\n",
              "      <th>12/23/2009</th>\n",
              "      <td>1118.84</td>\n",
              "      <td>1121.58</td>\n",
              "      <td>1116.00</td>\n",
              "      <td>1120.59</td>\n",
              "      <td>1120.59</td>\n",
              "      <td>3,16,68,70,000</td>\n",
              "    </tr>\n",
              "    <tr>\n",
              "      <th>12/22/2009</th>\n",
              "      <td>1114.51</td>\n",
              "      <td>1120.27</td>\n",
              "      <td>1114.51</td>\n",
              "      <td>1118.02</td>\n",
              "      <td>1118.02</td>\n",
              "      <td>3,64,11,30,000</td>\n",
              "    </tr>\n",
              "    <tr>\n",
              "      <th>12/21/2009</th>\n",
              "      <td>1105.31</td>\n",
              "      <td>1117.68</td>\n",
              "      <td>1105.31</td>\n",
              "      <td>1114.05</td>\n",
              "      <td>1114.05</td>\n",
              "      <td>3,97,73,40,000</td>\n",
              "    </tr>\n",
              "    <tr>\n",
              "      <th>12/18/2009</th>\n",
              "      <td>1097.86</td>\n",
              "      <td>1103.74</td>\n",
              "      <td>1093.88</td>\n",
              "      <td>1102.47</td>\n",
              "      <td>1102.47</td>\n",
              "      <td>6,32,58,90,000</td>\n",
              "    </tr>\n",
              "    <tr>\n",
              "      <th>12/17/2009</th>\n",
              "      <td>1106.36</td>\n",
              "      <td>1106.36</td>\n",
              "      <td>1095.88</td>\n",
              "      <td>1096.08</td>\n",
              "      <td>1096.08</td>\n",
              "      <td>7,61,50,70,000</td>\n",
              "    </tr>\n",
              "  </tbody>\n",
              "</table>\n",
              "</div>"
            ],
            "text/plain": [
              "               Open     High      Low    Close  Adj. close          Volume\n",
              "Date                                                                      \n",
              "12/31/2009  1126.60  1127.64  1114.81  1115.10     1115.10  2,07,69,90,000\n",
              "12/30/2009  1125.53  1126.42  1121.94  1126.42     1126.42  2,27,73,00,000\n",
              "12/29/2009  1128.55  1130.38  1126.08  1126.20     1126.20  2,49,10,20,000\n",
              "12/28/2009  1127.53  1130.38  1123.51  1127.78     1127.78  2,71,64,00,000\n",
              "12/24/2009  1121.08  1126.48  1121.08  1126.48     1126.48  1,26,77,10,000\n",
              "12/23/2009  1118.84  1121.58  1116.00  1120.59     1120.59  3,16,68,70,000\n",
              "12/22/2009  1114.51  1120.27  1114.51  1118.02     1118.02  3,64,11,30,000\n",
              "12/21/2009  1105.31  1117.68  1105.31  1114.05     1114.05  3,97,73,40,000\n",
              "12/18/2009  1097.86  1103.74  1093.88  1102.47     1102.47  6,32,58,90,000\n",
              "12/17/2009  1106.36  1106.36  1095.88  1096.08     1096.08  7,61,50,70,000"
            ]
          },
          "metadata": {
            "tags": []
          },
          "execution_count": 53
        }
      ]
    },
    {
      "cell_type": "code",
      "metadata": {
        "colab": {
          "base_uri": "https://localhost:8080/",
          "height": 390
        },
        "id": "ziQONPZdC_py",
        "outputId": "f8c90e4b-1869-4c6e-ecda-702e4221aceb"
      },
      "source": [
        "dji_stocks.head(10)"
      ],
      "execution_count": null,
      "outputs": [
        {
          "output_type": "execute_result",
          "data": {
            "text/html": [
              "<div>\n",
              "<style scoped>\n",
              "    .dataframe tbody tr th:only-of-type {\n",
              "        vertical-align: middle;\n",
              "    }\n",
              "\n",
              "    .dataframe tbody tr th {\n",
              "        vertical-align: top;\n",
              "    }\n",
              "\n",
              "    .dataframe thead th {\n",
              "        text-align: right;\n",
              "    }\n",
              "</style>\n",
              "<table border=\"1\" class=\"dataframe\">\n",
              "  <thead>\n",
              "    <tr style=\"text-align: right;\">\n",
              "      <th></th>\n",
              "      <th>Open</th>\n",
              "      <th>High</th>\n",
              "      <th>Low</th>\n",
              "      <th>Close</th>\n",
              "      <th>Adj. close</th>\n",
              "      <th>Volume</th>\n",
              "    </tr>\n",
              "    <tr>\n",
              "      <th>Date</th>\n",
              "      <th></th>\n",
              "      <th></th>\n",
              "      <th></th>\n",
              "      <th></th>\n",
              "      <th></th>\n",
              "      <th></th>\n",
              "    </tr>\n",
              "  </thead>\n",
              "  <tbody>\n",
              "    <tr>\n",
              "      <th>31-Dec-09</th>\n",
              "      <td>10548.51</td>\n",
              "      <td>10555.01</td>\n",
              "      <td>10423.13</td>\n",
              "      <td>10428.05</td>\n",
              "      <td>10428.05</td>\n",
              "      <td>13,79,40,000</td>\n",
              "    </tr>\n",
              "    <tr>\n",
              "      <th>30-Dec-09</th>\n",
              "      <td>10544.36</td>\n",
              "      <td>10550.70</td>\n",
              "      <td>10505.66</td>\n",
              "      <td>10548.51</td>\n",
              "      <td>10548.51</td>\n",
              "      <td>11,01,60,000</td>\n",
              "    </tr>\n",
              "    <tr>\n",
              "      <th>29-Dec-09</th>\n",
              "      <td>10547.83</td>\n",
              "      <td>10580.33</td>\n",
              "      <td>10544.28</td>\n",
              "      <td>10545.41</td>\n",
              "      <td>10545.41</td>\n",
              "      <td>9,28,90,000</td>\n",
              "    </tr>\n",
              "    <tr>\n",
              "      <th>28-Dec-09</th>\n",
              "      <td>10517.91</td>\n",
              "      <td>10551.61</td>\n",
              "      <td>10506.34</td>\n",
              "      <td>10547.08</td>\n",
              "      <td>10547.08</td>\n",
              "      <td>10,20,10,000</td>\n",
              "    </tr>\n",
              "    <tr>\n",
              "      <th>24-Dec-09</th>\n",
              "      <td>10467.12</td>\n",
              "      <td>10522.06</td>\n",
              "      <td>10461.68</td>\n",
              "      <td>10520.09</td>\n",
              "      <td>10520.09</td>\n",
              "      <td>5,26,70,000</td>\n",
              "    </tr>\n",
              "    <tr>\n",
              "      <th>23-Dec-09</th>\n",
              "      <td>10464.32</td>\n",
              "      <td>10492.06</td>\n",
              "      <td>10437.80</td>\n",
              "      <td>10466.44</td>\n",
              "      <td>10466.44</td>\n",
              "      <td>11,24,60,000</td>\n",
              "    </tr>\n",
              "    <tr>\n",
              "      <th>22-Dec-09</th>\n",
              "      <td>10414.67</td>\n",
              "      <td>10479.82</td>\n",
              "      <td>10414.59</td>\n",
              "      <td>10464.93</td>\n",
              "      <td>10464.93</td>\n",
              "      <td>13,50,80,000</td>\n",
              "    </tr>\n",
              "    <tr>\n",
              "      <th>21-Dec-09</th>\n",
              "      <td>10330.10</td>\n",
              "      <td>10458.05</td>\n",
              "      <td>10329.80</td>\n",
              "      <td>10414.14</td>\n",
              "      <td>10414.14</td>\n",
              "      <td>16,44,70,000</td>\n",
              "    </tr>\n",
              "    <tr>\n",
              "      <th>18-Dec-09</th>\n",
              "      <td>10309.39</td>\n",
              "      <td>10372.35</td>\n",
              "      <td>10263.90</td>\n",
              "      <td>10328.89</td>\n",
              "      <td>10328.89</td>\n",
              "      <td>48,00,80,000</td>\n",
              "    </tr>\n",
              "    <tr>\n",
              "      <th>17-Dec-09</th>\n",
              "      <td>10439.99</td>\n",
              "      <td>10440.06</td>\n",
              "      <td>10307.96</td>\n",
              "      <td>10308.26</td>\n",
              "      <td>10308.26</td>\n",
              "      <td>19,88,60,000</td>\n",
              "    </tr>\n",
              "  </tbody>\n",
              "</table>\n",
              "</div>"
            ],
            "text/plain": [
              "               Open      High       Low     Close  Adj. close        Volume\n",
              "Date                                                                       \n",
              "31-Dec-09  10548.51  10555.01  10423.13  10428.05    10428.05  13,79,40,000\n",
              "30-Dec-09  10544.36  10550.70  10505.66  10548.51    10548.51  11,01,60,000\n",
              "29-Dec-09  10547.83  10580.33  10544.28  10545.41    10545.41   9,28,90,000\n",
              "28-Dec-09  10517.91  10551.61  10506.34  10547.08    10547.08  10,20,10,000\n",
              "24-Dec-09  10467.12  10522.06  10461.68  10520.09    10520.09   5,26,70,000\n",
              "23-Dec-09  10464.32  10492.06  10437.80  10466.44    10466.44  11,24,60,000\n",
              "22-Dec-09  10414.67  10479.82  10414.59  10464.93    10464.93  13,50,80,000\n",
              "21-Dec-09  10330.10  10458.05  10329.80  10414.14    10414.14  16,44,70,000\n",
              "18-Dec-09  10309.39  10372.35  10263.90  10328.89    10328.89  48,00,80,000\n",
              "17-Dec-09  10439.99  10440.06  10307.96  10308.26    10308.26  19,88,60,000"
            ]
          },
          "metadata": {
            "tags": []
          },
          "execution_count": 54
        }
      ]
    },
    {
      "cell_type": "markdown",
      "metadata": {
        "id": "1EL0omynC_py"
      },
      "source": [
        "### Finding about Rows, Columns and Missing values."
      ]
    },
    {
      "cell_type": "code",
      "metadata": {
        "colab": {
          "base_uri": "https://localhost:8080/"
        },
        "id": "IC3DuEeOC_pz",
        "outputId": "d82924e2-2428-466f-86a8-1fd79812c5c6"
      },
      "source": [
        "btc.info()"
      ],
      "execution_count": null,
      "outputs": [
        {
          "output_type": "stream",
          "text": [
            "<class 'pandas.core.frame.DataFrame'>\n",
            "Index: 1453 entries, 25-May-21 to 3-Jun-17\n",
            "Data columns (total 6 columns):\n",
            " #   Column    Non-Null Count  Dtype  \n",
            "---  ------    --------------  -----  \n",
            " 0   Price     1453 non-null   float64\n",
            " 1   Open      1453 non-null   float64\n",
            " 2   High      1453 non-null   float64\n",
            " 3   Low       1453 non-null   float64\n",
            " 4   Vol.      1453 non-null   object \n",
            " 5   Change %  1453 non-null   float64\n",
            "dtypes: float64(5), object(1)\n",
            "memory usage: 79.5+ KB\n"
          ],
          "name": "stdout"
        }
      ]
    },
    {
      "cell_type": "code",
      "metadata": {
        "colab": {
          "base_uri": "https://localhost:8080/"
        },
        "id": "eeaHIVPXC_pz",
        "outputId": "ccf7999b-cec5-4bbd-a1ba-e62646fa52f0"
      },
      "source": [
        "eth.info()"
      ],
      "execution_count": null,
      "outputs": [
        {
          "output_type": "stream",
          "text": [
            "<class 'pandas.core.frame.DataFrame'>\n",
            "Index: 1453 entries, 25-May-21 to 3-Jun-17\n",
            "Data columns (total 6 columns):\n",
            " #   Column    Non-Null Count  Dtype  \n",
            "---  ------    --------------  -----  \n",
            " 0   Price     1453 non-null   float64\n",
            " 1   Open      1453 non-null   float64\n",
            " 2   High      1453 non-null   float64\n",
            " 3   Low       1453 non-null   float64\n",
            " 4   Vol.      1453 non-null   object \n",
            " 5   Change %  1453 non-null   float64\n",
            "dtypes: float64(5), object(1)\n",
            "memory usage: 79.5+ KB\n"
          ],
          "name": "stdout"
        }
      ]
    },
    {
      "cell_type": "code",
      "metadata": {
        "colab": {
          "base_uri": "https://localhost:8080/"
        },
        "id": "chCBYk3oC_pz",
        "outputId": "8e09b5af-16a8-4a79-c5e9-2c67db496061"
      },
      "source": [
        "doge.info()"
      ],
      "execution_count": null,
      "outputs": [
        {
          "output_type": "stream",
          "text": [
            "<class 'pandas.core.frame.DataFrame'>\n",
            "Index: 1453 entries, 25-May-21 to 3-Jun-17\n",
            "Data columns (total 6 columns):\n",
            " #   Column    Non-Null Count  Dtype  \n",
            "---  ------    --------------  -----  \n",
            " 0   Price     1453 non-null   float64\n",
            " 1   Open      1453 non-null   float64\n",
            " 2   High      1453 non-null   float64\n",
            " 3   Low       1453 non-null   float64\n",
            " 4   Vol.      1453 non-null   object \n",
            " 5   Change %  1453 non-null   float64\n",
            "dtypes: float64(5), object(1)\n",
            "memory usage: 79.5+ KB\n"
          ],
          "name": "stdout"
        }
      ]
    },
    {
      "cell_type": "code",
      "metadata": {
        "colab": {
          "base_uri": "https://localhost:8080/"
        },
        "id": "WIXvth_pC_p0",
        "outputId": "11ae906b-f865-4ed3-af3c-caa7d03f2275"
      },
      "source": [
        "banks.rename(columns = {\"Market cap, US$b (January 20, 2017)\" : \"Marketcap\"},inplace=True)\n",
        "banks.info()"
      ],
      "execution_count": null,
      "outputs": [
        {
          "output_type": "stream",
          "text": [
            "<class 'pandas.core.frame.DataFrame'>\n",
            "Int64Index: 50 entries, 1 to 50\n",
            "Data columns (total 3 columns):\n",
            " #   Column     Non-Null Count  Dtype  \n",
            "---  ------     --------------  -----  \n",
            " 0   Bank       50 non-null     object \n",
            " 1   Country    50 non-null     object \n",
            " 2   Marketcap  50 non-null     float64\n",
            "dtypes: float64(1), object(2)\n",
            "memory usage: 1.6+ KB\n"
          ],
          "name": "stdout"
        }
      ]
    },
    {
      "cell_type": "code",
      "metadata": {
        "colab": {
          "base_uri": "https://localhost:8080/"
        },
        "id": "l56K5OVNC_p0",
        "outputId": "1f18dd62-4983-4a0d-dd69-07258cb71aec"
      },
      "source": [
        "btc_1year_market_cap.info()"
      ],
      "execution_count": null,
      "outputs": [
        {
          "output_type": "stream",
          "text": [
            "<class 'pandas.core.frame.DataFrame'>\n",
            "Index: 366 entries, 6/1/2021 to 6/1/2020\n",
            "Data columns (total 6 columns):\n",
            " #   Column      Non-Null Count  Dtype  \n",
            "---  ------      --------------  -----  \n",
            " 0   Open        366 non-null    float64\n",
            " 1   High        366 non-null    float64\n",
            " 2   Low         366 non-null    float64\n",
            " 3   Close       366 non-null    float64\n",
            " 4   Volume      366 non-null    float64\n",
            " 5   Market Cap  366 non-null    float64\n",
            "dtypes: float64(6)\n",
            "memory usage: 20.0+ KB\n"
          ],
          "name": "stdout"
        }
      ]
    },
    {
      "cell_type": "code",
      "metadata": {
        "colab": {
          "base_uri": "https://localhost:8080/"
        },
        "id": "JqdtDQqHC_p0",
        "outputId": "f031b27e-b9b2-434d-fd8b-74dd4d209c41"
      },
      "source": [
        "eth_1year_market_cap.info()"
      ],
      "execution_count": null,
      "outputs": [
        {
          "output_type": "stream",
          "text": [
            "<class 'pandas.core.frame.DataFrame'>\n",
            "Index: 366 entries, 6/1/2021 to 6/1/2020\n",
            "Data columns (total 6 columns):\n",
            " #   Column      Non-Null Count  Dtype  \n",
            "---  ------      --------------  -----  \n",
            " 0   Open        366 non-null    float64\n",
            " 1   High        366 non-null    float64\n",
            " 2   Low         366 non-null    float64\n",
            " 3   Close       366 non-null    float64\n",
            " 4   Volume      366 non-null    int64  \n",
            " 5   Market Cap  366 non-null    float64\n",
            "dtypes: float64(5), int64(1)\n",
            "memory usage: 20.0+ KB\n"
          ],
          "name": "stdout"
        }
      ]
    },
    {
      "cell_type": "code",
      "metadata": {
        "colab": {
          "base_uri": "https://localhost:8080/"
        },
        "id": "nH-OYn2bC_p1",
        "outputId": "db91a56f-9778-46a7-ad4c-406ed1a8a0df"
      },
      "source": [
        "doge_1year_market_cap.info()"
      ],
      "execution_count": null,
      "outputs": [
        {
          "output_type": "stream",
          "text": [
            "<class 'pandas.core.frame.DataFrame'>\n",
            "Index: 366 entries, 6/1/2021 to 6/1/2020\n",
            "Data columns (total 6 columns):\n",
            " #   Column      Non-Null Count  Dtype  \n",
            "---  ------      --------------  -----  \n",
            " 0   Open        366 non-null    float64\n",
            " 1   High        366 non-null    float64\n",
            " 2   Low         366 non-null    float64\n",
            " 3   Close       366 non-null    float64\n",
            " 4   Volume      366 non-null    int64  \n",
            " 5   Market Cap  366 non-null    int64  \n",
            "dtypes: float64(4), int64(2)\n",
            "memory usage: 20.0+ KB\n"
          ],
          "name": "stdout"
        }
      ]
    },
    {
      "cell_type": "code",
      "metadata": {
        "colab": {
          "base_uri": "https://localhost:8080/"
        },
        "id": "WZVfYOMLC_p1",
        "outputId": "43f6e51f-0098-436e-f9c5-49daae2ec297"
      },
      "source": [
        "energy_consumption_countries.info()"
      ],
      "execution_count": null,
      "outputs": [
        {
          "output_type": "stream",
          "text": [
            "<class 'pandas.core.frame.DataFrame'>\n",
            "Int64Index: 217 entries, 1 to 218\n",
            "Data columns (total 5 columns):\n",
            " #   Column               Non-Null Count  Dtype  \n",
            "---  ------               --------------  -----  \n",
            " 0   name                 217 non-null    object \n",
            " 1   slug                 217 non-null    object \n",
            " 2   value                217 non-null    float64\n",
            " 3   date_of_information  217 non-null    object \n",
            " 4   region               217 non-null    object \n",
            "dtypes: float64(1), object(4)\n",
            "memory usage: 10.2+ KB\n"
          ],
          "name": "stdout"
        }
      ]
    },
    {
      "cell_type": "code",
      "metadata": {
        "colab": {
          "base_uri": "https://localhost:8080/"
        },
        "id": "mKLsCD5zC_p1",
        "outputId": "252bae17-c7d5-484a-a9fa-ba554ed055f7"
      },
      "source": [
        "energy_consumption_bitcoin.info()"
      ],
      "execution_count": null,
      "outputs": [
        {
          "output_type": "stream",
          "text": [
            "<class 'pandas.core.frame.DataFrame'>\n",
            "RangeIndex: 1582 entries, 0 to 1581\n",
            "Data columns (total 3 columns):\n",
            " #   Column                  Non-Null Count  Dtype  \n",
            "---  ------                  --------------  -----  \n",
            " 0   Date                    1582 non-null   object \n",
            " 1   Estimated TWh per Year  1582 non-null   float64\n",
            " 2   Minimum TWh per Year    1582 non-null   float64\n",
            "dtypes: float64(2), object(1)\n",
            "memory usage: 37.2+ KB\n"
          ],
          "name": "stdout"
        }
      ]
    },
    {
      "cell_type": "code",
      "metadata": {
        "colab": {
          "base_uri": "https://localhost:8080/"
        },
        "id": "YYVsZu16C_p1",
        "outputId": "74de2db8-b4cf-418f-87fe-81db8e0b958a"
      },
      "source": [
        "sp500_stocks.info()"
      ],
      "execution_count": null,
      "outputs": [
        {
          "output_type": "stream",
          "text": [
            "<class 'pandas.core.frame.DataFrame'>\n",
            "Index: 505 entries, 12/31/2009 to 1/2/2008\n",
            "Data columns (total 6 columns):\n",
            " #   Column      Non-Null Count  Dtype  \n",
            "---  ------      --------------  -----  \n",
            " 0   Open        505 non-null    float64\n",
            " 1   High        505 non-null    float64\n",
            " 2   Low         505 non-null    float64\n",
            " 3   Close       505 non-null    float64\n",
            " 4   Adj. close  505 non-null    float64\n",
            " 5   Volume      505 non-null    object \n",
            "dtypes: float64(5), object(1)\n",
            "memory usage: 27.6+ KB\n"
          ],
          "name": "stdout"
        }
      ]
    },
    {
      "cell_type": "code",
      "metadata": {
        "colab": {
          "base_uri": "https://localhost:8080/"
        },
        "id": "oZ29oCsUC_p2",
        "outputId": "395eb0c8-4e18-45f7-f453-3493bfcce89d"
      },
      "source": [
        "dji_stocks.info()"
      ],
      "execution_count": null,
      "outputs": [
        {
          "output_type": "stream",
          "text": [
            "<class 'pandas.core.frame.DataFrame'>\n",
            "Index: 505 entries, 31-Dec-09 to 2-Jan-08\n",
            "Data columns (total 6 columns):\n",
            " #   Column      Non-Null Count  Dtype  \n",
            "---  ------      --------------  -----  \n",
            " 0   Open        505 non-null    float64\n",
            " 1   High        505 non-null    float64\n",
            " 2   Low         505 non-null    float64\n",
            " 3   Close       505 non-null    float64\n",
            " 4   Adj. close  505 non-null    float64\n",
            " 5   Volume      505 non-null    object \n",
            "dtypes: float64(5), object(1)\n",
            "memory usage: 27.6+ KB\n"
          ],
          "name": "stdout"
        }
      ]
    },
    {
      "cell_type": "markdown",
      "metadata": {
        "id": "gO67SueBC_p2"
      },
      "source": [
        "### Changing datatypes"
      ]
    },
    {
      "cell_type": "code",
      "metadata": {
        "id": "3OI86OIzC_p2"
      },
      "source": [
        "eth_1year_market_cap[\"Volume\"] = eth_1year_market_cap[\"Volume\"].astype(float)"
      ],
      "execution_count": null,
      "outputs": []
    },
    {
      "cell_type": "code",
      "metadata": {
        "id": "g0Tzqh1MC_p2"
      },
      "source": [
        "doge_1year_market_cap[[\"Volume\",\"Market Cap\"]] = doge_1year_market_cap[[\"Volume\",\"Market Cap\"]].astype(float)"
      ],
      "execution_count": null,
      "outputs": []
    },
    {
      "cell_type": "code",
      "metadata": {
        "id": "hDIB3MFkC_p3"
      },
      "source": [
        "sp500_stocks[\"Volume\"] = sp500_stocks[\"Volume\"].str.replace(\",\",\"\").astype(float)"
      ],
      "execution_count": null,
      "outputs": []
    },
    {
      "cell_type": "code",
      "metadata": {
        "id": "RDmpmUrQC_p3"
      },
      "source": [
        "dji_stocks[\"Volume\"] = dji_stocks[\"Volume\"].str.replace(\",\",\"\").astype(float)"
      ],
      "execution_count": null,
      "outputs": []
    },
    {
      "cell_type": "markdown",
      "metadata": {
        "id": "Yb0sU9CaC_p3"
      },
      "source": [
        "### Dimensions of the Data."
      ]
    },
    {
      "cell_type": "code",
      "metadata": {
        "colab": {
          "base_uri": "https://localhost:8080/"
        },
        "id": "jycADs48C_p3",
        "outputId": "7df990a7-56a5-4362-8fcc-e50a46e61253"
      },
      "source": [
        "btc.shape"
      ],
      "execution_count": null,
      "outputs": [
        {
          "output_type": "execute_result",
          "data": {
            "text/plain": [
              "(1453, 6)"
            ]
          },
          "metadata": {
            "tags": []
          },
          "execution_count": 70
        }
      ]
    },
    {
      "cell_type": "code",
      "metadata": {
        "colab": {
          "base_uri": "https://localhost:8080/"
        },
        "id": "K_j-hRqwC_p4",
        "outputId": "13b676b7-3202-4290-c893-f044f18fc48a"
      },
      "source": [
        "eth.shape"
      ],
      "execution_count": null,
      "outputs": [
        {
          "output_type": "execute_result",
          "data": {
            "text/plain": [
              "(1453, 6)"
            ]
          },
          "metadata": {
            "tags": []
          },
          "execution_count": 71
        }
      ]
    },
    {
      "cell_type": "code",
      "metadata": {
        "colab": {
          "base_uri": "https://localhost:8080/"
        },
        "id": "Vi7T-pvjC_p4",
        "outputId": "e5d65d19-0789-4e47-ba68-04c1d7fb7145"
      },
      "source": [
        "doge.shape"
      ],
      "execution_count": null,
      "outputs": [
        {
          "output_type": "execute_result",
          "data": {
            "text/plain": [
              "(1453, 6)"
            ]
          },
          "metadata": {
            "tags": []
          },
          "execution_count": 72
        }
      ]
    },
    {
      "cell_type": "code",
      "metadata": {
        "colab": {
          "base_uri": "https://localhost:8080/"
        },
        "id": "Pu0kZfuXC_p4",
        "outputId": "20ad5ac5-f501-4d1b-d94c-a8ef74b4eb62"
      },
      "source": [
        "banks.shape"
      ],
      "execution_count": null,
      "outputs": [
        {
          "output_type": "execute_result",
          "data": {
            "text/plain": [
              "(50, 3)"
            ]
          },
          "metadata": {
            "tags": []
          },
          "execution_count": 73
        }
      ]
    },
    {
      "cell_type": "code",
      "metadata": {
        "colab": {
          "base_uri": "https://localhost:8080/"
        },
        "id": "5IUDhBPWC_p5",
        "outputId": "3922bf59-29a6-4343-f3db-9233d4fbb6d5"
      },
      "source": [
        "btc_1year_market_cap.shape"
      ],
      "execution_count": null,
      "outputs": [
        {
          "output_type": "execute_result",
          "data": {
            "text/plain": [
              "(366, 6)"
            ]
          },
          "metadata": {
            "tags": []
          },
          "execution_count": 74
        }
      ]
    },
    {
      "cell_type": "code",
      "metadata": {
        "colab": {
          "base_uri": "https://localhost:8080/"
        },
        "id": "xqMMZmQmC_p5",
        "outputId": "24b22e00-018c-4750-ffc4-f5e32d0ef6cb"
      },
      "source": [
        "eth_1year_market_cap.shape"
      ],
      "execution_count": null,
      "outputs": [
        {
          "output_type": "execute_result",
          "data": {
            "text/plain": [
              "(366, 6)"
            ]
          },
          "metadata": {
            "tags": []
          },
          "execution_count": 75
        }
      ]
    },
    {
      "cell_type": "code",
      "metadata": {
        "colab": {
          "base_uri": "https://localhost:8080/"
        },
        "id": "zfmvSTKDC_p5",
        "outputId": "8b944df0-835a-4147-bb36-cef225943124"
      },
      "source": [
        "doge_1year_market_cap.shape"
      ],
      "execution_count": null,
      "outputs": [
        {
          "output_type": "execute_result",
          "data": {
            "text/plain": [
              "(366, 6)"
            ]
          },
          "metadata": {
            "tags": []
          },
          "execution_count": 76
        }
      ]
    },
    {
      "cell_type": "code",
      "metadata": {
        "colab": {
          "base_uri": "https://localhost:8080/"
        },
        "id": "FatxMJMXC_p5",
        "outputId": "1acecc96-2c0d-4831-9f43-2f797206e4c5"
      },
      "source": [
        "energy_consumption_countries.shape"
      ],
      "execution_count": null,
      "outputs": [
        {
          "output_type": "execute_result",
          "data": {
            "text/plain": [
              "(217, 5)"
            ]
          },
          "metadata": {
            "tags": []
          },
          "execution_count": 77
        }
      ]
    },
    {
      "cell_type": "code",
      "metadata": {
        "colab": {
          "base_uri": "https://localhost:8080/"
        },
        "id": "jo-1OqQ4C_p6",
        "outputId": "8bdf07c0-11f3-4eaa-899b-8afac837d854"
      },
      "source": [
        "sp500_stocks.shape"
      ],
      "execution_count": null,
      "outputs": [
        {
          "output_type": "execute_result",
          "data": {
            "text/plain": [
              "(505, 6)"
            ]
          },
          "metadata": {
            "tags": []
          },
          "execution_count": 78
        }
      ]
    },
    {
      "cell_type": "code",
      "metadata": {
        "colab": {
          "base_uri": "https://localhost:8080/"
        },
        "id": "WtMFLWCmC_p6",
        "outputId": "a5fa3195-2644-404c-902f-05fedde76445"
      },
      "source": [
        "dji_stocks.shape"
      ],
      "execution_count": null,
      "outputs": [
        {
          "output_type": "execute_result",
          "data": {
            "text/plain": [
              "(505, 6)"
            ]
          },
          "metadata": {
            "tags": []
          },
          "execution_count": 79
        }
      ]
    },
    {
      "cell_type": "markdown",
      "metadata": {
        "id": "10wSUssqC_p6"
      },
      "source": [
        "### Statistical Summary of Data."
      ]
    },
    {
      "cell_type": "code",
      "metadata": {
        "colab": {
          "base_uri": "https://localhost:8080/",
          "height": 297
        },
        "id": "3mcbwIyKC_p7",
        "outputId": "a2b38f6e-0cd0-4ebe-858b-581924ac03e3"
      },
      "source": [
        "btc.describe()"
      ],
      "execution_count": null,
      "outputs": [
        {
          "output_type": "execute_result",
          "data": {
            "text/html": [
              "<div>\n",
              "<style scoped>\n",
              "    .dataframe tbody tr th:only-of-type {\n",
              "        vertical-align: middle;\n",
              "    }\n",
              "\n",
              "    .dataframe tbody tr th {\n",
              "        vertical-align: top;\n",
              "    }\n",
              "\n",
              "    .dataframe thead th {\n",
              "        text-align: right;\n",
              "    }\n",
              "</style>\n",
              "<table border=\"1\" class=\"dataframe\">\n",
              "  <thead>\n",
              "    <tr style=\"text-align: right;\">\n",
              "      <th></th>\n",
              "      <th>Price</th>\n",
              "      <th>Open</th>\n",
              "      <th>High</th>\n",
              "      <th>Low</th>\n",
              "      <th>Change %</th>\n",
              "    </tr>\n",
              "  </thead>\n",
              "  <tbody>\n",
              "    <tr>\n",
              "      <th>count</th>\n",
              "      <td>1453.000000</td>\n",
              "      <td>1453.000000</td>\n",
              "      <td>1453.000000</td>\n",
              "      <td>1453.000000</td>\n",
              "      <td>1453.000000</td>\n",
              "    </tr>\n",
              "    <tr>\n",
              "      <th>mean</th>\n",
              "      <td>12236.468754</td>\n",
              "      <td>12211.429456</td>\n",
              "      <td>12585.464900</td>\n",
              "      <td>11791.916105</td>\n",
              "      <td>0.002746</td>\n",
              "    </tr>\n",
              "    <tr>\n",
              "      <th>std</th>\n",
              "      <td>12930.900744</td>\n",
              "      <td>12914.627096</td>\n",
              "      <td>13347.980278</td>\n",
              "      <td>12403.618064</td>\n",
              "      <td>0.043726</td>\n",
              "    </tr>\n",
              "    <tr>\n",
              "      <th>min</th>\n",
              "      <td>1914.100000</td>\n",
              "      <td>1914.100000</td>\n",
              "      <td>2044.400000</td>\n",
              "      <td>1809.000000</td>\n",
              "      <td>-0.390000</td>\n",
              "    </tr>\n",
              "    <tr>\n",
              "      <th>25%</th>\n",
              "      <td>6291.300000</td>\n",
              "      <td>6283.700000</td>\n",
              "      <td>6451.700000</td>\n",
              "      <td>6138.800000</td>\n",
              "      <td>-0.020000</td>\n",
              "    </tr>\n",
              "    <tr>\n",
              "      <th>50%</th>\n",
              "      <td>8304.400000</td>\n",
              "      <td>8302.700000</td>\n",
              "      <td>8536.500000</td>\n",
              "      <td>8110.400000</td>\n",
              "      <td>0.000000</td>\n",
              "    </tr>\n",
              "    <tr>\n",
              "      <th>75%</th>\n",
              "      <td>10904.500000</td>\n",
              "      <td>10899.400000</td>\n",
              "      <td>11175.200000</td>\n",
              "      <td>10568.800000</td>\n",
              "      <td>0.020000</td>\n",
              "    </tr>\n",
              "    <tr>\n",
              "      <th>max</th>\n",
              "      <td>63540.900000</td>\n",
              "      <td>63544.200000</td>\n",
              "      <td>64778.000000</td>\n",
              "      <td>62067.500000</td>\n",
              "      <td>0.260000</td>\n",
              "    </tr>\n",
              "  </tbody>\n",
              "</table>\n",
              "</div>"
            ],
            "text/plain": [
              "              Price          Open          High           Low     Change %\n",
              "count   1453.000000   1453.000000   1453.000000   1453.000000  1453.000000\n",
              "mean   12236.468754  12211.429456  12585.464900  11791.916105     0.002746\n",
              "std    12930.900744  12914.627096  13347.980278  12403.618064     0.043726\n",
              "min     1914.100000   1914.100000   2044.400000   1809.000000    -0.390000\n",
              "25%     6291.300000   6283.700000   6451.700000   6138.800000    -0.020000\n",
              "50%     8304.400000   8302.700000   8536.500000   8110.400000     0.000000\n",
              "75%    10904.500000  10899.400000  11175.200000  10568.800000     0.020000\n",
              "max    63540.900000  63544.200000  64778.000000  62067.500000     0.260000"
            ]
          },
          "metadata": {
            "tags": []
          },
          "execution_count": 80
        }
      ]
    },
    {
      "cell_type": "code",
      "metadata": {
        "colab": {
          "base_uri": "https://localhost:8080/",
          "height": 297
        },
        "id": "QxYXsfKpC_p7",
        "outputId": "89824810-e77c-4860-e656-e5fed69e0721"
      },
      "source": [
        "eth.describe()"
      ],
      "execution_count": null,
      "outputs": [
        {
          "output_type": "execute_result",
          "data": {
            "text/html": [
              "<div>\n",
              "<style scoped>\n",
              "    .dataframe tbody tr th:only-of-type {\n",
              "        vertical-align: middle;\n",
              "    }\n",
              "\n",
              "    .dataframe tbody tr th {\n",
              "        vertical-align: top;\n",
              "    }\n",
              "\n",
              "    .dataframe thead th {\n",
              "        text-align: right;\n",
              "    }\n",
              "</style>\n",
              "<table border=\"1\" class=\"dataframe\">\n",
              "  <thead>\n",
              "    <tr style=\"text-align: right;\">\n",
              "      <th></th>\n",
              "      <th>Price</th>\n",
              "      <th>Open</th>\n",
              "      <th>High</th>\n",
              "      <th>Low</th>\n",
              "      <th>Change %</th>\n",
              "    </tr>\n",
              "  </thead>\n",
              "  <tbody>\n",
              "    <tr>\n",
              "      <th>count</th>\n",
              "      <td>1453.000000</td>\n",
              "      <td>1453.000000</td>\n",
              "      <td>1453.000000</td>\n",
              "      <td>1453.000000</td>\n",
              "      <td>1453.00000</td>\n",
              "    </tr>\n",
              "    <tr>\n",
              "      <th>mean</th>\n",
              "      <td>493.044639</td>\n",
              "      <td>491.341769</td>\n",
              "      <td>512.300206</td>\n",
              "      <td>467.596524</td>\n",
              "      <td>0.00340</td>\n",
              "    </tr>\n",
              "    <tr>\n",
              "      <th>std</th>\n",
              "      <td>589.420557</td>\n",
              "      <td>586.604947</td>\n",
              "      <td>617.347227</td>\n",
              "      <td>551.835374</td>\n",
              "      <td>0.05597</td>\n",
              "    </tr>\n",
              "    <tr>\n",
              "      <th>min</th>\n",
              "      <td>83.810000</td>\n",
              "      <td>83.810000</td>\n",
              "      <td>85.070000</td>\n",
              "      <td>77.650000</td>\n",
              "      <td>-0.45000</td>\n",
              "    </tr>\n",
              "    <tr>\n",
              "      <th>25%</th>\n",
              "      <td>185.960000</td>\n",
              "      <td>185.860000</td>\n",
              "      <td>190.230000</td>\n",
              "      <td>179.460000</td>\n",
              "      <td>-0.02000</td>\n",
              "    </tr>\n",
              "    <tr>\n",
              "      <th>50%</th>\n",
              "      <td>278.410000</td>\n",
              "      <td>278.300000</td>\n",
              "      <td>287.530000</td>\n",
              "      <td>266.400000</td>\n",
              "      <td>0.00000</td>\n",
              "    </tr>\n",
              "    <tr>\n",
              "      <th>75%</th>\n",
              "      <td>486.450000</td>\n",
              "      <td>485.970000</td>\n",
              "      <td>511.540000</td>\n",
              "      <td>465.410000</td>\n",
              "      <td>0.03000</td>\n",
              "    </tr>\n",
              "    <tr>\n",
              "      <th>max</th>\n",
              "      <td>4167.780000</td>\n",
              "      <td>4173.610000</td>\n",
              "      <td>4366.100000</td>\n",
              "      <td>3794.150000</td>\n",
              "      <td>0.26000</td>\n",
              "    </tr>\n",
              "  </tbody>\n",
              "</table>\n",
              "</div>"
            ],
            "text/plain": [
              "             Price         Open         High          Low    Change %\n",
              "count  1453.000000  1453.000000  1453.000000  1453.000000  1453.00000\n",
              "mean    493.044639   491.341769   512.300206   467.596524     0.00340\n",
              "std     589.420557   586.604947   617.347227   551.835374     0.05597\n",
              "min      83.810000    83.810000    85.070000    77.650000    -0.45000\n",
              "25%     185.960000   185.860000   190.230000   179.460000    -0.02000\n",
              "50%     278.410000   278.300000   287.530000   266.400000     0.00000\n",
              "75%     486.450000   485.970000   511.540000   465.410000     0.03000\n",
              "max    4167.780000  4173.610000  4366.100000  3794.150000     0.26000"
            ]
          },
          "metadata": {
            "tags": []
          },
          "execution_count": 81
        }
      ]
    },
    {
      "cell_type": "code",
      "metadata": {
        "colab": {
          "base_uri": "https://localhost:8080/",
          "height": 297
        },
        "id": "QYO7q65EC_p7",
        "outputId": "9a6a6788-7fd2-4828-d7e8-53a6108b3610"
      },
      "source": [
        "doge.describe()"
      ],
      "execution_count": null,
      "outputs": [
        {
          "output_type": "execute_result",
          "data": {
            "text/html": [
              "<div>\n",
              "<style scoped>\n",
              "    .dataframe tbody tr th:only-of-type {\n",
              "        vertical-align: middle;\n",
              "    }\n",
              "\n",
              "    .dataframe tbody tr th {\n",
              "        vertical-align: top;\n",
              "    }\n",
              "\n",
              "    .dataframe thead th {\n",
              "        text-align: right;\n",
              "    }\n",
              "</style>\n",
              "<table border=\"1\" class=\"dataframe\">\n",
              "  <thead>\n",
              "    <tr style=\"text-align: right;\">\n",
              "      <th></th>\n",
              "      <th>Price</th>\n",
              "      <th>Open</th>\n",
              "      <th>High</th>\n",
              "      <th>Low</th>\n",
              "      <th>Change %</th>\n",
              "    </tr>\n",
              "  </thead>\n",
              "  <tbody>\n",
              "    <tr>\n",
              "      <th>count</th>\n",
              "      <td>1453.000000</td>\n",
              "      <td>1453.000000</td>\n",
              "      <td>1453.000000</td>\n",
              "      <td>1453.000000</td>\n",
              "      <td>1453.000000</td>\n",
              "    </tr>\n",
              "    <tr>\n",
              "      <th>mean</th>\n",
              "      <td>0.017336</td>\n",
              "      <td>0.017103</td>\n",
              "      <td>0.019187</td>\n",
              "      <td>0.015122</td>\n",
              "      <td>0.049804</td>\n",
              "    </tr>\n",
              "    <tr>\n",
              "      <th>std</th>\n",
              "      <td>0.069643</td>\n",
              "      <td>0.069125</td>\n",
              "      <td>0.077808</td>\n",
              "      <td>0.059553</td>\n",
              "      <td>1.629529</td>\n",
              "    </tr>\n",
              "    <tr>\n",
              "      <th>min</th>\n",
              "      <td>0.000800</td>\n",
              "      <td>0.000800</td>\n",
              "      <td>0.000800</td>\n",
              "      <td>0.000700</td>\n",
              "      <td>-0.984300</td>\n",
              "    </tr>\n",
              "    <tr>\n",
              "      <th>25%</th>\n",
              "      <td>0.002300</td>\n",
              "      <td>0.002300</td>\n",
              "      <td>0.002400</td>\n",
              "      <td>0.002200</td>\n",
              "      <td>-0.024600</td>\n",
              "    </tr>\n",
              "    <tr>\n",
              "      <th>50%</th>\n",
              "      <td>0.002800</td>\n",
              "      <td>0.002800</td>\n",
              "      <td>0.002800</td>\n",
              "      <td>0.002700</td>\n",
              "      <td>-0.000500</td>\n",
              "    </tr>\n",
              "    <tr>\n",
              "      <th>75%</th>\n",
              "      <td>0.003700</td>\n",
              "      <td>0.003700</td>\n",
              "      <td>0.004000</td>\n",
              "      <td>0.003500</td>\n",
              "      <td>0.021600</td>\n",
              "    </tr>\n",
              "    <tr>\n",
              "      <th>max</th>\n",
              "      <td>0.686900</td>\n",
              "      <td>0.686900</td>\n",
              "      <td>0.738300</td>\n",
              "      <td>0.605200</td>\n",
              "      <td>61.915500</td>\n",
              "    </tr>\n",
              "  </tbody>\n",
              "</table>\n",
              "</div>"
            ],
            "text/plain": [
              "             Price         Open         High          Low     Change %\n",
              "count  1453.000000  1453.000000  1453.000000  1453.000000  1453.000000\n",
              "mean      0.017336     0.017103     0.019187     0.015122     0.049804\n",
              "std       0.069643     0.069125     0.077808     0.059553     1.629529\n",
              "min       0.000800     0.000800     0.000800     0.000700    -0.984300\n",
              "25%       0.002300     0.002300     0.002400     0.002200    -0.024600\n",
              "50%       0.002800     0.002800     0.002800     0.002700    -0.000500\n",
              "75%       0.003700     0.003700     0.004000     0.003500     0.021600\n",
              "max       0.686900     0.686900     0.738300     0.605200    61.915500"
            ]
          },
          "metadata": {
            "tags": []
          },
          "execution_count": 82
        }
      ]
    },
    {
      "cell_type": "code",
      "metadata": {
        "colab": {
          "base_uri": "https://localhost:8080/",
          "height": 297
        },
        "id": "pvtmJbw9C_p7",
        "outputId": "ddf4921b-c028-4ac6-b652-d392486c2c2c"
      },
      "source": [
        "banks.describe()"
      ],
      "execution_count": null,
      "outputs": [
        {
          "output_type": "execute_result",
          "data": {
            "text/html": [
              "<div>\n",
              "<style scoped>\n",
              "    .dataframe tbody tr th:only-of-type {\n",
              "        vertical-align: middle;\n",
              "    }\n",
              "\n",
              "    .dataframe tbody tr th {\n",
              "        vertical-align: top;\n",
              "    }\n",
              "\n",
              "    .dataframe thead th {\n",
              "        text-align: right;\n",
              "    }\n",
              "</style>\n",
              "<table border=\"1\" class=\"dataframe\">\n",
              "  <thead>\n",
              "    <tr style=\"text-align: right;\">\n",
              "      <th></th>\n",
              "      <th>Marketcap</th>\n",
              "    </tr>\n",
              "  </thead>\n",
              "  <tbody>\n",
              "    <tr>\n",
              "      <th>count</th>\n",
              "      <td>50.00000</td>\n",
              "    </tr>\n",
              "    <tr>\n",
              "      <th>mean</th>\n",
              "      <td>87.58770</td>\n",
              "    </tr>\n",
              "    <tr>\n",
              "      <th>std</th>\n",
              "      <td>62.23783</td>\n",
              "    </tr>\n",
              "    <tr>\n",
              "      <th>min</th>\n",
              "      <td>38.02700</td>\n",
              "    </tr>\n",
              "    <tr>\n",
              "      <th>25%</th>\n",
              "      <td>47.40050</td>\n",
              "    </tr>\n",
              "    <tr>\n",
              "      <th>50%</th>\n",
              "      <td>61.22900</td>\n",
              "    </tr>\n",
              "    <tr>\n",
              "      <th>75%</th>\n",
              "      <td>93.03975</td>\n",
              "    </tr>\n",
              "    <tr>\n",
              "      <th>max</th>\n",
              "      <td>299.39300</td>\n",
              "    </tr>\n",
              "  </tbody>\n",
              "</table>\n",
              "</div>"
            ],
            "text/plain": [
              "       Marketcap\n",
              "count   50.00000\n",
              "mean    87.58770\n",
              "std     62.23783\n",
              "min     38.02700\n",
              "25%     47.40050\n",
              "50%     61.22900\n",
              "75%     93.03975\n",
              "max    299.39300"
            ]
          },
          "metadata": {
            "tags": []
          },
          "execution_count": 83
        }
      ]
    },
    {
      "cell_type": "code",
      "metadata": {
        "colab": {
          "base_uri": "https://localhost:8080/",
          "height": 297
        },
        "id": "wsfxDBxBC_p8",
        "outputId": "26b62504-4ea4-4611-c356-5e1fb13e43d4"
      },
      "source": [
        "btc_1year_market_cap.describe()"
      ],
      "execution_count": null,
      "outputs": [
        {
          "output_type": "execute_result",
          "data": {
            "text/html": [
              "<div>\n",
              "<style scoped>\n",
              "    .dataframe tbody tr th:only-of-type {\n",
              "        vertical-align: middle;\n",
              "    }\n",
              "\n",
              "    .dataframe tbody tr th {\n",
              "        vertical-align: top;\n",
              "    }\n",
              "\n",
              "    .dataframe thead th {\n",
              "        text-align: right;\n",
              "    }\n",
              "</style>\n",
              "<table border=\"1\" class=\"dataframe\">\n",
              "  <thead>\n",
              "    <tr style=\"text-align: right;\">\n",
              "      <th></th>\n",
              "      <th>Open</th>\n",
              "      <th>High</th>\n",
              "      <th>Low</th>\n",
              "      <th>Close</th>\n",
              "      <th>Volume</th>\n",
              "      <th>Market Cap</th>\n",
              "    </tr>\n",
              "  </thead>\n",
              "  <tbody>\n",
              "    <tr>\n",
              "      <th>count</th>\n",
              "      <td>366.000000</td>\n",
              "      <td>366.000000</td>\n",
              "      <td>366.000000</td>\n",
              "      <td>366.000000</td>\n",
              "      <td>3.660000e+02</td>\n",
              "      <td>3.660000e+02</td>\n",
              "    </tr>\n",
              "    <tr>\n",
              "      <th>mean</th>\n",
              "      <td>27479.417459</td>\n",
              "      <td>28313.508579</td>\n",
              "      <td>26551.062678</td>\n",
              "      <td>27552.214863</td>\n",
              "      <td>4.452147e+10</td>\n",
              "      <td>5.129565e+11</td>\n",
              "    </tr>\n",
              "    <tr>\n",
              "      <th>std</th>\n",
              "      <td>18579.742079</td>\n",
              "      <td>19185.342997</td>\n",
              "      <td>17829.182622</td>\n",
              "      <td>18560.802323</td>\n",
              "      <td>2.700380e+10</td>\n",
              "      <td>3.474554e+11</td>\n",
              "    </tr>\n",
              "    <tr>\n",
              "      <th>min</th>\n",
              "      <td>9048.460000</td>\n",
              "      <td>9162.180000</td>\n",
              "      <td>8975.530000</td>\n",
              "      <td>9045.390000</td>\n",
              "      <td>1.225260e+10</td>\n",
              "      <td>1.665850e+11</td>\n",
              "    </tr>\n",
              "    <tr>\n",
              "      <th>25%</th>\n",
              "      <td>10957.177500</td>\n",
              "      <td>11142.907500</td>\n",
              "      <td>10818.275000</td>\n",
              "      <td>10978.892500</td>\n",
              "      <td>2.463782e+10</td>\n",
              "      <td>2.027758e+11</td>\n",
              "    </tr>\n",
              "    <tr>\n",
              "      <th>50%</th>\n",
              "      <td>18587.310000</td>\n",
              "      <td>18928.085000</td>\n",
              "      <td>18087.350000</td>\n",
              "      <td>18631.770000</td>\n",
              "      <td>4.118060e+10</td>\n",
              "      <td>3.456155e+11</td>\n",
              "    </tr>\n",
              "    <tr>\n",
              "      <th>75%</th>\n",
              "      <td>46456.295000</td>\n",
              "      <td>48341.410000</td>\n",
              "      <td>44950.027500</td>\n",
              "      <td>46474.840000</td>\n",
              "      <td>5.851956e+10</td>\n",
              "      <td>8.683800e+11</td>\n",
              "    </tr>\n",
              "    <tr>\n",
              "      <th>max</th>\n",
              "      <td>63523.750000</td>\n",
              "      <td>64863.100000</td>\n",
              "      <td>62208.960000</td>\n",
              "      <td>63503.460000</td>\n",
              "      <td>3.509680e+11</td>\n",
              "      <td>1.186360e+12</td>\n",
              "    </tr>\n",
              "  </tbody>\n",
              "</table>\n",
              "</div>"
            ],
            "text/plain": [
              "               Open          High  ...        Volume    Market Cap\n",
              "count    366.000000    366.000000  ...  3.660000e+02  3.660000e+02\n",
              "mean   27479.417459  28313.508579  ...  4.452147e+10  5.129565e+11\n",
              "std    18579.742079  19185.342997  ...  2.700380e+10  3.474554e+11\n",
              "min     9048.460000   9162.180000  ...  1.225260e+10  1.665850e+11\n",
              "25%    10957.177500  11142.907500  ...  2.463782e+10  2.027758e+11\n",
              "50%    18587.310000  18928.085000  ...  4.118060e+10  3.456155e+11\n",
              "75%    46456.295000  48341.410000  ...  5.851956e+10  8.683800e+11\n",
              "max    63523.750000  64863.100000  ...  3.509680e+11  1.186360e+12\n",
              "\n",
              "[8 rows x 6 columns]"
            ]
          },
          "metadata": {
            "tags": []
          },
          "execution_count": 84
        }
      ]
    },
    {
      "cell_type": "code",
      "metadata": {
        "colab": {
          "base_uri": "https://localhost:8080/",
          "height": 297
        },
        "id": "095NtdOCC_p8",
        "outputId": "5f0183c9-9120-4f0e-f147-0f2e79268f9a"
      },
      "source": [
        "eth_1year_market_cap.describe()"
      ],
      "execution_count": null,
      "outputs": [
        {
          "output_type": "execute_result",
          "data": {
            "text/html": [
              "<div>\n",
              "<style scoped>\n",
              "    .dataframe tbody tr th:only-of-type {\n",
              "        vertical-align: middle;\n",
              "    }\n",
              "\n",
              "    .dataframe tbody tr th {\n",
              "        vertical-align: top;\n",
              "    }\n",
              "\n",
              "    .dataframe thead th {\n",
              "        text-align: right;\n",
              "    }\n",
              "</style>\n",
              "<table border=\"1\" class=\"dataframe\">\n",
              "  <thead>\n",
              "    <tr style=\"text-align: right;\">\n",
              "      <th></th>\n",
              "      <th>Open</th>\n",
              "      <th>High</th>\n",
              "      <th>Low</th>\n",
              "      <th>Close</th>\n",
              "      <th>Volume</th>\n",
              "      <th>Market Cap</th>\n",
              "    </tr>\n",
              "  </thead>\n",
              "  <tbody>\n",
              "    <tr>\n",
              "      <th>count</th>\n",
              "      <td>366.000000</td>\n",
              "      <td>366.000000</td>\n",
              "      <td>366.000000</td>\n",
              "      <td>366.000000</td>\n",
              "      <td>3.660000e+02</td>\n",
              "      <td>3.660000e+02</td>\n",
              "    </tr>\n",
              "    <tr>\n",
              "      <th>mean</th>\n",
              "      <td>1064.078825</td>\n",
              "      <td>1111.439863</td>\n",
              "      <td>1012.370628</td>\n",
              "      <td>1070.573607</td>\n",
              "      <td>2.247063e+10</td>\n",
              "      <td>1.228618e+11</td>\n",
              "    </tr>\n",
              "    <tr>\n",
              "      <th>std</th>\n",
              "      <td>937.129800</td>\n",
              "      <td>987.567697</td>\n",
              "      <td>878.757878</td>\n",
              "      <td>939.564748</td>\n",
              "      <td>1.438837e+10</td>\n",
              "      <td>1.090607e+11</td>\n",
              "    </tr>\n",
              "    <tr>\n",
              "      <th>min</th>\n",
              "      <td>222.910000</td>\n",
              "      <td>228.600000</td>\n",
              "      <td>219.470000</td>\n",
              "      <td>222.960000</td>\n",
              "      <td>5.109033e+09</td>\n",
              "      <td>2.486643e+10</td>\n",
              "    </tr>\n",
              "    <tr>\n",
              "      <th>25%</th>\n",
              "      <td>368.812500</td>\n",
              "      <td>380.205000</td>\n",
              "      <td>358.827500</td>\n",
              "      <td>369.522500</td>\n",
              "      <td>1.194218e+10</td>\n",
              "      <td>4.171030e+10</td>\n",
              "    </tr>\n",
              "    <tr>\n",
              "      <th>50%</th>\n",
              "      <td>568.980000</td>\n",
              "      <td>584.930000</td>\n",
              "      <td>550.525000</td>\n",
              "      <td>570.020000</td>\n",
              "      <td>1.678911e+10</td>\n",
              "      <td>6.477594e+10</td>\n",
              "    </tr>\n",
              "    <tr>\n",
              "      <th>75%</th>\n",
              "      <td>1746.125000</td>\n",
              "      <td>1814.962500</td>\n",
              "      <td>1674.315000</td>\n",
              "      <td>1762.685000</td>\n",
              "      <td>3.119704e+10</td>\n",
              "      <td>2.020065e+11</td>\n",
              "    </tr>\n",
              "    <tr>\n",
              "      <th>max</th>\n",
              "      <td>4174.640000</td>\n",
              "      <td>4362.350000</td>\n",
              "      <td>3785.850000</td>\n",
              "      <td>4168.700000</td>\n",
              "      <td>8.448291e+10</td>\n",
              "      <td>4.828820e+11</td>\n",
              "    </tr>\n",
              "  </tbody>\n",
              "</table>\n",
              "</div>"
            ],
            "text/plain": [
              "              Open         High  ...        Volume    Market Cap\n",
              "count   366.000000   366.000000  ...  3.660000e+02  3.660000e+02\n",
              "mean   1064.078825  1111.439863  ...  2.247063e+10  1.228618e+11\n",
              "std     937.129800   987.567697  ...  1.438837e+10  1.090607e+11\n",
              "min     222.910000   228.600000  ...  5.109033e+09  2.486643e+10\n",
              "25%     368.812500   380.205000  ...  1.194218e+10  4.171030e+10\n",
              "50%     568.980000   584.930000  ...  1.678911e+10  6.477594e+10\n",
              "75%    1746.125000  1814.962500  ...  3.119704e+10  2.020065e+11\n",
              "max    4174.640000  4362.350000  ...  8.448291e+10  4.828820e+11\n",
              "\n",
              "[8 rows x 6 columns]"
            ]
          },
          "metadata": {
            "tags": []
          },
          "execution_count": 85
        }
      ]
    },
    {
      "cell_type": "code",
      "metadata": {
        "colab": {
          "base_uri": "https://localhost:8080/",
          "height": 297
        },
        "id": "hPosDocMC_p8",
        "outputId": "2506afaa-7d0a-4fa3-c00b-01af3be7832d"
      },
      "source": [
        "doge_1year_market_cap.describe()"
      ],
      "execution_count": null,
      "outputs": [
        {
          "output_type": "execute_result",
          "data": {
            "text/html": [
              "<div>\n",
              "<style scoped>\n",
              "    .dataframe tbody tr th:only-of-type {\n",
              "        vertical-align: middle;\n",
              "    }\n",
              "\n",
              "    .dataframe tbody tr th {\n",
              "        vertical-align: top;\n",
              "    }\n",
              "\n",
              "    .dataframe thead th {\n",
              "        text-align: right;\n",
              "    }\n",
              "</style>\n",
              "<table border=\"1\" class=\"dataframe\">\n",
              "  <thead>\n",
              "    <tr style=\"text-align: right;\">\n",
              "      <th></th>\n",
              "      <th>Open</th>\n",
              "      <th>High</th>\n",
              "      <th>Low</th>\n",
              "      <th>Close</th>\n",
              "      <th>Volume</th>\n",
              "      <th>Market Cap</th>\n",
              "    </tr>\n",
              "  </thead>\n",
              "  <tbody>\n",
              "    <tr>\n",
              "      <th>count</th>\n",
              "      <td>366.000000</td>\n",
              "      <td>366.000000</td>\n",
              "      <td>366.000000</td>\n",
              "      <td>366.000000</td>\n",
              "      <td>3.660000e+02</td>\n",
              "      <td>3.660000e+02</td>\n",
              "    </tr>\n",
              "    <tr>\n",
              "      <th>mean</th>\n",
              "      <td>0.062842</td>\n",
              "      <td>0.070765</td>\n",
              "      <td>0.055710</td>\n",
              "      <td>0.063880</td>\n",
              "      <td>2.836303e+09</td>\n",
              "      <td>8.481285e+09</td>\n",
              "    </tr>\n",
              "    <tr>\n",
              "      <th>std</th>\n",
              "      <td>0.134766</td>\n",
              "      <td>0.152727</td>\n",
              "      <td>0.117284</td>\n",
              "      <td>0.135831</td>\n",
              "      <td>7.184862e+09</td>\n",
              "      <td>1.748181e+10</td>\n",
              "    </tr>\n",
              "    <tr>\n",
              "      <th>min</th>\n",
              "      <td>0.000000</td>\n",
              "      <td>0.000000</td>\n",
              "      <td>0.000000</td>\n",
              "      <td>0.000000</td>\n",
              "      <td>2.275453e+07</td>\n",
              "      <td>2.892774e+08</td>\n",
              "    </tr>\n",
              "    <tr>\n",
              "      <th>25%</th>\n",
              "      <td>0.000000</td>\n",
              "      <td>0.000000</td>\n",
              "      <td>0.000000</td>\n",
              "      <td>0.000000</td>\n",
              "      <td>7.765858e+07</td>\n",
              "      <td>3.511249e+08</td>\n",
              "    </tr>\n",
              "    <tr>\n",
              "      <th>50%</th>\n",
              "      <td>0.000000</td>\n",
              "      <td>0.000000</td>\n",
              "      <td>0.000000</td>\n",
              "      <td>0.000000</td>\n",
              "      <td>1.726748e+08</td>\n",
              "      <td>4.438429e+08</td>\n",
              "    </tr>\n",
              "    <tr>\n",
              "      <th>75%</th>\n",
              "      <td>0.050000</td>\n",
              "      <td>0.060000</td>\n",
              "      <td>0.050000</td>\n",
              "      <td>0.050000</td>\n",
              "      <td>1.727614e+09</td>\n",
              "      <td>7.004811e+09</td>\n",
              "    </tr>\n",
              "    <tr>\n",
              "      <th>max</th>\n",
              "      <td>0.690000</td>\n",
              "      <td>0.740000</td>\n",
              "      <td>0.610000</td>\n",
              "      <td>0.680000</td>\n",
              "      <td>6.941068e+10</td>\n",
              "      <td>8.868082e+10</td>\n",
              "    </tr>\n",
              "  </tbody>\n",
              "</table>\n",
              "</div>"
            ],
            "text/plain": [
              "             Open        High  ...        Volume    Market Cap\n",
              "count  366.000000  366.000000  ...  3.660000e+02  3.660000e+02\n",
              "mean     0.062842    0.070765  ...  2.836303e+09  8.481285e+09\n",
              "std      0.134766    0.152727  ...  7.184862e+09  1.748181e+10\n",
              "min      0.000000    0.000000  ...  2.275453e+07  2.892774e+08\n",
              "25%      0.000000    0.000000  ...  7.765858e+07  3.511249e+08\n",
              "50%      0.000000    0.000000  ...  1.726748e+08  4.438429e+08\n",
              "75%      0.050000    0.060000  ...  1.727614e+09  7.004811e+09\n",
              "max      0.690000    0.740000  ...  6.941068e+10  8.868082e+10\n",
              "\n",
              "[8 rows x 6 columns]"
            ]
          },
          "metadata": {
            "tags": []
          },
          "execution_count": 86
        }
      ]
    },
    {
      "cell_type": "code",
      "metadata": {
        "colab": {
          "base_uri": "https://localhost:8080/",
          "height": 297
        },
        "id": "WWwq0BOqC_p9",
        "outputId": "efa36c9d-9eb9-429c-d01f-9f57e16d11a6"
      },
      "source": [
        "energy_consumption_countries.describe()"
      ],
      "execution_count": null,
      "outputs": [
        {
          "output_type": "execute_result",
          "data": {
            "text/html": [
              "<div>\n",
              "<style scoped>\n",
              "    .dataframe tbody tr th:only-of-type {\n",
              "        vertical-align: middle;\n",
              "    }\n",
              "\n",
              "    .dataframe tbody tr th {\n",
              "        vertical-align: top;\n",
              "    }\n",
              "\n",
              "    .dataframe thead th {\n",
              "        text-align: right;\n",
              "    }\n",
              "</style>\n",
              "<table border=\"1\" class=\"dataframe\">\n",
              "  <thead>\n",
              "    <tr style=\"text-align: right;\">\n",
              "      <th></th>\n",
              "      <th>value</th>\n",
              "    </tr>\n",
              "  </thead>\n",
              "  <tbody>\n",
              "    <tr>\n",
              "      <th>count</th>\n",
              "      <td>2.170000e+02</td>\n",
              "    </tr>\n",
              "    <tr>\n",
              "      <th>mean</th>\n",
              "      <td>1.003289e+11</td>\n",
              "    </tr>\n",
              "    <tr>\n",
              "      <th>std</th>\n",
              "      <td>4.778335e+11</td>\n",
              "    </tr>\n",
              "    <tr>\n",
              "      <th>min</th>\n",
              "      <td>0.000000e+00</td>\n",
              "    </tr>\n",
              "    <tr>\n",
              "      <th>25%</th>\n",
              "      <td>6.299000e+08</td>\n",
              "    </tr>\n",
              "    <tr>\n",
              "      <th>50%</th>\n",
              "      <td>6.798000e+09</td>\n",
              "    </tr>\n",
              "    <tr>\n",
              "      <th>75%</th>\n",
              "      <td>3.950000e+10</td>\n",
              "    </tr>\n",
              "    <tr>\n",
              "      <th>max</th>\n",
              "      <td>5.564000e+12</td>\n",
              "    </tr>\n",
              "  </tbody>\n",
              "</table>\n",
              "</div>"
            ],
            "text/plain": [
              "              value\n",
              "count  2.170000e+02\n",
              "mean   1.003289e+11\n",
              "std    4.778335e+11\n",
              "min    0.000000e+00\n",
              "25%    6.299000e+08\n",
              "50%    6.798000e+09\n",
              "75%    3.950000e+10\n",
              "max    5.564000e+12"
            ]
          },
          "metadata": {
            "tags": []
          },
          "execution_count": 88
        }
      ]
    },
    {
      "cell_type": "code",
      "metadata": {
        "colab": {
          "base_uri": "https://localhost:8080/",
          "height": 297
        },
        "id": "GWRkjmdhDpdG",
        "outputId": "05d26fd4-3cbd-48a2-9319-a4883b7dc85a"
      },
      "source": [
        "energy_consumption_bitcoin.describe()"
      ],
      "execution_count": null,
      "outputs": [
        {
          "output_type": "execute_result",
          "data": {
            "text/html": [
              "<div>\n",
              "<style scoped>\n",
              "    .dataframe tbody tr th:only-of-type {\n",
              "        vertical-align: middle;\n",
              "    }\n",
              "\n",
              "    .dataframe tbody tr th {\n",
              "        vertical-align: top;\n",
              "    }\n",
              "\n",
              "    .dataframe thead th {\n",
              "        text-align: right;\n",
              "    }\n",
              "</style>\n",
              "<table border=\"1\" class=\"dataframe\">\n",
              "  <thead>\n",
              "    <tr style=\"text-align: right;\">\n",
              "      <th></th>\n",
              "      <th>Estimated TWh per Year</th>\n",
              "      <th>Minimum TWh per Year</th>\n",
              "    </tr>\n",
              "  </thead>\n",
              "  <tbody>\n",
              "    <tr>\n",
              "      <th>count</th>\n",
              "      <td>1582.000000</td>\n",
              "      <td>1582.000000</td>\n",
              "    </tr>\n",
              "    <tr>\n",
              "      <th>mean</th>\n",
              "      <td>58.539788</td>\n",
              "      <td>37.577336</td>\n",
              "    </tr>\n",
              "    <tr>\n",
              "      <th>std</th>\n",
              "      <td>24.929687</td>\n",
              "      <td>17.483782</td>\n",
              "    </tr>\n",
              "    <tr>\n",
              "      <th>min</th>\n",
              "      <td>9.290790</td>\n",
              "      <td>3.030529</td>\n",
              "    </tr>\n",
              "    <tr>\n",
              "      <th>25%</th>\n",
              "      <td>46.867848</td>\n",
              "      <td>27.557588</td>\n",
              "    </tr>\n",
              "    <tr>\n",
              "      <th>50%</th>\n",
              "      <td>67.738912</td>\n",
              "      <td>44.365839</td>\n",
              "    </tr>\n",
              "    <tr>\n",
              "      <th>75%</th>\n",
              "      <td>73.121461</td>\n",
              "      <td>50.485329</td>\n",
              "    </tr>\n",
              "    <tr>\n",
              "      <th>max</th>\n",
              "      <td>127.222018</td>\n",
              "      <td>71.104778</td>\n",
              "    </tr>\n",
              "  </tbody>\n",
              "</table>\n",
              "</div>"
            ],
            "text/plain": [
              "       Estimated TWh per Year  Minimum TWh per Year\n",
              "count             1582.000000           1582.000000\n",
              "mean                58.539788             37.577336\n",
              "std                 24.929687             17.483782\n",
              "min                  9.290790              3.030529\n",
              "25%                 46.867848             27.557588\n",
              "50%                 67.738912             44.365839\n",
              "75%                 73.121461             50.485329\n",
              "max                127.222018             71.104778"
            ]
          },
          "metadata": {
            "tags": []
          },
          "execution_count": 90
        }
      ]
    },
    {
      "cell_type": "code",
      "metadata": {
        "colab": {
          "base_uri": "https://localhost:8080/",
          "height": 297
        },
        "id": "ejNj23UcC_p9",
        "outputId": "f79dc029-635e-4894-e6cf-3e64cbbc9119"
      },
      "source": [
        "sp500_stocks.describe()"
      ],
      "execution_count": null,
      "outputs": [
        {
          "output_type": "execute_result",
          "data": {
            "text/html": [
              "<div>\n",
              "<style scoped>\n",
              "    .dataframe tbody tr th:only-of-type {\n",
              "        vertical-align: middle;\n",
              "    }\n",
              "\n",
              "    .dataframe tbody tr th {\n",
              "        vertical-align: top;\n",
              "    }\n",
              "\n",
              "    .dataframe thead th {\n",
              "        text-align: right;\n",
              "    }\n",
              "</style>\n",
              "<table border=\"1\" class=\"dataframe\">\n",
              "  <thead>\n",
              "    <tr style=\"text-align: right;\">\n",
              "      <th></th>\n",
              "      <th>Open</th>\n",
              "      <th>High</th>\n",
              "      <th>Low</th>\n",
              "      <th>Close</th>\n",
              "      <th>Adj. close</th>\n",
              "      <th>Volume</th>\n",
              "    </tr>\n",
              "  </thead>\n",
              "  <tbody>\n",
              "    <tr>\n",
              "      <th>count</th>\n",
              "      <td>505.000000</td>\n",
              "      <td>505.000000</td>\n",
              "      <td>505.000000</td>\n",
              "      <td>505.000000</td>\n",
              "      <td>505.000000</td>\n",
              "      <td>5.050000e+02</td>\n",
              "    </tr>\n",
              "    <tr>\n",
              "      <th>mean</th>\n",
              "      <td>1084.796792</td>\n",
              "      <td>1096.299624</td>\n",
              "      <td>1071.897901</td>\n",
              "      <td>1084.313525</td>\n",
              "      <td>1084.313525</td>\n",
              "      <td>5.302681e+09</td>\n",
              "    </tr>\n",
              "    <tr>\n",
              "      <th>std</th>\n",
              "      <td>209.286868</td>\n",
              "      <td>208.008075</td>\n",
              "      <td>209.796352</td>\n",
              "      <td>208.579451</td>\n",
              "      <td>208.579451</td>\n",
              "      <td>1.421660e+09</td>\n",
              "    </tr>\n",
              "    <tr>\n",
              "      <th>min</th>\n",
              "      <td>679.280000</td>\n",
              "      <td>695.270000</td>\n",
              "      <td>666.790000</td>\n",
              "      <td>676.530000</td>\n",
              "      <td>676.530000</td>\n",
              "      <td>1.219310e+09</td>\n",
              "    </tr>\n",
              "    <tr>\n",
              "      <th>25%</th>\n",
              "      <td>899.450000</td>\n",
              "      <td>911.760000</td>\n",
              "      <td>884.900000</td>\n",
              "      <td>900.940000</td>\n",
              "      <td>900.940000</td>\n",
              "      <td>4.238220e+09</td>\n",
              "    </tr>\n",
              "    <tr>\n",
              "      <th>50%</th>\n",
              "      <td>1061.510000</td>\n",
              "      <td>1067.280000</td>\n",
              "      <td>1047.300000</td>\n",
              "      <td>1060.870000</td>\n",
              "      <td>1060.870000</td>\n",
              "      <td>5.175640e+09</td>\n",
              "    </tr>\n",
              "    <tr>\n",
              "      <th>75%</th>\n",
              "      <td>1288.640000</td>\n",
              "      <td>1300.220000</td>\n",
              "      <td>1274.860000</td>\n",
              "      <td>1289.190000</td>\n",
              "      <td>1289.190000</td>\n",
              "      <td>6.134870e+09</td>\n",
              "    </tr>\n",
              "    <tr>\n",
              "      <th>max</th>\n",
              "      <td>1467.970000</td>\n",
              "      <td>1471.770000</td>\n",
              "      <td>1443.730000</td>\n",
              "      <td>1447.160000</td>\n",
              "      <td>1447.160000</td>\n",
              "      <td>1.145623e+10</td>\n",
              "    </tr>\n",
              "  </tbody>\n",
              "</table>\n",
              "</div>"
            ],
            "text/plain": [
              "              Open         High  ...   Adj. close        Volume\n",
              "count   505.000000   505.000000  ...   505.000000  5.050000e+02\n",
              "mean   1084.796792  1096.299624  ...  1084.313525  5.302681e+09\n",
              "std     209.286868   208.008075  ...   208.579451  1.421660e+09\n",
              "min     679.280000   695.270000  ...   676.530000  1.219310e+09\n",
              "25%     899.450000   911.760000  ...   900.940000  4.238220e+09\n",
              "50%    1061.510000  1067.280000  ...  1060.870000  5.175640e+09\n",
              "75%    1288.640000  1300.220000  ...  1289.190000  6.134870e+09\n",
              "max    1467.970000  1471.770000  ...  1447.160000  1.145623e+10\n",
              "\n",
              "[8 rows x 6 columns]"
            ]
          },
          "metadata": {
            "tags": []
          },
          "execution_count": 91
        }
      ]
    },
    {
      "cell_type": "code",
      "metadata": {
        "colab": {
          "base_uri": "https://localhost:8080/",
          "height": 297
        },
        "id": "GklBQhrSC_p9",
        "outputId": "514cc274-c1ff-4078-d40a-8c2c0901205e"
      },
      "source": [
        "dji_stocks.describe()"
      ],
      "execution_count": null,
      "outputs": [
        {
          "output_type": "execute_result",
          "data": {
            "text/html": [
              "<div>\n",
              "<style scoped>\n",
              "    .dataframe tbody tr th:only-of-type {\n",
              "        vertical-align: middle;\n",
              "    }\n",
              "\n",
              "    .dataframe tbody tr th {\n",
              "        vertical-align: top;\n",
              "    }\n",
              "\n",
              "    .dataframe thead th {\n",
              "        text-align: right;\n",
              "    }\n",
              "</style>\n",
              "<table border=\"1\" class=\"dataframe\">\n",
              "  <thead>\n",
              "    <tr style=\"text-align: right;\">\n",
              "      <th></th>\n",
              "      <th>Open</th>\n",
              "      <th>High</th>\n",
              "      <th>Low</th>\n",
              "      <th>Close</th>\n",
              "      <th>Adj. close</th>\n",
              "      <th>Volume</th>\n",
              "    </tr>\n",
              "  </thead>\n",
              "  <tbody>\n",
              "    <tr>\n",
              "      <th>count</th>\n",
              "      <td>505.000000</td>\n",
              "      <td>505.000000</td>\n",
              "      <td>505.000000</td>\n",
              "      <td>505.000000</td>\n",
              "      <td>505.000000</td>\n",
              "      <td>5.050000e+02</td>\n",
              "    </tr>\n",
              "    <tr>\n",
              "      <th>mean</th>\n",
              "      <td>10071.389248</td>\n",
              "      <td>10177.061861</td>\n",
              "      <td>9955.173307</td>\n",
              "      <td>10067.193703</td>\n",
              "      <td>10067.193703</td>\n",
              "      <td>2.783817e+08</td>\n",
              "    </tr>\n",
              "    <tr>\n",
              "      <th>std</th>\n",
              "      <td>1766.018393</td>\n",
              "      <td>1755.931022</td>\n",
              "      <td>1769.682138</td>\n",
              "      <td>1760.571863</td>\n",
              "      <td>1760.571863</td>\n",
              "      <td>1.057070e+08</td>\n",
              "    </tr>\n",
              "    <tr>\n",
              "      <th>min</th>\n",
              "      <td>6547.010000</td>\n",
              "      <td>6709.610000</td>\n",
              "      <td>6469.950000</td>\n",
              "      <td>6547.050000</td>\n",
              "      <td>6547.050000</td>\n",
              "      <td>5.267000e+07</td>\n",
              "    </tr>\n",
              "    <tr>\n",
              "      <th>25%</th>\n",
              "      <td>8502.480000</td>\n",
              "      <td>8604.120000</td>\n",
              "      <td>8372.020000</td>\n",
              "      <td>8504.060000</td>\n",
              "      <td>8504.060000</td>\n",
              "      <td>2.053600e+08</td>\n",
              "    </tr>\n",
              "    <tr>\n",
              "      <th>50%</th>\n",
              "      <td>9786.040000</td>\n",
              "      <td>9854.580000</td>\n",
              "      <td>9728.070000</td>\n",
              "      <td>9786.870000</td>\n",
              "      <td>9786.870000</td>\n",
              "      <td>2.492600e+08</td>\n",
              "    </tr>\n",
              "    <tr>\n",
              "      <th>75%</th>\n",
              "      <td>11659.650000</td>\n",
              "      <td>11759.960000</td>\n",
              "      <td>11543.390000</td>\n",
              "      <td>11656.070000</td>\n",
              "      <td>11656.070000</td>\n",
              "      <td>3.284600e+08</td>\n",
              "    </tr>\n",
              "    <tr>\n",
              "      <th>max</th>\n",
              "      <td>13261.820000</td>\n",
              "      <td>13279.540000</td>\n",
              "      <td>13023.560000</td>\n",
              "      <td>13058.200000</td>\n",
              "      <td>13058.200000</td>\n",
              "      <td>6.749200e+08</td>\n",
              "    </tr>\n",
              "  </tbody>\n",
              "</table>\n",
              "</div>"
            ],
            "text/plain": [
              "               Open          High  ...    Adj. close        Volume\n",
              "count    505.000000    505.000000  ...    505.000000  5.050000e+02\n",
              "mean   10071.389248  10177.061861  ...  10067.193703  2.783817e+08\n",
              "std     1766.018393   1755.931022  ...   1760.571863  1.057070e+08\n",
              "min     6547.010000   6709.610000  ...   6547.050000  5.267000e+07\n",
              "25%     8502.480000   8604.120000  ...   8504.060000  2.053600e+08\n",
              "50%     9786.040000   9854.580000  ...   9786.870000  2.492600e+08\n",
              "75%    11659.650000  11759.960000  ...  11656.070000  3.284600e+08\n",
              "max    13261.820000  13279.540000  ...  13058.200000  6.749200e+08\n",
              "\n",
              "[8 rows x 6 columns]"
            ]
          },
          "metadata": {
            "tags": []
          },
          "execution_count": 92
        }
      ]
    },
    {
      "cell_type": "markdown",
      "metadata": {
        "id": "tDgeYJnDC_p9"
      },
      "source": [
        "### Finding Top 10 values of data using sort_value() function."
      ]
    },
    {
      "cell_type": "code",
      "metadata": {
        "colab": {
          "base_uri": "https://localhost:8080/",
          "height": 390
        },
        "id": "DdK9jjteC_p-",
        "outputId": "4f69f112-9d86-44a6-fb71-f3792c73eb36"
      },
      "source": [
        "btc.sort_values([\"Vol.\"],ascending=False).head(10)"
      ],
      "execution_count": null,
      "outputs": [
        {
          "output_type": "execute_result",
          "data": {
            "text/html": [
              "<div>\n",
              "<style scoped>\n",
              "    .dataframe tbody tr th:only-of-type {\n",
              "        vertical-align: middle;\n",
              "    }\n",
              "\n",
              "    .dataframe tbody tr th {\n",
              "        vertical-align: top;\n",
              "    }\n",
              "\n",
              "    .dataframe thead th {\n",
              "        text-align: right;\n",
              "    }\n",
              "</style>\n",
              "<table border=\"1\" class=\"dataframe\">\n",
              "  <thead>\n",
              "    <tr style=\"text-align: right;\">\n",
              "      <th></th>\n",
              "      <th>Price</th>\n",
              "      <th>Open</th>\n",
              "      <th>High</th>\n",
              "      <th>Low</th>\n",
              "      <th>Vol.</th>\n",
              "      <th>Change %</th>\n",
              "    </tr>\n",
              "    <tr>\n",
              "      <th>Date</th>\n",
              "      <th></th>\n",
              "      <th></th>\n",
              "      <th></th>\n",
              "      <th></th>\n",
              "      <th></th>\n",
              "      <th></th>\n",
              "    </tr>\n",
              "  </thead>\n",
              "  <tbody>\n",
              "    <tr>\n",
              "      <th>14-Apr-20</th>\n",
              "      <td>6850.9</td>\n",
              "      <td>6841.8</td>\n",
              "      <td>6970.8</td>\n",
              "      <td>6768.6</td>\n",
              "      <td>999.53K</td>\n",
              "      <td>0.00</td>\n",
              "    </tr>\n",
              "    <tr>\n",
              "      <th>3-Jul-19</th>\n",
              "      <td>11900.8</td>\n",
              "      <td>10835.9</td>\n",
              "      <td>11931.8</td>\n",
              "      <td>10835.9</td>\n",
              "      <td>998.73K</td>\n",
              "      <td>0.10</td>\n",
              "    </tr>\n",
              "    <tr>\n",
              "      <th>27-Nov-19</th>\n",
              "      <td>7510.6</td>\n",
              "      <td>7162.8</td>\n",
              "      <td>7636.9</td>\n",
              "      <td>6875.4</td>\n",
              "      <td>996.49K</td>\n",
              "      <td>0.05</td>\n",
              "    </tr>\n",
              "    <tr>\n",
              "      <th>24-Apr-19</th>\n",
              "      <td>5415.6</td>\n",
              "      <td>5511.2</td>\n",
              "      <td>5589.6</td>\n",
              "      <td>5346.8</td>\n",
              "      <td>994.04K</td>\n",
              "      <td>-0.02</td>\n",
              "    </tr>\n",
              "    <tr>\n",
              "      <th>3-Dec-20</th>\n",
              "      <td>19433.3</td>\n",
              "      <td>19219.8</td>\n",
              "      <td>19596.6</td>\n",
              "      <td>18883.7</td>\n",
              "      <td>99.97K</td>\n",
              "      <td>0.01</td>\n",
              "    </tr>\n",
              "    <tr>\n",
              "      <th>14-Oct-18</th>\n",
              "      <td>6326.8</td>\n",
              "      <td>6321.6</td>\n",
              "      <td>6390.9</td>\n",
              "      <td>6300.0</td>\n",
              "      <td>99.38K</td>\n",
              "      <td>0.00</td>\n",
              "    </tr>\n",
              "    <tr>\n",
              "      <th>21-Jun-18</th>\n",
              "      <td>6728.0</td>\n",
              "      <td>6765.8</td>\n",
              "      <td>6797.5</td>\n",
              "      <td>6695.1</td>\n",
              "      <td>99.29K</td>\n",
              "      <td>-0.01</td>\n",
              "    </tr>\n",
              "    <tr>\n",
              "      <th>8-Apr-20</th>\n",
              "      <td>7361.2</td>\n",
              "      <td>7185.6</td>\n",
              "      <td>7396.1</td>\n",
              "      <td>7153.1</td>\n",
              "      <td>983.94K</td>\n",
              "      <td>0.02</td>\n",
              "    </tr>\n",
              "    <tr>\n",
              "      <th>27-Apr-20</th>\n",
              "      <td>7766.0</td>\n",
              "      <td>7679.4</td>\n",
              "      <td>7768.5</td>\n",
              "      <td>7637.7</td>\n",
              "      <td>980.50K</td>\n",
              "      <td>0.01</td>\n",
              "    </tr>\n",
              "    <tr>\n",
              "      <th>24-Feb-20</th>\n",
              "      <td>9662.7</td>\n",
              "      <td>9943.2</td>\n",
              "      <td>9981.0</td>\n",
              "      <td>9507.0</td>\n",
              "      <td>980.00K</td>\n",
              "      <td>-0.03</td>\n",
              "    </tr>\n",
              "  </tbody>\n",
              "</table>\n",
              "</div>"
            ],
            "text/plain": [
              "             Price     Open     High      Low     Vol.  Change %\n",
              "Date                                                            \n",
              "14-Apr-20   6850.9   6841.8   6970.8   6768.6  999.53K      0.00\n",
              "3-Jul-19   11900.8  10835.9  11931.8  10835.9  998.73K      0.10\n",
              "27-Nov-19   7510.6   7162.8   7636.9   6875.4  996.49K      0.05\n",
              "24-Apr-19   5415.6   5511.2   5589.6   5346.8  994.04K     -0.02\n",
              "3-Dec-20   19433.3  19219.8  19596.6  18883.7   99.97K      0.01\n",
              "14-Oct-18   6326.8   6321.6   6390.9   6300.0   99.38K      0.00\n",
              "21-Jun-18   6728.0   6765.8   6797.5   6695.1   99.29K     -0.01\n",
              "8-Apr-20    7361.2   7185.6   7396.1   7153.1  983.94K      0.02\n",
              "27-Apr-20   7766.0   7679.4   7768.5   7637.7  980.50K      0.01\n",
              "24-Feb-20   9662.7   9943.2   9981.0   9507.0  980.00K     -0.03"
            ]
          },
          "metadata": {
            "tags": []
          },
          "execution_count": 93
        }
      ]
    },
    {
      "cell_type": "code",
      "metadata": {
        "colab": {
          "base_uri": "https://localhost:8080/",
          "height": 390
        },
        "id": "B_qzOY8GC_p-",
        "outputId": "dc54e1fc-af89-47d3-d18b-41487c3e2148"
      },
      "source": [
        "eth.sort_values([\"Vol.\"],ascending=False).head(10) "
      ],
      "execution_count": null,
      "outputs": [
        {
          "output_type": "execute_result",
          "data": {
            "text/html": [
              "<div>\n",
              "<style scoped>\n",
              "    .dataframe tbody tr th:only-of-type {\n",
              "        vertical-align: middle;\n",
              "    }\n",
              "\n",
              "    .dataframe tbody tr th {\n",
              "        vertical-align: top;\n",
              "    }\n",
              "\n",
              "    .dataframe thead th {\n",
              "        text-align: right;\n",
              "    }\n",
              "</style>\n",
              "<table border=\"1\" class=\"dataframe\">\n",
              "  <thead>\n",
              "    <tr style=\"text-align: right;\">\n",
              "      <th></th>\n",
              "      <th>Price</th>\n",
              "      <th>Open</th>\n",
              "      <th>High</th>\n",
              "      <th>Low</th>\n",
              "      <th>Vol.</th>\n",
              "      <th>Change %</th>\n",
              "    </tr>\n",
              "    <tr>\n",
              "      <th>Date</th>\n",
              "      <th></th>\n",
              "      <th></th>\n",
              "      <th></th>\n",
              "      <th></th>\n",
              "      <th></th>\n",
              "      <th></th>\n",
              "    </tr>\n",
              "  </thead>\n",
              "  <tbody>\n",
              "    <tr>\n",
              "      <th>14-Feb-18</th>\n",
              "      <td>919.67</td>\n",
              "      <td>841.38</td>\n",
              "      <td>922.38</td>\n",
              "      <td>840.82</td>\n",
              "      <td>993.86K</td>\n",
              "      <td>0.09</td>\n",
              "    </tr>\n",
              "    <tr>\n",
              "      <th>15-Mar-18</th>\n",
              "      <td>610.13</td>\n",
              "      <td>612.08</td>\n",
              "      <td>620.01</td>\n",
              "      <td>572.69</td>\n",
              "      <td>991.89K</td>\n",
              "      <td>0.00</td>\n",
              "    </tr>\n",
              "    <tr>\n",
              "      <th>31-Jan-18</th>\n",
              "      <td>1118.08</td>\n",
              "      <td>1072.17</td>\n",
              "      <td>1126.87</td>\n",
              "      <td>1028.03</td>\n",
              "      <td>990.74K</td>\n",
              "      <td>0.04</td>\n",
              "    </tr>\n",
              "    <tr>\n",
              "      <th>14-Mar-18</th>\n",
              "      <td>612.09</td>\n",
              "      <td>689.67</td>\n",
              "      <td>702.53</td>\n",
              "      <td>587.10</td>\n",
              "      <td>990.48K</td>\n",
              "      <td>-0.11</td>\n",
              "    </tr>\n",
              "    <tr>\n",
              "      <th>11-Feb-18</th>\n",
              "      <td>810.45</td>\n",
              "      <td>851.44</td>\n",
              "      <td>854.10</td>\n",
              "      <td>778.90</td>\n",
              "      <td>988.45K</td>\n",
              "      <td>-0.05</td>\n",
              "    </tr>\n",
              "    <tr>\n",
              "      <th>15-Apr-18</th>\n",
              "      <td>533.90</td>\n",
              "      <td>502.52</td>\n",
              "      <td>534.18</td>\n",
              "      <td>502.52</td>\n",
              "      <td>988.29K</td>\n",
              "      <td>0.06</td>\n",
              "    </tr>\n",
              "    <tr>\n",
              "      <th>19-Jun-18</th>\n",
              "      <td>538.22</td>\n",
              "      <td>517.91</td>\n",
              "      <td>547.50</td>\n",
              "      <td>514.88</td>\n",
              "      <td>985.96K</td>\n",
              "      <td>0.04</td>\n",
              "    </tr>\n",
              "    <tr>\n",
              "      <th>10-May-18</th>\n",
              "      <td>724.40</td>\n",
              "      <td>751.98</td>\n",
              "      <td>768.24</td>\n",
              "      <td>723.39</td>\n",
              "      <td>983.14K</td>\n",
              "      <td>-0.04</td>\n",
              "    </tr>\n",
              "    <tr>\n",
              "      <th>16-May-18</th>\n",
              "      <td>706.53</td>\n",
              "      <td>705.73</td>\n",
              "      <td>710.49</td>\n",
              "      <td>667.51</td>\n",
              "      <td>978.18K</td>\n",
              "      <td>0.00</td>\n",
              "    </tr>\n",
              "    <tr>\n",
              "      <th>13-Oct-18</th>\n",
              "      <td>201.22</td>\n",
              "      <td>196.67</td>\n",
              "      <td>206.13</td>\n",
              "      <td>196.41</td>\n",
              "      <td>976.30K</td>\n",
              "      <td>0.02</td>\n",
              "    </tr>\n",
              "  </tbody>\n",
              "</table>\n",
              "</div>"
            ],
            "text/plain": [
              "             Price     Open     High      Low     Vol.  Change %\n",
              "Date                                                            \n",
              "14-Feb-18   919.67   841.38   922.38   840.82  993.86K      0.09\n",
              "15-Mar-18   610.13   612.08   620.01   572.69  991.89K      0.00\n",
              "31-Jan-18  1118.08  1072.17  1126.87  1028.03  990.74K      0.04\n",
              "14-Mar-18   612.09   689.67   702.53   587.10  990.48K     -0.11\n",
              "11-Feb-18   810.45   851.44   854.10   778.90  988.45K     -0.05\n",
              "15-Apr-18   533.90   502.52   534.18   502.52  988.29K      0.06\n",
              "19-Jun-18   538.22   517.91   547.50   514.88  985.96K      0.04\n",
              "10-May-18   724.40   751.98   768.24   723.39  983.14K     -0.04\n",
              "16-May-18   706.53   705.73   710.49   667.51  978.18K      0.00\n",
              "13-Oct-18   201.22   196.67   206.13   196.41  976.30K      0.02"
            ]
          },
          "metadata": {
            "tags": []
          },
          "execution_count": 94
        }
      ]
    },
    {
      "cell_type": "code",
      "metadata": {
        "colab": {
          "base_uri": "https://localhost:8080/",
          "height": 390
        },
        "id": "taw76DRDC_p-",
        "outputId": "15359800-b81c-415e-f91e-5492135c5dcb"
      },
      "source": [
        "doge.sort_values([\"Vol.\"],ascending=False).head(10)"
      ],
      "execution_count": null,
      "outputs": [
        {
          "output_type": "execute_result",
          "data": {
            "text/html": [
              "<div>\n",
              "<style scoped>\n",
              "    .dataframe tbody tr th:only-of-type {\n",
              "        vertical-align: middle;\n",
              "    }\n",
              "\n",
              "    .dataframe tbody tr th {\n",
              "        vertical-align: top;\n",
              "    }\n",
              "\n",
              "    .dataframe thead th {\n",
              "        text-align: right;\n",
              "    }\n",
              "</style>\n",
              "<table border=\"1\" class=\"dataframe\">\n",
              "  <thead>\n",
              "    <tr style=\"text-align: right;\">\n",
              "      <th></th>\n",
              "      <th>Price</th>\n",
              "      <th>Open</th>\n",
              "      <th>High</th>\n",
              "      <th>Low</th>\n",
              "      <th>Vol.</th>\n",
              "      <th>Change %</th>\n",
              "    </tr>\n",
              "    <tr>\n",
              "      <th>Date</th>\n",
              "      <th></th>\n",
              "      <th></th>\n",
              "      <th></th>\n",
              "      <th></th>\n",
              "      <th></th>\n",
              "      <th></th>\n",
              "    </tr>\n",
              "  </thead>\n",
              "  <tbody>\n",
              "    <tr>\n",
              "      <th>27-Oct-17</th>\n",
              "      <td>0.0010</td>\n",
              "      <td>0.0011</td>\n",
              "      <td>0.0011</td>\n",
              "      <td>0.0010</td>\n",
              "      <td>998.25M</td>\n",
              "      <td>-0.0170</td>\n",
              "    </tr>\n",
              "    <tr>\n",
              "      <th>11-Dec-20</th>\n",
              "      <td>0.0031</td>\n",
              "      <td>0.0031</td>\n",
              "      <td>0.0031</td>\n",
              "      <td>0.0030</td>\n",
              "      <td>996.31M</td>\n",
              "      <td>-0.0109</td>\n",
              "    </tr>\n",
              "    <tr>\n",
              "      <th>15-Oct-18</th>\n",
              "      <td>0.0054</td>\n",
              "      <td>0.0053</td>\n",
              "      <td>0.0057</td>\n",
              "      <td>0.0052</td>\n",
              "      <td>992.75M</td>\n",
              "      <td>0.0200</td>\n",
              "    </tr>\n",
              "    <tr>\n",
              "      <th>17-Nov-18</th>\n",
              "      <td>0.0026</td>\n",
              "      <td>0.0028</td>\n",
              "      <td>0.0028</td>\n",
              "      <td>0.0026</td>\n",
              "      <td>986.08M</td>\n",
              "      <td>-0.0575</td>\n",
              "    </tr>\n",
              "    <tr>\n",
              "      <th>5-Nov-18</th>\n",
              "      <td>0.0037</td>\n",
              "      <td>0.0037</td>\n",
              "      <td>0.0037</td>\n",
              "      <td>0.0036</td>\n",
              "      <td>978.49M</td>\n",
              "      <td>-0.0206</td>\n",
              "    </tr>\n",
              "    <tr>\n",
              "      <th>19-Jan-19</th>\n",
              "      <td>0.0021</td>\n",
              "      <td>0.0020</td>\n",
              "      <td>0.0021</td>\n",
              "      <td>0.0020</td>\n",
              "      <td>978.04M</td>\n",
              "      <td>0.0255</td>\n",
              "    </tr>\n",
              "    <tr>\n",
              "      <th>24-Oct-20</th>\n",
              "      <td>0.0026</td>\n",
              "      <td>0.0026</td>\n",
              "      <td>0.0027</td>\n",
              "      <td>0.0026</td>\n",
              "      <td>969.00M</td>\n",
              "      <td>-0.0038</td>\n",
              "    </tr>\n",
              "    <tr>\n",
              "      <th>21-Feb-18</th>\n",
              "      <td>0.0066</td>\n",
              "      <td>0.0072</td>\n",
              "      <td>0.0075</td>\n",
              "      <td>0.0064</td>\n",
              "      <td>966.62M</td>\n",
              "      <td>-0.0704</td>\n",
              "    </tr>\n",
              "    <tr>\n",
              "      <th>23-Oct-20</th>\n",
              "      <td>0.0026</td>\n",
              "      <td>0.0026</td>\n",
              "      <td>0.0027</td>\n",
              "      <td>0.0026</td>\n",
              "      <td>959.32M</td>\n",
              "      <td>-0.0010</td>\n",
              "    </tr>\n",
              "    <tr>\n",
              "      <th>24-Oct-17</th>\n",
              "      <td>0.0011</td>\n",
              "      <td>0.0010</td>\n",
              "      <td>0.0011</td>\n",
              "      <td>0.0010</td>\n",
              "      <td>957.84M</td>\n",
              "      <td>0.0495</td>\n",
              "    </tr>\n",
              "  </tbody>\n",
              "</table>\n",
              "</div>"
            ],
            "text/plain": [
              "            Price    Open    High     Low     Vol.  Change %\n",
              "Date                                                        \n",
              "27-Oct-17  0.0010  0.0011  0.0011  0.0010  998.25M   -0.0170\n",
              "11-Dec-20  0.0031  0.0031  0.0031  0.0030  996.31M   -0.0109\n",
              "15-Oct-18  0.0054  0.0053  0.0057  0.0052  992.75M    0.0200\n",
              "17-Nov-18  0.0026  0.0028  0.0028  0.0026  986.08M   -0.0575\n",
              "5-Nov-18   0.0037  0.0037  0.0037  0.0036  978.49M   -0.0206\n",
              "19-Jan-19  0.0021  0.0020  0.0021  0.0020  978.04M    0.0255\n",
              "24-Oct-20  0.0026  0.0026  0.0027  0.0026  969.00M   -0.0038\n",
              "21-Feb-18  0.0066  0.0072  0.0075  0.0064  966.62M   -0.0704\n",
              "23-Oct-20  0.0026  0.0026  0.0027  0.0026  959.32M   -0.0010\n",
              "24-Oct-17  0.0011  0.0010  0.0011  0.0010  957.84M    0.0495"
            ]
          },
          "metadata": {
            "tags": []
          },
          "execution_count": 95
        }
      ]
    },
    {
      "cell_type": "markdown",
      "metadata": {
        "id": "saES-QZcC_p_"
      },
      "source": [
        "### Plots"
      ]
    },
    {
      "cell_type": "code",
      "metadata": {
        "colab": {
          "base_uri": "https://localhost:8080/",
          "height": 621
        },
        "id": "K52leUISC_qB",
        "outputId": "1591ac48-6bd6-40d1-c6ce-95cf05e48ff3"
      },
      "source": [
        "btc['Price'].hist(bins=30, figsize=(15,10)).axvline(btc['Price'].median(), color='b', linestyle='dashed', linewidth=2)\n",
        "plt.title('BTC Price distribution')\n",
        "plt.xlabel('Price')\n",
        "plt.show()"
      ],
      "execution_count": null,
      "outputs": [
        {
          "output_type": "display_data",
          "data": {
            "image/png": "[encoded data removed]",
            "text/plain": [
              "<Figure size 1080x720 with 1 Axes>"
            ]
          },
          "metadata": {
            "tags": [],
            "needs_background": "light"
          }
        }
      ]
    },
    {
      "cell_type": "code",
      "metadata": {
        "colab": {
          "base_uri": "https://localhost:8080/",
          "height": 621
        },
        "id": "f4GyngkgC_qC",
        "outputId": "3487719b-913f-419e-ede1-fc811f43f1e6"
      },
      "source": [
        "eth['Price'].hist(bins=30, figsize=(15,10)).axvline(eth['Price'].median(), color='b', linestyle='dashed', linewidth=2)\n",
        "plt.title('ETH Price distribution')\n",
        "plt.xlabel('Price')\n",
        "plt.show()"
      ],
      "execution_count": null,
      "outputs": [
        {
          "output_type": "display_data",
          "data": {
            "image/png": "[encoded data removed]",
            "text/plain": [
              "<Figure size 1080x720 with 1 Axes>"
            ]
          },
          "metadata": {
            "tags": [],
            "needs_background": "light"
          }
        }
      ]
    },
    {
      "cell_type": "code",
      "metadata": {
        "colab": {
          "base_uri": "https://localhost:8080/",
          "height": 621
        },
        "id": "8rF9BLFPC_qC",
        "outputId": "7bda8b6a-1f24-4dcf-fb67-5689c111a280"
      },
      "source": [
        "doge['Price'].hist(bins=30, figsize=(15,10)).axvline(doge['Price'].median(), color='b', linestyle='dashed', linewidth=2)\n",
        "plt.title('DOGE Price distribution')\n",
        "plt.xlabel('Price')\n",
        "plt.show()"
      ],
      "execution_count": null,
      "outputs": [
        {
          "output_type": "display_data",
          "data": {
            "image/png": "[encoded data removed]",
            "text/plain": [
              "<Figure size 1080x720 with 1 Axes>"
            ]
          },
          "metadata": {
            "tags": [],
            "needs_background": "light"
          }
        }
      ]
    },
    {
      "cell_type": "code",
      "metadata": {
        "colab": {
          "base_uri": "https://localhost:8080/",
          "height": 266
        },
        "id": "nwPXVN8HC_qC",
        "outputId": "187dc35a-8f95-4441-f1e7-bd687b00cd6b"
      },
      "source": [
        "mean_market_cap=[btc_1year_market_cap[\"Market Cap\"].mean(),eth_1year_market_cap[\"Market Cap\"].mean(),doge_1year_market_cap[\"Market Cap\"].mean()]\n",
        "mkt_cap=pd.Series(mean_market_cap)\n",
        "labels=\"BTC\",\"ETH\",\"DOGE\"\n",
        "plt.pie(mkt_cap,labels=labels,autopct='%1.1f%%', shadow=True, startangle=140)\n",
        "plt.title(\"Mean Market Captial of BTC,ETH,DOGE\")\n",
        "plt.axis('equal')\n",
        "plt.show()"
      ],
      "execution_count": null,
      "outputs": [
        {
          "output_type": "display_data",
          "data": {
            "image/png": "[encoded data removed]",
            "text/plain": [
              "<Figure size 432x288 with 1 Axes>"
            ]
          },
          "metadata": {
            "tags": []
          }
        }
      ]
    },
    {
      "cell_type": "code",
      "metadata": {
        "colab": {
          "base_uri": "https://localhost:8080/",
          "height": 851
        },
        "id": "B1y4gTGsC_qD",
        "outputId": "5f87cda5-f8ba-497e-9105-d6aea1af745a"
      },
      "source": [
        "plt.hist(btc[\"Change %\"])\n",
        "plt.title('BTC Change % distribution')\n",
        "plt.xlabel('Change %')\n",
        "plt.show()\n",
        "\n",
        "plt.hist(eth[\"Change %\"])\n",
        "plt.title('ETH Change % distribution')\n",
        "plt.xlabel('Change %')\n",
        "plt.show()\n",
        "\n",
        "plt.hist(doge[\"Change %\"])\n",
        "plt.title('DOGE Change % distribution')\n",
        "plt.xlabel('Change %')\n",
        "plt.show()"
      ],
      "execution_count": null,
      "outputs": [
        {
          "output_type": "display_data",
          "data": {
            "image/png": "[encoded data removed]",
            "text/plain": [
              "<Figure size 432x288 with 1 Axes>"
            ]
          },
          "metadata": {
            "tags": [],
            "needs_background": "light"
          }
        },
        {
          "output_type": "display_data",
          "data": {
            "image/png": "[encoded data removed]",
            "text/plain": [
              "<Figure size 432x288 with 1 Axes>"
            ]
          },
          "metadata": {
            "tags": [],
            "needs_background": "light"
          }
        },
        {
          "output_type": "display_data",
          "data": {
            "image/png": "[encoded data removed]",
            "text/plain": [
              "<Figure size 432x288 with 1 Axes>"
            ]
          },
          "metadata": {
            "tags": [],
            "needs_background": "light"
          }
        }
      ]
    }
  ]
}