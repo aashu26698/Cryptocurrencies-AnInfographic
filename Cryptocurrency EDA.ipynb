{
 "cells": [
  {
   "cell_type": "markdown",
   "metadata": {},
   "source": [
    "### Importing Pandas Library."
   ]
  },
  {
   "cell_type": "code",
   "execution_count": 2,
   "metadata": {},
   "outputs": [
    {
     "data": {
      "text/plain": [
       "'C:\\\\Users\\\\Yuvraj\\\\Desktop\\\\Sem 1\\\\DAB 103 Analytical tools and decision making\\\\Project\\\\Notebook'"
      ]
     },
     "execution_count": 2,
     "metadata": {},
     "output_type": "execute_result"
    }
   ],
   "source": [
    "import pandas as pd\n",
    "import matplotlib.pyplot as plt\n",
    "import seaborn as sns\n",
    "import os\n",
    "wd = os.getcwd()\n",
    "wd"
   ]
  },
  {
   "cell_type": "markdown",
   "metadata": {},
   "source": [
    "### Loading Data. "
   ]
  },
  {
   "cell_type": "code",
   "execution_count": 3,
   "metadata": {},
   "outputs": [],
   "source": [
    "btc = pd.read_csv(\"C:\\\\Users\\\\Yuvraj\\\\Desktop\\\\Sem 1\\\\DAB 103 Analytical tools and decision making\\\\Project\\\\Crypto data from 2017-2021\\\\BTC\\\\btc_usd_daily.csv\")\n",
    "eth = pd.read_csv(\"C:\\\\Users\\\\Yuvraj\\\\Desktop\\\\Sem 1\\\\DAB 103 Analytical tools and decision making\\\\Project\\\\Crypto data from 2017-2021\\\\ETH\\\\eth_usd_daily.csv\")\n",
    "doge = pd.read_csv(\"C:\\\\Users\\\\Yuvraj\\\\Desktop\\\\Sem 1\\\\DAB 103 Analytical tools and decision making\\\\Project\\\\Crypto data from 2017-2021\\\\DOGE\\\\doge_usd_daily.csv\")\n",
    "banks = pd.read_csv(\"C:\\\\Users\\\\Yuvraj\\\\Desktop\\\\Sem 1\\\\DAB 103 Analytical tools and decision making\\\\Project\\\\Banks\\\\top_50_banks.csv\")\n",
    "market_cap = pd.read_csv(\"C:\\\\Users\\\\Yuvraj\\\\Desktop\\\\Sem 1\\\\DAB 103 Analytical tools and decision making\\\\Project\\\\Market Capital\\\\btc_market_cap_from_start.csv\")\n",
    "energy_consumption = pd.read_csv(\"C:\\\\Users\\\\Yuvraj\\\\Desktop\\\\Sem 1\\\\DAB 103 Analytical tools and decision making\\\\Project\\\\Energy consumption\\\\electricity_consumption_for_countries.csv\")"
   ]
  },
  {
   "cell_type": "markdown",
   "metadata": {},
   "source": [
    "### Understanding Data."
   ]
  },
  {
   "cell_type": "code",
   "execution_count": 4,
   "metadata": {},
   "outputs": [
    {
     "data": {
      "text/html": [
       "<div>\n",
       "<style scoped>\n",
       "    .dataframe tbody tr th:only-of-type {\n",
       "        vertical-align: middle;\n",
       "    }\n",
       "\n",
       "    .dataframe tbody tr th {\n",
       "        vertical-align: top;\n",
       "    }\n",
       "\n",
       "    .dataframe thead th {\n",
       "        text-align: right;\n",
       "    }\n",
       "</style>\n",
       "<table border=\"1\" class=\"dataframe\">\n",
       "  <thead>\n",
       "    <tr style=\"text-align: right;\">\n",
       "      <th></th>\n",
       "      <th>Date</th>\n",
       "      <th>Price</th>\n",
       "      <th>Open</th>\n",
       "      <th>High</th>\n",
       "      <th>Low</th>\n",
       "      <th>Vol.</th>\n",
       "      <th>Change %</th>\n",
       "    </tr>\n",
       "  </thead>\n",
       "  <tbody>\n",
       "    <tr>\n",
       "      <th>0</th>\n",
       "      <td>May 25, 2021</td>\n",
       "      <td>38,378.3</td>\n",
       "      <td>38,753.6</td>\n",
       "      <td>39,740.8</td>\n",
       "      <td>36,540.7</td>\n",
       "      <td>163.01K</td>\n",
       "      <td>-0.96%</td>\n",
       "    </tr>\n",
       "    <tr>\n",
       "      <th>1</th>\n",
       "      <td>May 24, 2021</td>\n",
       "      <td>38,750.6</td>\n",
       "      <td>34,720.3</td>\n",
       "      <td>39,851.7</td>\n",
       "      <td>34,474.6</td>\n",
       "      <td>244.88K</td>\n",
       "      <td>11.74%</td>\n",
       "    </tr>\n",
       "    <tr>\n",
       "      <th>2</th>\n",
       "      <td>May 23, 2021</td>\n",
       "      <td>34,679.7</td>\n",
       "      <td>37,446.8</td>\n",
       "      <td>38,248.7</td>\n",
       "      <td>31,192.4</td>\n",
       "      <td>325.73K</td>\n",
       "      <td>-7.39%</td>\n",
       "    </tr>\n",
       "    <tr>\n",
       "      <th>3</th>\n",
       "      <td>May 22, 2021</td>\n",
       "      <td>37,448.3</td>\n",
       "      <td>37,291.0</td>\n",
       "      <td>38,776.0</td>\n",
       "      <td>35,314.9</td>\n",
       "      <td>185.83K</td>\n",
       "      <td>0.40%</td>\n",
       "    </tr>\n",
       "    <tr>\n",
       "      <th>4</th>\n",
       "      <td>May 21, 2021</td>\n",
       "      <td>37,297.4</td>\n",
       "      <td>40,611.2</td>\n",
       "      <td>42,108.3</td>\n",
       "      <td>33,592.3</td>\n",
       "      <td>315.50K</td>\n",
       "      <td>-8.40%</td>\n",
       "    </tr>\n",
       "    <tr>\n",
       "      <th>5</th>\n",
       "      <td>May 20, 2021</td>\n",
       "      <td>40,717.2</td>\n",
       "      <td>36,706.8</td>\n",
       "      <td>42,425.9</td>\n",
       "      <td>35,010.4</td>\n",
       "      <td>269.75K</td>\n",
       "      <td>10.88%</td>\n",
       "    </tr>\n",
       "    <tr>\n",
       "      <th>6</th>\n",
       "      <td>May 19, 2021</td>\n",
       "      <td>36,720.5</td>\n",
       "      <td>42,898.3</td>\n",
       "      <td>43,516.6</td>\n",
       "      <td>30,261.7</td>\n",
       "      <td>607.10K</td>\n",
       "      <td>-14.40%</td>\n",
       "    </tr>\n",
       "    <tr>\n",
       "      <th>7</th>\n",
       "      <td>May 18, 2021</td>\n",
       "      <td>42,897.3</td>\n",
       "      <td>43,538.5</td>\n",
       "      <td>45,770.9</td>\n",
       "      <td>42,293.9</td>\n",
       "      <td>154.96K</td>\n",
       "      <td>-1.48%</td>\n",
       "    </tr>\n",
       "    <tr>\n",
       "      <th>8</th>\n",
       "      <td>May 17, 2021</td>\n",
       "      <td>43,541.3</td>\n",
       "      <td>46,424.2</td>\n",
       "      <td>46,545.4</td>\n",
       "      <td>42,201.5</td>\n",
       "      <td>274.76K</td>\n",
       "      <td>-6.21%</td>\n",
       "    </tr>\n",
       "    <tr>\n",
       "      <th>9</th>\n",
       "      <td>May 16, 2021</td>\n",
       "      <td>46,426.4</td>\n",
       "      <td>46,729.3</td>\n",
       "      <td>49,764.3</td>\n",
       "      <td>43,920.8</td>\n",
       "      <td>180.07K</td>\n",
       "      <td>-0.60%</td>\n",
       "    </tr>\n",
       "  </tbody>\n",
       "</table>\n",
       "</div>"
      ],
      "text/plain": [
       "           Date     Price      Open      High       Low     Vol. Change %\n",
       "0  May 25, 2021  38,378.3  38,753.6  39,740.8  36,540.7  163.01K   -0.96%\n",
       "1  May 24, 2021  38,750.6  34,720.3  39,851.7  34,474.6  244.88K   11.74%\n",
       "2  May 23, 2021  34,679.7  37,446.8  38,248.7  31,192.4  325.73K   -7.39%\n",
       "3  May 22, 2021  37,448.3  37,291.0  38,776.0  35,314.9  185.83K    0.40%\n",
       "4  May 21, 2021  37,297.4  40,611.2  42,108.3  33,592.3  315.50K   -8.40%\n",
       "5  May 20, 2021  40,717.2  36,706.8  42,425.9  35,010.4  269.75K   10.88%\n",
       "6  May 19, 2021  36,720.5  42,898.3  43,516.6  30,261.7  607.10K  -14.40%\n",
       "7  May 18, 2021  42,897.3  43,538.5  45,770.9  42,293.9  154.96K   -1.48%\n",
       "8  May 17, 2021  43,541.3  46,424.2  46,545.4  42,201.5  274.76K   -6.21%\n",
       "9  May 16, 2021  46,426.4  46,729.3  49,764.3  43,920.8  180.07K   -0.60%"
      ]
     },
     "execution_count": 4,
     "metadata": {},
     "output_type": "execute_result"
    }
   ],
   "source": [
    "btc.head(10)"
   ]
  },
  {
   "cell_type": "code",
   "execution_count": 5,
   "metadata": {},
   "outputs": [
    {
     "data": {
      "text/html": [
       "<div>\n",
       "<style scoped>\n",
       "    .dataframe tbody tr th:only-of-type {\n",
       "        vertical-align: middle;\n",
       "    }\n",
       "\n",
       "    .dataframe tbody tr th {\n",
       "        vertical-align: top;\n",
       "    }\n",
       "\n",
       "    .dataframe thead th {\n",
       "        text-align: right;\n",
       "    }\n",
       "</style>\n",
       "<table border=\"1\" class=\"dataframe\">\n",
       "  <thead>\n",
       "    <tr style=\"text-align: right;\">\n",
       "      <th></th>\n",
       "      <th>Date</th>\n",
       "      <th>Price</th>\n",
       "      <th>Open</th>\n",
       "      <th>High</th>\n",
       "      <th>Low</th>\n",
       "      <th>Vol.</th>\n",
       "      <th>Change %</th>\n",
       "    </tr>\n",
       "  </thead>\n",
       "  <tbody>\n",
       "    <tr>\n",
       "      <th>0</th>\n",
       "      <td>May 25, 2021</td>\n",
       "      <td>2,705.09</td>\n",
       "      <td>2,647.27</td>\n",
       "      <td>2,747.49</td>\n",
       "      <td>2,388.81</td>\n",
       "      <td>3.28M</td>\n",
       "      <td>2.20%</td>\n",
       "    </tr>\n",
       "    <tr>\n",
       "      <th>1</th>\n",
       "      <td>May 24, 2021</td>\n",
       "      <td>2,646.79</td>\n",
       "      <td>2,101.30</td>\n",
       "      <td>2,667.20</td>\n",
       "      <td>2,080.87</td>\n",
       "      <td>3.24M</td>\n",
       "      <td>25.96%</td>\n",
       "    </tr>\n",
       "    <tr>\n",
       "      <th>2</th>\n",
       "      <td>May 23, 2021</td>\n",
       "      <td>2,101.34</td>\n",
       "      <td>2,292.68</td>\n",
       "      <td>2,379.89</td>\n",
       "      <td>1,739.91</td>\n",
       "      <td>3.52M</td>\n",
       "      <td>-8.30%</td>\n",
       "    </tr>\n",
       "    <tr>\n",
       "      <th>3</th>\n",
       "      <td>May 22, 2021</td>\n",
       "      <td>2,291.60</td>\n",
       "      <td>2,433.09</td>\n",
       "      <td>2,481.06</td>\n",
       "      <td>2,162.84</td>\n",
       "      <td>2.82M</td>\n",
       "      <td>-5.82%</td>\n",
       "    </tr>\n",
       "    <tr>\n",
       "      <th>4</th>\n",
       "      <td>May 21, 2021</td>\n",
       "      <td>2,433.11</td>\n",
       "      <td>2,766.88</td>\n",
       "      <td>2,931.66</td>\n",
       "      <td>2,111.42</td>\n",
       "      <td>4.23M</td>\n",
       "      <td>-12.40%</td>\n",
       "    </tr>\n",
       "    <tr>\n",
       "      <th>5</th>\n",
       "      <td>May 20, 2021</td>\n",
       "      <td>2,777.55</td>\n",
       "      <td>2,436.59</td>\n",
       "      <td>2,988.52</td>\n",
       "      <td>2,163.40</td>\n",
       "      <td>4.33M</td>\n",
       "      <td>14.04%</td>\n",
       "    </tr>\n",
       "    <tr>\n",
       "      <th>6</th>\n",
       "      <td>May 19, 2021</td>\n",
       "      <td>2,435.69</td>\n",
       "      <td>3,376.22</td>\n",
       "      <td>3,434.01</td>\n",
       "      <td>1,922.25</td>\n",
       "      <td>6.42M</td>\n",
       "      <td>-27.89%</td>\n",
       "    </tr>\n",
       "    <tr>\n",
       "      <th>7</th>\n",
       "      <td>May 18, 2021</td>\n",
       "      <td>3,377.55</td>\n",
       "      <td>3,280.50</td>\n",
       "      <td>3,558.57</td>\n",
       "      <td>3,244.93</td>\n",
       "      <td>2.30M</td>\n",
       "      <td>2.98%</td>\n",
       "    </tr>\n",
       "    <tr>\n",
       "      <th>8</th>\n",
       "      <td>May 17, 2021</td>\n",
       "      <td>3,279.68</td>\n",
       "      <td>3,582.19</td>\n",
       "      <td>3,582.27</td>\n",
       "      <td>3,130.12</td>\n",
       "      <td>2.85M</td>\n",
       "      <td>-8.44%</td>\n",
       "    </tr>\n",
       "    <tr>\n",
       "      <th>9</th>\n",
       "      <td>May 16, 2021</td>\n",
       "      <td>3,582.12</td>\n",
       "      <td>3,643.67</td>\n",
       "      <td>3,877.20</td>\n",
       "      <td>3,351.92</td>\n",
       "      <td>2.28M</td>\n",
       "      <td>-1.63%</td>\n",
       "    </tr>\n",
       "  </tbody>\n",
       "</table>\n",
       "</div>"
      ],
      "text/plain": [
       "           Date     Price      Open      High       Low   Vol. Change %\n",
       "0  May 25, 2021  2,705.09  2,647.27  2,747.49  2,388.81  3.28M    2.20%\n",
       "1  May 24, 2021  2,646.79  2,101.30  2,667.20  2,080.87  3.24M   25.96%\n",
       "2  May 23, 2021  2,101.34  2,292.68  2,379.89  1,739.91  3.52M   -8.30%\n",
       "3  May 22, 2021  2,291.60  2,433.09  2,481.06  2,162.84  2.82M   -5.82%\n",
       "4  May 21, 2021  2,433.11  2,766.88  2,931.66  2,111.42  4.23M  -12.40%\n",
       "5  May 20, 2021  2,777.55  2,436.59  2,988.52  2,163.40  4.33M   14.04%\n",
       "6  May 19, 2021  2,435.69  3,376.22  3,434.01  1,922.25  6.42M  -27.89%\n",
       "7  May 18, 2021  3,377.55  3,280.50  3,558.57  3,244.93  2.30M    2.98%\n",
       "8  May 17, 2021  3,279.68  3,582.19  3,582.27  3,130.12  2.85M   -8.44%\n",
       "9  May 16, 2021  3,582.12  3,643.67  3,877.20  3,351.92  2.28M   -1.63%"
      ]
     },
     "execution_count": 5,
     "metadata": {},
     "output_type": "execute_result"
    }
   ],
   "source": [
    "eth.head(10)"
   ]
  },
  {
   "cell_type": "code",
   "execution_count": 6,
   "metadata": {},
   "outputs": [
    {
     "data": {
      "text/html": [
       "<div>\n",
       "<style scoped>\n",
       "    .dataframe tbody tr th:only-of-type {\n",
       "        vertical-align: middle;\n",
       "    }\n",
       "\n",
       "    .dataframe tbody tr th {\n",
       "        vertical-align: top;\n",
       "    }\n",
       "\n",
       "    .dataframe thead th {\n",
       "        text-align: right;\n",
       "    }\n",
       "</style>\n",
       "<table border=\"1\" class=\"dataframe\">\n",
       "  <thead>\n",
       "    <tr style=\"text-align: right;\">\n",
       "      <th></th>\n",
       "      <th>Date</th>\n",
       "      <th>Price</th>\n",
       "      <th>Open</th>\n",
       "      <th>High</th>\n",
       "      <th>Low</th>\n",
       "      <th>Vol.</th>\n",
       "      <th>Change %</th>\n",
       "    </tr>\n",
       "  </thead>\n",
       "  <tbody>\n",
       "    <tr>\n",
       "      <th>0</th>\n",
       "      <td>May 25, 2021</td>\n",
       "      <td>0.342400</td>\n",
       "      <td>0.364394</td>\n",
       "      <td>0.379504</td>\n",
       "      <td>0.323238</td>\n",
       "      <td>8.55B</td>\n",
       "      <td>-6.05%</td>\n",
       "    </tr>\n",
       "    <tr>\n",
       "      <th>1</th>\n",
       "      <td>May 24, 2021</td>\n",
       "      <td>0.364433</td>\n",
       "      <td>0.305975</td>\n",
       "      <td>0.369911</td>\n",
       "      <td>0.295792</td>\n",
       "      <td>8.16B</td>\n",
       "      <td>19.10%</td>\n",
       "    </tr>\n",
       "    <tr>\n",
       "      <th>2</th>\n",
       "      <td>May 23, 2021</td>\n",
       "      <td>0.305984</td>\n",
       "      <td>0.341509</td>\n",
       "      <td>0.349669</td>\n",
       "      <td>0.249235</td>\n",
       "      <td>9.45B</td>\n",
       "      <td>-10.40%</td>\n",
       "    </tr>\n",
       "    <tr>\n",
       "      <th>3</th>\n",
       "      <td>May 22, 2021</td>\n",
       "      <td>0.341484</td>\n",
       "      <td>0.358377</td>\n",
       "      <td>0.359675</td>\n",
       "      <td>0.317692</td>\n",
       "      <td>6.33B</td>\n",
       "      <td>-4.72%</td>\n",
       "    </tr>\n",
       "    <tr>\n",
       "      <th>4</th>\n",
       "      <td>May 21, 2021</td>\n",
       "      <td>0.358401</td>\n",
       "      <td>0.397731</td>\n",
       "      <td>0.411212</td>\n",
       "      <td>0.315049</td>\n",
       "      <td>8.54B</td>\n",
       "      <td>-9.89%</td>\n",
       "    </tr>\n",
       "    <tr>\n",
       "      <th>5</th>\n",
       "      <td>May 20, 2021</td>\n",
       "      <td>0.397741</td>\n",
       "      <td>0.330407</td>\n",
       "      <td>0.432618</td>\n",
       "      <td>0.297074</td>\n",
       "      <td>13.85B</td>\n",
       "      <td>20.40%</td>\n",
       "    </tr>\n",
       "    <tr>\n",
       "      <th>6</th>\n",
       "      <td>May 19, 2021</td>\n",
       "      <td>0.330353</td>\n",
       "      <td>0.474719</td>\n",
       "      <td>0.477866</td>\n",
       "      <td>0.217528</td>\n",
       "      <td>19.28B</td>\n",
       "      <td>-30.41%</td>\n",
       "    </tr>\n",
       "    <tr>\n",
       "      <th>7</th>\n",
       "      <td>May 18, 2021</td>\n",
       "      <td>0.474714</td>\n",
       "      <td>0.486444</td>\n",
       "      <td>0.512529</td>\n",
       "      <td>0.468941</td>\n",
       "      <td>4.75B</td>\n",
       "      <td>-2.40%</td>\n",
       "    </tr>\n",
       "    <tr>\n",
       "      <th>8</th>\n",
       "      <td>May 17, 2021</td>\n",
       "      <td>0.486366</td>\n",
       "      <td>0.513062</td>\n",
       "      <td>0.514821</td>\n",
       "      <td>0.457331</td>\n",
       "      <td>6.84B</td>\n",
       "      <td>-5.20%</td>\n",
       "    </tr>\n",
       "    <tr>\n",
       "      <th>9</th>\n",
       "      <td>May 16, 2021</td>\n",
       "      <td>0.513023</td>\n",
       "      <td>0.507796</td>\n",
       "      <td>0.547205</td>\n",
       "      <td>0.449635</td>\n",
       "      <td>8.26B</td>\n",
       "      <td>1.10%</td>\n",
       "    </tr>\n",
       "  </tbody>\n",
       "</table>\n",
       "</div>"
      ],
      "text/plain": [
       "           Date     Price      Open      High       Low    Vol. Change %\n",
       "0  May 25, 2021  0.342400  0.364394  0.379504  0.323238   8.55B   -6.05%\n",
       "1  May 24, 2021  0.364433  0.305975  0.369911  0.295792   8.16B   19.10%\n",
       "2  May 23, 2021  0.305984  0.341509  0.349669  0.249235   9.45B  -10.40%\n",
       "3  May 22, 2021  0.341484  0.358377  0.359675  0.317692   6.33B   -4.72%\n",
       "4  May 21, 2021  0.358401  0.397731  0.411212  0.315049   8.54B   -9.89%\n",
       "5  May 20, 2021  0.397741  0.330407  0.432618  0.297074  13.85B   20.40%\n",
       "6  May 19, 2021  0.330353  0.474719  0.477866  0.217528  19.28B  -30.41%\n",
       "7  May 18, 2021  0.474714  0.486444  0.512529  0.468941   4.75B   -2.40%\n",
       "8  May 17, 2021  0.486366  0.513062  0.514821  0.457331   6.84B   -5.20%\n",
       "9  May 16, 2021  0.513023  0.507796  0.547205  0.449635   8.26B    1.10%"
      ]
     },
     "execution_count": 6,
     "metadata": {},
     "output_type": "execute_result"
    }
   ],
   "source": [
    "doge.head(10)"
   ]
  },
  {
   "cell_type": "code",
   "execution_count": 7,
   "metadata": {},
   "outputs": [
    {
     "data": {
      "text/html": [
       "<div>\n",
       "<style scoped>\n",
       "    .dataframe tbody tr th:only-of-type {\n",
       "        vertical-align: middle;\n",
       "    }\n",
       "\n",
       "    .dataframe tbody tr th {\n",
       "        vertical-align: top;\n",
       "    }\n",
       "\n",
       "    .dataframe thead th {\n",
       "        text-align: right;\n",
       "    }\n",
       "</style>\n",
       "<table border=\"1\" class=\"dataframe\">\n",
       "  <thead>\n",
       "    <tr style=\"text-align: right;\">\n",
       "      <th></th>\n",
       "      <th>Rank</th>\n",
       "      <th>Bank</th>\n",
       "      <th>Country</th>\n",
       "      <th>Market cap, US$b (January 20, 2017)</th>\n",
       "    </tr>\n",
       "  </thead>\n",
       "  <tbody>\n",
       "    <tr>\n",
       "      <th>0</th>\n",
       "      <td>1</td>\n",
       "      <td>JP Morgan Chase &amp; Co</td>\n",
       "      <td>US</td>\n",
       "      <td>299.393</td>\n",
       "    </tr>\n",
       "    <tr>\n",
       "      <th>1</th>\n",
       "      <td>2</td>\n",
       "      <td>Wells Fargo &amp; Co</td>\n",
       "      <td>US</td>\n",
       "      <td>276.578</td>\n",
       "    </tr>\n",
       "    <tr>\n",
       "      <th>2</th>\n",
       "      <td>3</td>\n",
       "      <td>Industrial &amp; Commercial Bank of China (ICBC)</td>\n",
       "      <td>China</td>\n",
       "      <td>229.700</td>\n",
       "    </tr>\n",
       "    <tr>\n",
       "      <th>3</th>\n",
       "      <td>4</td>\n",
       "      <td>Bank of America</td>\n",
       "      <td>US</td>\n",
       "      <td>228.778</td>\n",
       "    </tr>\n",
       "    <tr>\n",
       "      <th>4</th>\n",
       "      <td>5</td>\n",
       "      <td>China Construction Bank</td>\n",
       "      <td>China</td>\n",
       "      <td>186.818</td>\n",
       "    </tr>\n",
       "    <tr>\n",
       "      <th>5</th>\n",
       "      <td>6</td>\n",
       "      <td>HSBC Holdings</td>\n",
       "      <td>UK</td>\n",
       "      <td>165.839</td>\n",
       "    </tr>\n",
       "    <tr>\n",
       "      <th>6</th>\n",
       "      <td>7</td>\n",
       "      <td>Citigroup Inc</td>\n",
       "      <td>US</td>\n",
       "      <td>159.898</td>\n",
       "    </tr>\n",
       "    <tr>\n",
       "      <th>7</th>\n",
       "      <td>8</td>\n",
       "      <td>Agricultural Bank of China</td>\n",
       "      <td>China</td>\n",
       "      <td>148.100</td>\n",
       "    </tr>\n",
       "    <tr>\n",
       "      <th>8</th>\n",
       "      <td>9</td>\n",
       "      <td>Bank of China</td>\n",
       "      <td>China</td>\n",
       "      <td>145.729</td>\n",
       "    </tr>\n",
       "    <tr>\n",
       "      <th>9</th>\n",
       "      <td>10</td>\n",
       "      <td>Commonwealth Bank of Australia</td>\n",
       "      <td>Australia</td>\n",
       "      <td>106.355</td>\n",
       "    </tr>\n",
       "  </tbody>\n",
       "</table>\n",
       "</div>"
      ],
      "text/plain": [
       "   Rank                                          Bank    Country  \\\n",
       "0     1                          JP Morgan Chase & Co         US   \n",
       "1     2                              Wells Fargo & Co         US   \n",
       "2     3  Industrial & Commercial Bank of China (ICBC)      China   \n",
       "3     4                               Bank of America         US   \n",
       "4     5                       China Construction Bank      China   \n",
       "5     6                                 HSBC Holdings         UK   \n",
       "6     7                                 Citigroup Inc         US   \n",
       "7     8                    Agricultural Bank of China      China   \n",
       "8     9                                 Bank of China      China   \n",
       "9    10                Commonwealth Bank of Australia  Australia   \n",
       "\n",
       "   Market cap, US$b (January 20, 2017)  \n",
       "0                              299.393  \n",
       "1                              276.578  \n",
       "2                              229.700  \n",
       "3                              228.778  \n",
       "4                              186.818  \n",
       "5                              165.839  \n",
       "6                              159.898  \n",
       "7                              148.100  \n",
       "8                              145.729  \n",
       "9                              106.355  "
      ]
     },
     "execution_count": 7,
     "metadata": {},
     "output_type": "execute_result"
    }
   ],
   "source": [
    "banks.head(10)"
   ]
  },
  {
   "cell_type": "code",
   "execution_count": 8,
   "metadata": {},
   "outputs": [
    {
     "data": {
      "text/html": [
       "<div>\n",
       "<style scoped>\n",
       "    .dataframe tbody tr th:only-of-type {\n",
       "        vertical-align: middle;\n",
       "    }\n",
       "\n",
       "    .dataframe tbody tr th {\n",
       "        vertical-align: top;\n",
       "    }\n",
       "\n",
       "    .dataframe thead th {\n",
       "        text-align: right;\n",
       "    }\n",
       "</style>\n",
       "<table border=\"1\" class=\"dataframe\">\n",
       "  <thead>\n",
       "    <tr style=\"text-align: right;\">\n",
       "      <th></th>\n",
       "      <th>Timestamp</th>\n",
       "      <th>market-cap</th>\n",
       "    </tr>\n",
       "  </thead>\n",
       "  <tbody>\n",
       "    <tr>\n",
       "      <th>0</th>\n",
       "      <td>1/3/2009 18:15</td>\n",
       "      <td>0</td>\n",
       "    </tr>\n",
       "    <tr>\n",
       "      <th>1</th>\n",
       "      <td>1/14/2009 11:35</td>\n",
       "      <td>0</td>\n",
       "    </tr>\n",
       "    <tr>\n",
       "      <th>2</th>\n",
       "      <td>1/18/2009 8:41</td>\n",
       "      <td>0</td>\n",
       "    </tr>\n",
       "    <tr>\n",
       "      <th>3</th>\n",
       "      <td>1/22/2009 13:30</td>\n",
       "      <td>0</td>\n",
       "    </tr>\n",
       "    <tr>\n",
       "      <th>4</th>\n",
       "      <td>1/25/2009 13:21</td>\n",
       "      <td>0</td>\n",
       "    </tr>\n",
       "    <tr>\n",
       "      <th>5</th>\n",
       "      <td>1/29/2009 13:17</td>\n",
       "      <td>0</td>\n",
       "    </tr>\n",
       "    <tr>\n",
       "      <th>6</th>\n",
       "      <td>2/2/2009 4:03</td>\n",
       "      <td>0</td>\n",
       "    </tr>\n",
       "    <tr>\n",
       "      <th>7</th>\n",
       "      <td>2/5/2009 16:26</td>\n",
       "      <td>0</td>\n",
       "    </tr>\n",
       "    <tr>\n",
       "      <th>8</th>\n",
       "      <td>2/9/2009 3:30</td>\n",
       "      <td>0</td>\n",
       "    </tr>\n",
       "    <tr>\n",
       "      <th>9</th>\n",
       "      <td>2/12/2009 15:28</td>\n",
       "      <td>0</td>\n",
       "    </tr>\n",
       "  </tbody>\n",
       "</table>\n",
       "</div>"
      ],
      "text/plain": [
       "         Timestamp  market-cap\n",
       "0   1/3/2009 18:15           0\n",
       "1  1/14/2009 11:35           0\n",
       "2   1/18/2009 8:41           0\n",
       "3  1/22/2009 13:30           0\n",
       "4  1/25/2009 13:21           0\n",
       "5  1/29/2009 13:17           0\n",
       "6    2/2/2009 4:03           0\n",
       "7   2/5/2009 16:26           0\n",
       "8    2/9/2009 3:30           0\n",
       "9  2/12/2009 15:28           0"
      ]
     },
     "execution_count": 8,
     "metadata": {},
     "output_type": "execute_result"
    }
   ],
   "source": [
    "market_cap.head(10)"
   ]
  },
  {
   "cell_type": "code",
   "execution_count": 9,
   "metadata": {},
   "outputs": [
    {
     "data": {
      "text/html": [
       "<div>\n",
       "<style scoped>\n",
       "    .dataframe tbody tr th:only-of-type {\n",
       "        vertical-align: middle;\n",
       "    }\n",
       "\n",
       "    .dataframe tbody tr th {\n",
       "        vertical-align: top;\n",
       "    }\n",
       "\n",
       "    .dataframe thead th {\n",
       "        text-align: right;\n",
       "    }\n",
       "</style>\n",
       "<table border=\"1\" class=\"dataframe\">\n",
       "  <thead>\n",
       "    <tr style=\"text-align: right;\">\n",
       "      <th></th>\n",
       "      <th>name</th>\n",
       "      <th>slug</th>\n",
       "      <th>value</th>\n",
       "      <th>date_of_information</th>\n",
       "      <th>ranking</th>\n",
       "      <th>region</th>\n",
       "    </tr>\n",
       "  </thead>\n",
       "  <tbody>\n",
       "    <tr>\n",
       "      <th>0</th>\n",
       "      <td>China</td>\n",
       "      <td>china</td>\n",
       "      <td>5,564,000,000,000</td>\n",
       "      <td>2016 est.</td>\n",
       "      <td>1</td>\n",
       "      <td>East Asia/Southeast Asia</td>\n",
       "    </tr>\n",
       "    <tr>\n",
       "      <th>1</th>\n",
       "      <td>United States</td>\n",
       "      <td>united-states</td>\n",
       "      <td>3,902,000,000,000</td>\n",
       "      <td>2016 est.</td>\n",
       "      <td>2</td>\n",
       "      <td>North America</td>\n",
       "    </tr>\n",
       "    <tr>\n",
       "      <th>2</th>\n",
       "      <td>India</td>\n",
       "      <td>india</td>\n",
       "      <td>1,137,000,000,000</td>\n",
       "      <td>2016 est.</td>\n",
       "      <td>3</td>\n",
       "      <td>South Asia</td>\n",
       "    </tr>\n",
       "    <tr>\n",
       "      <th>3</th>\n",
       "      <td>Japan</td>\n",
       "      <td>japan</td>\n",
       "      <td>943,700,000,000</td>\n",
       "      <td>2016 est.</td>\n",
       "      <td>4</td>\n",
       "      <td>East Asia/Southeast Asia</td>\n",
       "    </tr>\n",
       "    <tr>\n",
       "      <th>4</th>\n",
       "      <td>Russia</td>\n",
       "      <td>russia</td>\n",
       "      <td>909,600,000,000</td>\n",
       "      <td>2016 est.</td>\n",
       "      <td>5</td>\n",
       "      <td>Central Asia</td>\n",
       "    </tr>\n",
       "    <tr>\n",
       "      <th>5</th>\n",
       "      <td>Germany</td>\n",
       "      <td>germany</td>\n",
       "      <td>536,500,000,000</td>\n",
       "      <td>2016 est.</td>\n",
       "      <td>6</td>\n",
       "      <td>Europe</td>\n",
       "    </tr>\n",
       "    <tr>\n",
       "      <th>6</th>\n",
       "      <td>Canada</td>\n",
       "      <td>canada</td>\n",
       "      <td>522,200,000,000</td>\n",
       "      <td>2016 est.</td>\n",
       "      <td>7</td>\n",
       "      <td>North America</td>\n",
       "    </tr>\n",
       "    <tr>\n",
       "      <th>7</th>\n",
       "      <td>Brazil</td>\n",
       "      <td>brazil</td>\n",
       "      <td>509,100,000,000</td>\n",
       "      <td>2016 est.</td>\n",
       "      <td>8</td>\n",
       "      <td>South America</td>\n",
       "    </tr>\n",
       "    <tr>\n",
       "      <th>8</th>\n",
       "      <td>Korea, South</td>\n",
       "      <td>korea-south</td>\n",
       "      <td>507,600,000,000</td>\n",
       "      <td>2016 est.</td>\n",
       "      <td>9</td>\n",
       "      <td>East Asia/Southeast Asia</td>\n",
       "    </tr>\n",
       "    <tr>\n",
       "      <th>9</th>\n",
       "      <td>France</td>\n",
       "      <td>france</td>\n",
       "      <td>450,800,000,000</td>\n",
       "      <td>2016 est.</td>\n",
       "      <td>10</td>\n",
       "      <td>Europe</td>\n",
       "    </tr>\n",
       "  </tbody>\n",
       "</table>\n",
       "</div>"
      ],
      "text/plain": [
       "            name           slug              value date_of_information  \\\n",
       "0          China          china  5,564,000,000,000           2016 est.   \n",
       "1  United States  united-states  3,902,000,000,000           2016 est.   \n",
       "2          India          india  1,137,000,000,000           2016 est.   \n",
       "3          Japan          japan    943,700,000,000           2016 est.   \n",
       "4         Russia         russia    909,600,000,000           2016 est.   \n",
       "5        Germany        germany    536,500,000,000           2016 est.   \n",
       "6         Canada         canada    522,200,000,000           2016 est.   \n",
       "7         Brazil         brazil    509,100,000,000           2016 est.   \n",
       "8   Korea, South    korea-south    507,600,000,000           2016 est.   \n",
       "9         France         france    450,800,000,000           2016 est.   \n",
       "\n",
       "   ranking                    region  \n",
       "0        1  East Asia/Southeast Asia  \n",
       "1        2             North America  \n",
       "2        3                South Asia  \n",
       "3        4  East Asia/Southeast Asia  \n",
       "4        5              Central Asia  \n",
       "5        6                    Europe  \n",
       "6        7             North America  \n",
       "7        8             South America  \n",
       "8        9  East Asia/Southeast Asia  \n",
       "9       10                    Europe  "
      ]
     },
     "execution_count": 9,
     "metadata": {},
     "output_type": "execute_result"
    }
   ],
   "source": [
    "energy_consumption.head(10)"
   ]
  },
  {
   "cell_type": "markdown",
   "metadata": {},
   "source": [
    "### Finding about Rows, Columns and Missing values."
   ]
  },
  {
   "cell_type": "code",
   "execution_count": 10,
   "metadata": {},
   "outputs": [
    {
     "name": "stdout",
     "output_type": "stream",
     "text": [
      "<class 'pandas.core.frame.DataFrame'>\n",
      "RangeIndex: 1453 entries, 0 to 1452\n",
      "Data columns (total 7 columns):\n",
      " #   Column    Non-Null Count  Dtype \n",
      "---  ------    --------------  ----- \n",
      " 0   Date      1453 non-null   object\n",
      " 1   Price     1453 non-null   object\n",
      " 2   Open      1453 non-null   object\n",
      " 3   High      1453 non-null   object\n",
      " 4   Low       1453 non-null   object\n",
      " 5   Vol.      1453 non-null   object\n",
      " 6   Change %  1453 non-null   object\n",
      "dtypes: object(7)\n",
      "memory usage: 79.6+ KB\n"
     ]
    }
   ],
   "source": [
    "btc.info()"
   ]
  },
  {
   "cell_type": "code",
   "execution_count": 11,
   "metadata": {},
   "outputs": [
    {
     "name": "stdout",
     "output_type": "stream",
     "text": [
      "<class 'pandas.core.frame.DataFrame'>\n",
      "RangeIndex: 1453 entries, 0 to 1452\n",
      "Data columns (total 7 columns):\n",
      " #   Column    Non-Null Count  Dtype \n",
      "---  ------    --------------  ----- \n",
      " 0   Date      1453 non-null   object\n",
      " 1   Price     1453 non-null   object\n",
      " 2   Open      1453 non-null   object\n",
      " 3   High      1453 non-null   object\n",
      " 4   Low       1453 non-null   object\n",
      " 5   Vol.      1453 non-null   object\n",
      " 6   Change %  1453 non-null   object\n",
      "dtypes: object(7)\n",
      "memory usage: 79.6+ KB\n"
     ]
    }
   ],
   "source": [
    "eth.info()"
   ]
  },
  {
   "cell_type": "code",
   "execution_count": 12,
   "metadata": {},
   "outputs": [
    {
     "name": "stdout",
     "output_type": "stream",
     "text": [
      "<class 'pandas.core.frame.DataFrame'>\n",
      "RangeIndex: 1453 entries, 0 to 1452\n",
      "Data columns (total 7 columns):\n",
      " #   Column    Non-Null Count  Dtype  \n",
      "---  ------    --------------  -----  \n",
      " 0   Date      1453 non-null   object \n",
      " 1   Price     1453 non-null   float64\n",
      " 2   Open      1453 non-null   float64\n",
      " 3   High      1453 non-null   float64\n",
      " 4   Low       1453 non-null   float64\n",
      " 5   Vol.      1453 non-null   object \n",
      " 6   Change %  1453 non-null   object \n",
      "dtypes: float64(4), object(3)\n",
      "memory usage: 79.6+ KB\n"
     ]
    }
   ],
   "source": [
    "doge.info()"
   ]
  },
  {
   "cell_type": "code",
   "execution_count": 13,
   "metadata": {},
   "outputs": [
    {
     "name": "stdout",
     "output_type": "stream",
     "text": [
      "<class 'pandas.core.frame.DataFrame'>\n",
      "RangeIndex: 50 entries, 0 to 49\n",
      "Data columns (total 4 columns):\n",
      " #   Column                               Non-Null Count  Dtype  \n",
      "---  ------                               --------------  -----  \n",
      " 0   Rank                                 50 non-null     int64  \n",
      " 1   Bank                                 50 non-null     object \n",
      " 2   Country                              50 non-null     object \n",
      " 3   Market cap, US$b (January 20, 2017)  50 non-null     float64\n",
      "dtypes: float64(1), int64(1), object(2)\n",
      "memory usage: 1.7+ KB\n"
     ]
    }
   ],
   "source": [
    "banks.info()"
   ]
  },
  {
   "cell_type": "code",
   "execution_count": 14,
   "metadata": {},
   "outputs": [
    {
     "name": "stdout",
     "output_type": "stream",
     "text": [
      "<class 'pandas.core.frame.DataFrame'>\n",
      "RangeIndex: 1501 entries, 0 to 1500\n",
      "Data columns (total 2 columns):\n",
      " #   Column      Non-Null Count  Dtype \n",
      "---  ------      --------------  ----- \n",
      " 0   Timestamp   1501 non-null   object\n",
      " 1   market-cap  1501 non-null   int64 \n",
      "dtypes: int64(1), object(1)\n",
      "memory usage: 23.6+ KB\n"
     ]
    }
   ],
   "source": [
    "market_cap.info()"
   ]
  },
  {
   "cell_type": "code",
   "execution_count": 15,
   "metadata": {},
   "outputs": [
    {
     "name": "stdout",
     "output_type": "stream",
     "text": [
      "<class 'pandas.core.frame.DataFrame'>\n",
      "RangeIndex: 217 entries, 0 to 216\n",
      "Data columns (total 6 columns):\n",
      " #   Column               Non-Null Count  Dtype \n",
      "---  ------               --------------  ----- \n",
      " 0   name                 217 non-null    object\n",
      " 1   slug                 217 non-null    object\n",
      " 2   value                217 non-null    object\n",
      " 3   date_of_information  217 non-null    object\n",
      " 4   ranking              217 non-null    int64 \n",
      " 5   region               217 non-null    object\n",
      "dtypes: int64(1), object(5)\n",
      "memory usage: 10.3+ KB\n"
     ]
    }
   ],
   "source": [
    "energy_consumption.info()"
   ]
  },
  {
   "cell_type": "markdown",
   "metadata": {},
   "source": [
    "### Dimensions of the Data."
   ]
  },
  {
   "cell_type": "code",
   "execution_count": 16,
   "metadata": {},
   "outputs": [
    {
     "data": {
      "text/plain": [
       "(217, 6)"
      ]
     },
     "execution_count": 16,
     "metadata": {},
     "output_type": "execute_result"
    }
   ],
   "source": [
    "btc.shape\n",
    "eth.shape\n",
    "doge.shape\n",
    "banks.shape\n",
    "market_cap.shape\n",
    "energy_consumption.shape"
   ]
  },
  {
   "cell_type": "markdown",
   "metadata": {},
   "source": [
    "### Statistical Summary of Data."
   ]
  },
  {
   "cell_type": "code",
   "execution_count": 17,
   "metadata": {},
   "outputs": [
    {
     "data": {
      "text/html": [
       "<div>\n",
       "<style scoped>\n",
       "    .dataframe tbody tr th:only-of-type {\n",
       "        vertical-align: middle;\n",
       "    }\n",
       "\n",
       "    .dataframe tbody tr th {\n",
       "        vertical-align: top;\n",
       "    }\n",
       "\n",
       "    .dataframe thead th {\n",
       "        text-align: right;\n",
       "    }\n",
       "</style>\n",
       "<table border=\"1\" class=\"dataframe\">\n",
       "  <thead>\n",
       "    <tr style=\"text-align: right;\">\n",
       "      <th></th>\n",
       "      <th>ranking</th>\n",
       "    </tr>\n",
       "  </thead>\n",
       "  <tbody>\n",
       "    <tr>\n",
       "      <th>count</th>\n",
       "      <td>217.000000</td>\n",
       "    </tr>\n",
       "    <tr>\n",
       "      <th>mean</th>\n",
       "      <td>109.488479</td>\n",
       "    </tr>\n",
       "    <tr>\n",
       "      <th>std</th>\n",
       "      <td>63.220961</td>\n",
       "    </tr>\n",
       "    <tr>\n",
       "      <th>min</th>\n",
       "      <td>1.000000</td>\n",
       "    </tr>\n",
       "    <tr>\n",
       "      <th>25%</th>\n",
       "      <td>55.000000</td>\n",
       "    </tr>\n",
       "    <tr>\n",
       "      <th>50%</th>\n",
       "      <td>109.000000</td>\n",
       "    </tr>\n",
       "    <tr>\n",
       "      <th>75%</th>\n",
       "      <td>164.000000</td>\n",
       "    </tr>\n",
       "    <tr>\n",
       "      <th>max</th>\n",
       "      <td>218.000000</td>\n",
       "    </tr>\n",
       "  </tbody>\n",
       "</table>\n",
       "</div>"
      ],
      "text/plain": [
       "          ranking\n",
       "count  217.000000\n",
       "mean   109.488479\n",
       "std     63.220961\n",
       "min      1.000000\n",
       "25%     55.000000\n",
       "50%    109.000000\n",
       "75%    164.000000\n",
       "max    218.000000"
      ]
     },
     "execution_count": 17,
     "metadata": {},
     "output_type": "execute_result"
    }
   ],
   "source": [
    "btc.describe()\n",
    "eth.describe()\n",
    "doge.describe()\n",
    "banks.describe()\n",
    "market_cap.describe()\n",
    "energy_consumption.describe()"
   ]
  },
  {
   "cell_type": "markdown",
   "metadata": {},
   "source": [
    "### Finding Top 10 values of data using sort_value() function."
   ]
  },
  {
   "cell_type": "code",
   "execution_count": null,
   "metadata": {},
   "outputs": [],
   "source": [
    "btc.sort_values([],ascending=False).head(10)"
   ]
  },
  {
   "cell_type": "code",
   "execution_count": null,
   "metadata": {},
   "outputs": [],
   "source": [
    "eth.sort_values([],ascending=False).head(10)"
   ]
  },
  {
   "cell_type": "code",
   "execution_count": null,
   "metadata": {},
   "outputs": [],
   "source": [
    "doge.sort_values([],ascending=False).head(10)"
   ]
  },
  {
   "cell_type": "code",
   "execution_count": null,
   "metadata": {},
   "outputs": [],
   "source": [
    "banks.sort_values([],ascending=False).head(10)"
   ]
  },
  {
   "cell_type": "code",
   "execution_count": null,
   "metadata": {},
   "outputs": [],
   "source": [
    "energy_consumption.sort_values([],ascending=False).head(10)"
   ]
  },
  {
   "cell_type": "markdown",
   "metadata": {},
   "source": [
    "### Finding 5 Maximum and Minimum values using nlargest() and nsmallest()."
   ]
  },
  {
   "cell_type": "code",
   "execution_count": null,
   "metadata": {},
   "outputs": [],
   "source": [
    "btc.nlargest(5,columns=\"\")"
   ]
  },
  {
   "cell_type": "code",
   "execution_count": null,
   "metadata": {},
   "outputs": [],
   "source": [
    "btc.nsmallest(5,columns=\"\")"
   ]
  },
  {
   "cell_type": "code",
   "execution_count": null,
   "metadata": {},
   "outputs": [],
   "source": [
    "eth.nlargest(5,columns=\"\")"
   ]
  },
  {
   "cell_type": "code",
   "execution_count": null,
   "metadata": {},
   "outputs": [],
   "source": [
    "eth.nsmallest(5,columns=\"\")"
   ]
  },
  {
   "cell_type": "code",
   "execution_count": null,
   "metadata": {},
   "outputs": [],
   "source": [
    "doge.nlargest(5,columns=\"\")"
   ]
  },
  {
   "cell_type": "code",
   "execution_count": null,
   "metadata": {},
   "outputs": [],
   "source": [
    "doge.nsmallest(5,columns=\"\")"
   ]
  },
  {
   "cell_type": "code",
   "execution_count": null,
   "metadata": {},
   "outputs": [],
   "source": [
    "banks.nlargest(5,columns=\"\")"
   ]
  },
  {
   "cell_type": "code",
   "execution_count": null,
   "metadata": {},
   "outputs": [],
   "source": [
    "banks.nsmallest(5,columns=\"\")"
   ]
  },
  {
   "cell_type": "code",
   "execution_count": null,
   "metadata": {},
   "outputs": [],
   "source": [
    "energy_consumption.nlargest(5,columns=\"\")"
   ]
  },
  {
   "cell_type": "code",
   "execution_count": null,
   "metadata": {},
   "outputs": [],
   "source": [
    "enenrgy_consumption.nsmallest(5,columns=\"\")"
   ]
  },
  {
   "cell_type": "markdown",
   "metadata": {},
   "source": [
    "### Plots"
   ]
  },
  {
   "cell_type": "code",
   "execution_count": null,
   "metadata": {},
   "outputs": [],
   "source": [
    "# Largest and Smallest values side by side \n",
    "# Pie chart of average market share for 1 year of 3 coins \n",
    "# "
   ]
  }
 ],
 "metadata": {
  "kernelspec": {
   "display_name": "Python 3",
   "language": "python",
   "name": "python3"
  },
  "language_info": {
   "codemirror_mode": {
    "name": "ipython",
    "version": 3
   },
   "file_extension": ".py",
   "mimetype": "text/x-python",
   "name": "python",
   "nbconvert_exporter": "python",
   "pygments_lexer": "ipython3",
   "version": "3.8.5"
  }
 },
 "nbformat": 4,
 "nbformat_minor": 4
}
